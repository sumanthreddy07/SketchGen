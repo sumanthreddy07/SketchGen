{
 "cells": [
  {
   "cell_type": "markdown",
   "metadata": {
    "id": "pd2Bj8kwDoHg"
   },
   "source": [
    "# **SketchGen**"
   ]
  },
  {
   "cell_type": "markdown",
   "metadata": {
    "id": "89KOMB5gmKOl"
   },
   "source": [
    "## **1.Load the folder contents**\n",
    "Use any of the below options to load the contents\n",
    "\n",
    "1. **Access through Google Drive** (preferred method to train and create weights. Weights are saved in your drive folder) \n",
    "2. **Access through GitHub** (preferred method to work on pre trained models)\n"
   ]
  },
  {
   "cell_type": "markdown",
   "metadata": {
    "id": "u-r9N7IQnauD"
   },
   "source": [
    "### **1.1 Load contents from Google Drive**\n",
    "\n"
   ]
  },
  {
   "cell_type": "markdown",
   "metadata": {
    "id": "hIjavwJFstDA"
   },
   "source": [
    "Place the SketchGen folder in your google drive and then run the below code."
   ]
  },
  {
   "cell_type": "code",
   "execution_count": null,
   "metadata": {
    "colab": {
     "base_uri": "https://localhost:8080/"
    },
    "id": "Zba1Huq8nZV4",
    "outputId": "1b5e8df7-afca-4344-b513-8f26685e1306"
   },
   "outputs": [
    {
     "name": "stdout",
     "output_type": "stream",
     "text": [
      "Mounted at /content/drive\n"
     ]
    }
   ],
   "source": [
    "from google.colab import drive\n",
    "drive.mount('/content/drive')"
   ]
  },
  {
   "cell_type": "code",
   "execution_count": null,
   "metadata": {
    "colab": {
     "base_uri": "https://localhost:8080/"
    },
    "id": "p_hOsPzQnxMW",
    "outputId": "4f58d431-91f9-4701-fae1-76adf23c5d5f"
   },
   "outputs": [
    {
     "name": "stdout",
     "output_type": "stream",
     "text": [
      "/content/drive/MyDrive/SketchGen\n"
     ]
    }
   ],
   "source": [
    "%cd drive/MyDrive/SketchGen/"
   ]
  },
  {
   "cell_type": "markdown",
   "metadata": {
    "id": "peEeoFdPowu5"
   },
   "source": [
    "### **1.2 Load contents from GitHub**"
   ]
  },
  {
   "cell_type": "markdown",
   "metadata": {
    "id": "9N6xKEA5s7Os"
   },
   "source": [
    "the folder will be uploaded from [SketchGen](https://github.com/sumanthreddy07/SketchGen)."
   ]
  },
  {
   "cell_type": "code",
   "execution_count": null,
   "metadata": {
    "id": "eUaPU9mFo9wn"
   },
   "outputs": [],
   "source": [
    "!git clone https://github.com/sumanthreddy07/SketchGen.git"
   ]
  },
  {
   "cell_type": "code",
   "execution_count": null,
   "metadata": {
    "id": "PYlJO5ilFvjW"
   },
   "outputs": [],
   "source": [
    "%cd SketchGen/"
   ]
  },
  {
   "cell_type": "markdown",
   "metadata": {
    "id": "RGWGy7PypY4F"
   },
   "source": [
    "## **2. Training the model on a dataset(s)**\n",
    "\n",
    "**NOTE: Skip this block if you are working on pre-trained models**\n",
    "\n",
    "default dataset = cat\n",
    "\n",
    "- training on a specific dataset can be made using the <code>--dataset</code> argument.\n",
    "- training multiple datasets on a single model is made by editing the hyperparameters in the seq2seqVAE.py file -> <code>'data_set': ['first_dataset','second_dataset']</code>"
   ]
  },
  {
   "cell_type": "code",
   "execution_count": 1,
   "metadata": {
    "id": "ce9xEb7LqCpo"
   },
   "outputs": [],
   "source": [
    "#Run this code block to avoid printing tensorflow logs\n",
    "import logging\n",
    "import os\n",
    "\n",
    "os.environ['TF_CPP_MIN_LOG_LEVEL'] = '3'  # FATAL\n",
    "logging.getLogger('tensorflow').setLevel(logging.FATAL)"
   ]
  },
  {
   "cell_type": "code",
   "execution_count": null,
   "metadata": {
    "colab": {
     "base_uri": "https://localhost:8080/"
    },
    "id": "3Bxw0QoqEU5X",
    "outputId": "3e9b3a80-4dcd-49b8-d02f-523dd8ddc6e6"
   },
   "outputs": [],
   "source": [
    "!python3 seq2seqVAE_train.py --data_set=cat"
   ]
  },
  {
   "cell_type": "markdown",
   "metadata": {
    "id": "QwpXkazyrdl8"
   },
   "source": [
    "## **3. Load the weights of the model and animate the results**"
   ]
  },
  {
   "cell_type": "markdown",
   "metadata": {
    "id": "8YeOONGvtJ2A"
   },
   "source": [
    "We look into the models trained using [SketchGen](https://github.com/sumanthreddy07/SketchGen). We load the models, draw random sketches presented by the model travel along the latent space and explore what our model has learned."
   ]
  },
  {
   "cell_type": "code",
   "execution_count": 1,
   "metadata": {
    "id": "XL35VyQ-DoHu"
   },
   "outputs": [],
   "source": [
    "#dataset used\n",
    "name = \"leaf\"\n",
    "#datasets directory \n",
    "data_dir  = 'datasets'\n",
    "# Path to the experiment directory that was created during training\n",
    "exp_dir = 'experiments/'+name+'/exp'\n",
    "# Checkpoint file name (assumed in checkpoints folder within exp_dir)\n",
    "weights_fname = name+\".hdf5\""
   ]
  },
  {
   "cell_type": "markdown",
   "metadata": {
    "id": "nT4VJOQOuGTS"
   },
   "source": [
    "#### **Imports**"
   ]
  },
  {
   "cell_type": "code",
   "execution_count": 2,
   "metadata": {
    "id": "4T1uv1IuDoHw"
   },
   "outputs": [],
   "source": [
    "import os\n",
    "import copy\n",
    "from utils import *\n",
    "from seq2seqVAE_train import *\n",
    "import seq2seqVAE as sketch_rnn_model\n",
    "from seq2seqVAE import sample"
   ]
  },
  {
   "cell_type": "code",
   "execution_count": 3,
   "metadata": {
    "id": "KE3QrxfWDoHx"
   },
   "outputs": [],
   "source": [
    "# libraries required for visualisation:\n",
    "from IPython.display import SVG, display\n",
    "import PIL\n",
    "from PIL import Image\n",
    "import matplotlib.pyplot as plt\n",
    "import svgwrite\n",
    "from svglib.svglib import svg2rlg\n",
    "from reportlab.graphics import renderPM\n",
    "import glob\n",
    "\n",
    "# set numpy output to something sensible\n",
    "np.set_printoptions(precision=8, edgeitems=6, linewidth=200, suppress=True)"
   ]
  },
  {
   "cell_type": "markdown",
   "metadata": {
    "id": "nT4VJOQOuGTS"
   },
   "source": [
    "- draw_strokes() function draws a SVG image from the stroke data\n",
    "- make_grid_svg() function is responsible for the 2d grid of the image\n",
    "\n",
    "- animate() function saves the list of SVG images in a folder, converts them into PNG format and creates a GIF animation. The gifs are stored in the animations folder."
   ]
  },
  {
   "cell_type": "code",
   "execution_count": 4,
   "metadata": {},
   "outputs": [],
   "source": [
    "# little function that displays vector images and saves them to .svg\n",
    "def draw_strokes(data, factor=0.05, svg_filename = 'SVG/sample.svg'):\n",
    "    \n",
    "    if not os.path.exists(os.path.dirname(svg_filename)):\n",
    "        os.makedirs(os.path.dirname(svg_filename))\n",
    "    \n",
    "    min_x, max_x, min_y, max_y = get_bounds(data, factor)\n",
    "    dims = (100 + max_x - min_x, 100 + max_y - min_y)\n",
    "    dwg = svgwrite.Drawing(svg_filename, size=dims)\n",
    "    dwg.add(dwg.rect(insert=(0, 0), size=dims,fill='white'))\n",
    "    lift_pen = 1\n",
    "    abs_x = 50 - min_x \n",
    "    abs_y = 50 - min_y\n",
    "    \n",
    "    p = \"M%s,%s \" % (abs_x, abs_y)\n",
    "    command = \"m\"\n",
    "    for i in range(len(data)):\n",
    "        if (lift_pen == 1):\n",
    "            command = \"m\"\n",
    "        elif (command != \"l\"):\n",
    "            command = \"l\"\n",
    "        else:\n",
    "            command = \"\"\n",
    "        x = float(data[i,0])/factor\n",
    "        y = float(data[i,1])/factor\n",
    "        lift_pen = data[i, 2]\n",
    "        p += command+str(x)+\",\"+str(y)+\" \"\n",
    "    the_color = \"black\"\n",
    "    stroke_width = 1\n",
    "    dwg.add(dwg.path(p).stroke(the_color,stroke_width).fill(\"none\"))\n",
    "    dwg.save()\n",
    "    display(SVG(dwg.tostring()))\n",
    "\n",
    "# generate a 2D grid of many vector drawings\n",
    "def make_grid_svg(s_list, grid_space=10.0, grid_space_x=16.0):\n",
    "    def get_start_and_end(x):\n",
    "        x = np.array(x)\n",
    "        x = x[:, 0:2]\n",
    "        x_start = x[0]\n",
    "        x_end = x.sum(axis=0)\n",
    "        x = x.cumsum(axis=0)\n",
    "        x_max = x.max(axis=0)\n",
    "        x_min = x.min(axis=0)\n",
    "        center_loc = (x_max+x_min)*0.5\n",
    "        return x_start-center_loc, x_end\n",
    "    x_pos = 0.0\n",
    "    y_pos = 0.0\n",
    "    result = [[x_pos, y_pos, 1]]\n",
    "    for sample in s_list:\n",
    "        s = sample[0]\n",
    "        grid_loc = sample[1]\n",
    "        grid_y = grid_loc[0]*grid_space+grid_space*0.5\n",
    "        grid_x = grid_loc[1]*grid_space_x+grid_space_x*0.5\n",
    "        start_loc, delta_pos = get_start_and_end(s)\n",
    "    \n",
    "        loc_x = start_loc[0]\n",
    "        loc_y = start_loc[1]\n",
    "        new_x_pos = grid_x+loc_x\n",
    "        new_y_pos = grid_y+loc_y\n",
    "        result.append([new_x_pos-x_pos, new_y_pos-y_pos, 0])\n",
    "    \n",
    "        result += s.tolist()\n",
    "        result[-1][2] = 1\n",
    "        x_pos = new_x_pos+delta_pos[0]\n",
    "        y_pos = new_y_pos+delta_pos[1]\n",
    "    return np.array(result)"
   ]
  },
  {
   "cell_type": "code",
   "execution_count": 5,
   "metadata": {},
   "outputs": [],
   "source": [
    "def animate(data,name,factor=0.05,svg_filename='SVG/animate',animation_folder = 'animations/animation'):\n",
    "    \n",
    "    if os.path.exists(os.path.dirname(svg_filename)):\n",
    "        files = glob.glob('SVG/*')\n",
    "        for f in files:\n",
    "            os.remove(f)\n",
    "    else:\n",
    "        os.makedirs(os.path.dirname(svg_filename))\n",
    "\n",
    "    if not os.path.exists(os.path.dirname(animation_folder)):\n",
    "        os.makedirs(os.path.dirname(animation_folder))\n",
    "\n",
    "    min_x, max_x, min_y, max_y = get_bounds(data, factor)\n",
    "    dims = (100 + max_x - min_x, 100 + max_y - min_y)\n",
    "    dwg = svgwrite.Drawing(svg_filename, size=dims)\n",
    "    dwg.add(dwg.rect(insert=(0, 0), size=dims,fill='white'))\n",
    "    lift_pen = 1\n",
    "    abs_x = 50 - min_x \n",
    "    abs_y = 50 - min_y\n",
    "    \n",
    "    the_color = \"black\"\n",
    "    stroke_width = 4\n",
    "    p = \"M%s,%s \" % (abs_x, abs_y)\n",
    "    command = \"m\"\n",
    "    \n",
    "    for i in range(len(data)):\n",
    "        if (lift_pen == 1):\n",
    "            command = \"m\"\n",
    "        elif (command != \"l\"):\n",
    "            command = \"l\"\n",
    "        else:\n",
    "            command = \"\"\n",
    "        x = float(data[i,0])/factor\n",
    "        y = float(data[i,1])/factor\n",
    "        lift_pen = data[i, 2]\n",
    "\n",
    "        p += command+str(x)+\",\"+str(y)+\" \"\n",
    "        dwg = svgwrite.Drawing(svg_filename+str(i)+'.svg', size=dims)\n",
    "        dwg.add(dwg.rect(insert=(0, 0), size=dims,fill='white'))\n",
    "        dwg.add(dwg.path(p).stroke(the_color,stroke_width).fill(\"none\"))\n",
    "        dwg.save()\n",
    "        drawing = svg2rlg(svg_filename+str(i)+'.svg')\n",
    "        renderPM.drawToFile(drawing,svg_filename+str(i)+'.png', fmt=\"PNG\")\n",
    "        os.remove(svg_filename+str(i)+'.svg')\n",
    "        \n",
    "    dwg = svgwrite.Drawing(svg_filename+str(len(data))+'.svg', size=dims)\n",
    "    dwg.add(dwg.rect(insert=(0, 0), size=dims,fill='white'))\n",
    "    dwg.add(dwg.path(p).stroke(the_color,stroke_width).fill(\"none\"))\n",
    "    #display(SVG(dwg.tostring()))\n",
    "    dwg.save()\n",
    "    drawing = svg2rlg(svg_filename+str(len(data))+'.svg')\n",
    "    renderPM.drawToFile(drawing,svg_filename+str(len(data))+'.png', fmt=\"PNG\")\n",
    "    os.remove(svg_filename+str(len(data))+'.svg')\n",
    "    \n",
    "    # Create the frames\n",
    "    frames = []\n",
    "    for i in range(len(data)+1):\n",
    "        new_frame = Image.open(svg_filename+str(i)+\".png\")\n",
    "        frames.append(new_frame)\n",
    "     \n",
    "    #Save into a GIF file that loops forever\n",
    "    count = 0\n",
    "    animation_path = animation_folder+'_'+name\n",
    "    while os.path.exists(animation_path+str(count)+\".gif\"):\n",
    "        count += 1\n",
    "    animation_path = animation_path+str(count)+\".gif\"\n",
    "\n",
    "    frames[0].save(animation_path, format='GIF',append_images=frames[1:],\n",
    "                save_all=True, duration=150, loop=0)"
   ]
  },
  {
   "cell_type": "markdown",
   "metadata": {
    "id": "ApWA5dbHDoH1"
   },
   "source": [
    "#### **Load Data**"
   ]
  },
  {
   "cell_type": "code",
   "execution_count": 6,
   "metadata": {
    "colab": {
     "base_uri": "https://localhost:8080/"
    },
    "id": "O1qoQ5BeDoH1",
    "outputId": "f2638be5-4b76-444a-8655-a9a51df2b19f"
   },
   "outputs": [
    {
     "name": "stdout",
     "output_type": "stream",
     "text": [
      "Loaded 108285/2500/2500 from leaf.npz\n",
      "Dataset combined: 113285 (108285/2500/2500), avg len 38\n",
      "model_params.max_seq_len: 74\n",
      "total images <= max_seq_len is 108285\n",
      "total images <= max_seq_len is 2500\n",
      "total images <= max_seq_len is 2500\n"
     ]
    }
   ],
   "source": [
    "with open(os.path.join(exp_dir,'logs', 'model_config.json'), 'r') as f:\n",
    "    model_params = json.load(f)\n",
    "model_params = DotDict(model_params)   \n",
    "[train_set, valid_set, test_set, hps_model] = load_dataset(data_dir, model_params)"
   ]
  },
  {
   "cell_type": "markdown",
   "metadata": {
    "id": "jrrAK-RHDoH4"
   },
   "source": [
    "#### **Building a Seq2seq Variational Autoencoder model**"
   ]
  },
  {
   "cell_type": "code",
   "execution_count": 7,
   "metadata": {
    "colab": {
     "base_uri": "https://localhost:8080/"
    },
    "id": "EU1avfq8DoH4",
    "outputId": "30e60ea7-f0e7-419f-d75e-13172c540e28"
   },
   "outputs": [
    {
     "name": "stdout",
     "output_type": "stream",
     "text": [
      "Model: \"model\"\n",
      "__________________________________________________________________________________________________\n",
      "Layer (type)                    Output Shape         Param #     Connected to                     \n",
      "==================================================================================================\n",
      "encoder_input (InputLayer)      [(None, 74, 5)]      0                                            \n",
      "__________________________________________________________________________________________________\n",
      "bidirectional (Bidirectional)   (None, 512)          536576      encoder_input[0][0]              \n",
      "__________________________________________________________________________________________________\n",
      "dense (Dense)                   (None, 128)          65664       bidirectional[0][0]              \n",
      "__________________________________________________________________________________________________\n",
      "dense_1 (Dense)                 (None, 128)          65664       bidirectional[0][0]              \n",
      "__________________________________________________________________________________________________\n",
      "lambda (Lambda)                 (None, 128)          0           dense[0][0]                      \n",
      "                                                                 dense_1[0][0]                    \n",
      "__________________________________________________________________________________________________\n",
      "decoder_input (InputLayer)      [(None, 74, 5)]      0                                            \n",
      "__________________________________________________________________________________________________\n",
      "repeat_vector (RepeatVector)    (None, 74, 128)      0           lambda[0][0]                     \n",
      "__________________________________________________________________________________________________\n",
      "dec_initial_state (Dense)       (None, 1024)         132096      lambda[0][0]                     \n",
      "__________________________________________________________________________________________________\n",
      "concatenate (Concatenate)       (None, 74, 133)      0           decoder_input[0][0]              \n",
      "                                                                 repeat_vector[0][0]              \n",
      "__________________________________________________________________________________________________\n",
      "tf_op_layer_strided_slice (Tens [(None, 512)]        0           dec_initial_state[0][0]          \n",
      "__________________________________________________________________________________________________\n",
      "tf_op_layer_strided_slice_1 (Te [(None, 512)]        0           dec_initial_state[0][0]          \n",
      "__________________________________________________________________________________________________\n",
      "lstm_1 (LSTM)                   [(None, 74, 512), (N 1323008     concatenate[0][0]                \n",
      "                                                                 tf_op_layer_strided_slice[0][0]  \n",
      "                                                                 tf_op_layer_strided_slice_1[0][0]\n",
      "__________________________________________________________________________________________________\n",
      "output (Dense)                  (None, 74, 123)      63099       lstm_1[0][0]                     \n",
      "==================================================================================================\n",
      "Total params: 2,186,107\n",
      "Trainable params: 2,186,107\n",
      "Non-trainable params: 0\n",
      "__________________________________________________________________________________________________\n",
      "Weights from experiments/leaf/exp/checkpoints/leaf.hdf5 loaded successfully\n",
      "Created Sub Models!\n"
     ]
    }
   ],
   "source": [
    "weights = os.path.join(exp_dir,'checkpoints',weights_fname) # checkpoint path\n",
    "seq2seq = Seq2seqModel(model_params)  # build model\n",
    "seq2seq.load_trained_weights(weights) # load checkpoint\n",
    "seq2seq.make_sampling_models()  # build sub models that are used to infuse inputs and probe values of intermediate layers"
   ]
  },
  {
   "cell_type": "code",
   "execution_count": 8,
   "metadata": {
    "id": "agCa0XRMDoH5"
   },
   "outputs": [],
   "source": [
    "# Function for encoding input and retrieving latent vector\n",
    "def encode(input_strokes, draw=False):\n",
    "    strokes = to_big_strokes(input_strokes, max_len=model_params['max_seq_len']-1).tolist()\n",
    "    strokes.insert(0, [0, 0, 1, 0, 0])\n",
    "    seq_len = [len(input_strokes)]\n",
    "    if draw:\n",
    "        draw_strokes(to_normal_strokes(np.array(strokes)))\n",
    "    strokes = np.expand_dims(strokes, axis=0)\n",
    "    return seq2seq.sample_models['encoder_model'].predict(strokes)\n"
   ]
  },
  {
   "cell_type": "code",
   "execution_count": 9,
   "metadata": {
    "id": "YD89hno3DoH6"
   },
   "outputs": [],
   "source": [
    "# Function for decoding a latent space factor into a sketch\n",
    "def decode(z_input=None, draw_mode=True, temperature=0.1, factor=0.05):\n",
    "    z = None\n",
    "    if z_input is not None:\n",
    "        z = z_input\n",
    "    sample_strokes, m = sample(seq2seq, seq_len=model_params.max_seq_len, temperature=temperature, z=z)\n",
    "    strokes = to_normal_strokes(sample_strokes)\n",
    "    if draw_mode:\n",
    "        draw_strokes(strokes, factor)\n",
    "    return strokes"
   ]
  },
  {
   "cell_type": "markdown",
   "metadata": {
    "id": "oM4hdFk2DoH7"
   },
   "source": [
    "#### **Load a random sketch from the test dataset**"
   ]
  },
  {
   "cell_type": "code",
   "execution_count": 103,
   "metadata": {
    "colab": {
     "base_uri": "https://localhost:8080/",
     "height": 403
    },
    "id": "V_bDCa2EDoH7",
    "outputId": "2663993a-6af9-4232-fd95-54ccf3e55250",
    "scrolled": false
   },
   "outputs": [
    {
     "data": {
      "image/svg+xml": [
       "<svg baseProfile=\"full\" height=\"228.53419661521912\" version=\"1.1\" width=\"147.7634620666504\" xmlns=\"http://www.w3.org/2000/svg\" xmlns:ev=\"http://www.w3.org/2001/xml-events\" xmlns:xlink=\"http://www.w3.org/1999/xlink\"><defs/><rect fill=\"white\" height=\"228.53419661521912\" width=\"147.7634620666504\" x=\"0\" y=\"0\"/><path d=\"M56.60145416855812,178.53419661521912 m0.0,-6.601454019546509 l5.824812650680542,-20.58100461959839 17.474437952041626,-50.09338855743408 l5.436491966247559,-22.5226092338562 m-26.017496585845947,66.40286445617676 l2.7182459831237793,2.7182459831237793 -6.213133335113525,-12.42626667022705 l-5.436491966247559,-21.357645988464355 -0.38832083344459534,-12.814587354660034 l1.9416041672229767,-8.543058633804321 2.329925000667572,-4.271529316902161 l7.766416668891907,-7.766416668891907 16.30947470664978,-8.543058633804321 l12.814587354660034,-9.319700002670288 6.213133335113525,-12.814587354660034 l0.38832083344459534,2.329925000667572 -4.271529316902161,33.00727128982544 l0.0,20.58100461959839 2.329925000667572,23.687570095062256 l-1.164962500333786,12.814587354660034 -4.659850001335144,10.872983932495117 l-3.1065666675567627,4.271529316902161 -6.213133335113525,4.659850001335144 l-7.766416668891907,1.5532833337783813 -7.378095984458923,-3.8832083344459534 m11.2613046169281,-41.16200923919678 l5.436491966247559,-6.98977530002594 13.591228723526001,-11.649625301361084 m-26.794137954711914,37.66712188720703 l20.19268274307251,-13.591228723526001 m-21.745967864990234,13.97955060005188 l-2.329925000667572,-17.086117267608643 -7.378095984458923,-22.91092872619629 m23.687570095062256,16.69779658317566 l-10.872983932495117,-40.7736873626709 \" fill=\"none\" stroke=\"black\" stroke-width=\"1\"/></svg>"
      ],
      "text/plain": [
       "<IPython.core.display.SVG object>"
      ]
     },
     "metadata": {},
     "output_type": "display_data"
    }
   ],
   "source": [
    "stroke = test_set.random_sample()\n",
    "draw_strokes(stroke)"
   ]
  },
  {
   "cell_type": "code",
   "execution_count": 104,
   "metadata": {
    "id": "LKZ6v3dPDoH-"
   },
   "outputs": [],
   "source": [
    "z = encode(stroke)"
   ]
  },
  {
   "cell_type": "code",
   "execution_count": 111,
   "metadata": {
    "colab": {
     "base_uri": "https://localhost:8080/",
     "height": 362
    },
    "id": "pVq-aWUaDoH_",
    "outputId": "b2ff46ca-fe87-42ae-c058-83b6463c768e"
   },
   "outputs": [
    {
     "data": {
      "image/svg+xml": [
       "<svg baseProfile=\"full\" height=\"217.27840648964047\" version=\"1.1\" width=\"154.31383406743407\" xmlns=\"http://www.w3.org/2000/svg\" xmlns:ev=\"http://www.w3.org/2001/xml-events\" xmlns:xlink=\"http://www.w3.org/1999/xlink\"><defs/><rect fill=\"white\" height=\"217.27840648964047\" width=\"154.31383406743407\" x=\"0\" y=\"0\"/><path d=\"M62.629150031134486,167.27840648964047 m0.08904085494577885,-0.09079622104763985 l-0.22924009710550308,-6.5498656034469604 5.147508382797241,-20.575761795043945 l14.504297971725464,-53.44552993774414 15.293811559677124,-21.44002676010132 m-31.660678386688232,82.82757759094238 l-8.478199243545532,-7.275900840759277 -4.800586402416229,-9.776715636253357 l-2.495104670524597,-13.449618816375732 1.0910949856042862,-13.114027976989746 l4.081823527812958,-10.051952600479126 4.842822551727295,-6.885107755661011 l11.540977954864502,-11.112293004989624 9.145949482917786,-7.4092793464660645 l7.174578309059143,-5.57310163974762 12.338875532150269,-13.356006145477295 l-0.21067636087536812,6.944236755371094 3.5831695795059204,38.128559589385986 l0.7252185046672821,17.732830047607422 -1.7538176476955414,17.51600742340088 l-3.475363254547119,10.217093229293823 -4.414328634738922,6.924731135368347 l-6.0998135805130005,5.600524544715881 -10.60099482536316,5.62812864780426 l-5.597735047340393,1.0279055684804916 -5.182391405105591,-2.605082094669342 m10.483421087265015,-45.285024642944336 l6.5233612060546875,-8.815657496452332 11.488344669342041,-10.22026538848877 m-17.223498821258545,23.263065814971924 l15.755175352096558,-9.011515974998474 m-16.469537019729614,17.055795192718506 l15.85557222366333,-4.023629128932953 6.448941230773926,-2.56374329328537 m-24.80241060256958,-11.256623268127441 l-3.786689043045044,-25.704386234283447 \" fill=\"none\" stroke=\"black\" stroke-width=\"1\"/></svg>"
      ],
      "text/plain": [
       "<IPython.core.display.SVG object>"
      ]
     },
     "metadata": {},
     "output_type": "display_data"
    }
   ],
   "source": [
    "x = decode(z, temperature=0.5)"
   ]
  },
  {
   "cell_type": "code",
   "execution_count": 112,
   "metadata": {
    "id": "2ecj-iA5OVH6"
   },
   "outputs": [],
   "source": [
    "animate(x,name)"
   ]
  },
  {
   "cell_type": "markdown",
   "metadata": {
    "id": "r5rysK8sDoIA"
   },
   "source": [
    "#### **Temperature of the outputs**\n",
    "The temperature variable controls the level of randomness we would like our samples to have during the sampling (equation 8 of the sketch-rnn [paper](https://arxiv.org/pdf/1704.03477.pdf)).\n",
    "\n",
    "Let's decode our model output using varying temperature values between 0.1 and 1 and see how 'creative' our model can get"
   ]
  },
  {
   "cell_type": "code",
   "execution_count": 113,
   "metadata": {
    "colab": {
     "base_uri": "https://localhost:8080/",
     "height": 447
    },
    "id": "WTgs0dhrDoIA",
    "outputId": "5a18a482-ec56-4f5d-8f34-09659a2d05d3",
    "scrolled": true
   },
   "outputs": [
    {
     "data": {
      "image/svg+xml": [
       "<svg baseProfile=\"full\" height=\"271.2432322651148\" version=\"1.1\" width=\"3169.3154350155964\" xmlns=\"http://www.w3.org/2000/svg\" xmlns:ev=\"http://www.w3.org/2001/xml-events\" xmlns:xlink=\"http://www.w3.org/1999/xlink\"><defs/><rect fill=\"white\" height=\"271.2432322651148\" width=\"3169.3154350155964\" x=\"0\" y=\"0\"/><path d=\"M50,50 m0.0,0.0 m143.6582969687879,161.55244424939156 l0.05569275002926588,-0.06660067476332188 -0.28303975239396095,-6.544055938720703 l5.288923382759094,-20.474791526794434 15.401942729949951,-54.928154945373535 l12.269222736358643,-19.012726545333862 m-27.657439708709717,75.89003562927246 l-5.960181355476379,-4.700250923633575 -5.500656366348267,-10.02318263053894 l-3.816792666912079,-16.179730892181396 0.6452218443155289,-12.250680923461914 l3.4446343779563904,-8.787581324577332 6.000682711601257,-8.30906629562378 l7.665650844573975,-7.232768535614014 8.767880201339722,-6.490157246589661 l16.221754550933838,-13.167937994003296 6.84276819229126,-10.89383840560913 l-2.42264986038208,12.276612520217896 1.5606868267059326,23.542516231536865 l4.472818374633789,29.661505222320557 -0.733969509601593,15.262724161148071 l-3.991062045097351,11.715062856674194 -6.06636643409729,8.813557028770447 l-8.647592663764954,6.975928544998169 -9.72369134426117,3.612014949321747 l-5.145323872566223,-0.04150388762354851 -2.1626536548137665,-2.272854447364807 m13.061500787734985,-42.79954433441162 l10.342025756835938,-8.792109489440918 10.377087593078613,-9.143293499946594 m-22.24940776824951,16.23550534248352 l-7.531827092170715,-18.108562231063843 m6.1202263832092285,27.894675731658936 l17.81848907470703,-5.662711262702942 m-25.59389591217041,19.623769521713257 l-5.957406163215637,-13.923014402389526 -2.733474373817444,-5.981393456459045 m318.9226392703131,53.00043231807649 l0.0428652111440897,-0.057051703333854675 -0.2822207286953926,-6.548115015029907 l5.321936011314392,-20.587177276611328 16.55815601348877,-56.8889856338501 l10.292633771896362,-16.18325114250183 m-26.583187580108643,75.97856998443604 l-6.59376323223114,-6.32679283618927 -7.2557079792022705,-14.99200701713562 l-1.4403146505355835,-9.957830309867859 0.877530500292778,-12.301037311553955 l3.4448403120040894,-9.324252009391785 3.560227155685425,-5.916288495063782 l6.712159514427185,-7.2905731201171875 17.64243721961975,-13.190838098526001 l7.497542500495911,-7.152620553970337 7.099398970603943,-9.859346151351929 l-1.2178685516119003,13.293380737304688 2.4692147970199585,23.20274829864502 l3.869163990020752,30.71291446685791 -1.1708685010671616,14.969727993011475 l-4.312266409397125,11.33482813835144 -7.126811146736145,8.873279690742493 l-8.907915949821472,5.644221305847168 -6.427600383758545,1.502130776643753 l-4.007388949394226,-0.9616578370332718 -1.8028657138347626,-3.104686439037323 m10.297086238861084,-41.51115417480469 l-1.5444594621658325,-14.081133604049683 -3.10990571975708,-15.579448938369751 m8.595104217529297,31.282742023468018 l22.006752490997314,-12.296502590179443 m-25.347628593444824,22.41309404373169 l-8.260825872421265,-16.72861337661743 -2.8280192613601685,-8.63509714603424 m11.174426078796387,40.17035961151123 l24.333343505859375,-8.421689867973328 m276.4479748066515,37.78608366847038 l0.03611833089962602,-0.0481945788487792 -0.28204092755913734,-6.48539125919342 l5.265733003616333,-20.32982349395752 17.298847436904907,-56.487460136413574 l10.102897882461548,-18.240435123443604 m-25.870931148529053,75.2018690109253 l-5.939499735832214,-5.2652907371521 -7.427361011505127,-13.387595415115356 l-1.8583808839321136,-11.297314167022705 0.6130721420049667,-13.170360326766968 l2.1143710613250732,-6.914806365966797 6.149340867996216,-10.14782428741455 l8.459770679473877,-8.553394079208374 8.514084815979004,-6.005565524101257 l15.834336280822754,-13.714234828948975 4.583600163459778,-4.278778433799744 l1.0001377761363983,4.235645234584808 0.612565316259861,37.15661287307739 l2.2977301478385925,23.692290782928467 0.45370716601610184,15.115052461624146 l-3.543301224708557,9.956496953964233 -5.781800746917725,7.478314638137817 l-7.0272767543792725,5.184355974197388 -10.645561218261719,3.238663673400879 l-3.248337507247925,-0.6691333651542664 -2.6138481497764587,-5.3926825523376465 m6.035561561584473,-14.067448377609253 l8.036978244781494,-41.466126441955566 1.6239157319068909,-11.07047438621521 m-0.34204844385385513,23.63921880722046 l14.773372411727905,-5.646949410438538 m-20.105056762695312,18.824710845947266 l19.7041916847229,0.10438468307256699 4.354186654090881,0.265514999628067 m-24.952354431152344,-11.721774339675903 l-8.888563513755798,-15.857150554656982 m313.331462868955,75.66324168350548 l0.081724738702178,-0.018578640883788466 -0.23596230894327164,-6.60676896572113 l5.411338806152344,-20.257160663604736 13.556478023529053,-55.10500431060791 l16.26401424407959,-20.537471771240234 m-33.00762176513672,75.8522367477417 l-5.804345607757568,-2.6759111881256104 -6.167636513710022,-9.633686542510986 l-3.2906731963157654,-16.131699085235596 1.3568852841854095,-13.09557318687439 l3.2280781865119934,-7.779049277305603 7.019298076629639,-9.7554349899292 l7.552684545516968,-7.062884569168091 8.717346787452698,-6.151025295257568 l12.074414491653442,-6.996332406997681 10.411171913146973,-12.216968536376953 l-2.6527923345565796,9.578929543495178 4.35373842716217,21.07818603515625 l1.7070084810256958,39.2731499671936 -1.9759242236614227,13.571053743362427 l-3.7582772970199585,10.832154750823975 -4.042068123817444,7.126626372337341 l-3.261067271232605,2.9016494750976562 -11.375377178192139,1.9523653388023376 l-4.093429446220398,-1.7603394389152527 -4.807677865028381,-6.50932252407074 m15.310429334640503,-34.26752328872681 l1.7721472680568695,-15.31517744064331 -0.2861550450325012,-22.704663276672363 m-3.3595818281173706,38.26629161834717 l21.750946044921875,-12.240979671478271 m-23.99984121322632,23.733539581298828 l-3.921138644218445,-16.98475956916809 -1.9348232448101044,-9.339077472686768 m1.9472914934158325,33.996288776397705 l18.49328875541687,-7.465503811836243 m283.52833478711545,44.00733935064636 l0.04108528606593609,0.02528479089960456 -0.2033376693725586,-6.682549715042114 l5.356377959251404,-20.365431308746338 16.486525535583496,-60.95540523529053 l11.03767991065979,-12.650395631790161 m-24.9638032913208,77.6136827468872 l-7.063931822776794,-7.795055508613586 -9.33711290359497,-17.470911741256714 l-0.8303418755531311,-9.991927146911621 0.4078853130340576,-9.800070524215698 l3.9097556471824646,-9.493334889411926 5.4550206661224365,-8.27758252620697 l7.775982618331909,-7.731543183326721 11.534903049468994,-9.050812721252441 l11.058311462402344,-8.84347140789032 7.405608892440796,-9.775756001472473 l-0.6053197756409645,13.797202110290527 0.5077692121267319,11.822596788406372 l4.935885667800903,45.399088859558105 -1.3020582497119904,17.236286401748657 l-3.3289238810539246,9.464519023895264 -3.4696313738822937,4.579672813415527 l-8.856710195541382,4.393414556980133 -6.764817833900452,0.6349301338195801 l-5.6862872838974,-1.8179795145988464 -4.563106000423431,-4.347704648971558 m5.252066254615784,-4.9447062611579895 l11.651501655578613,-44.447784423828125 10.501488447189331,-32.65953779220581 m-10.592477321624756,43.17373752593994 l13.905116319656372,-6.370518207550049 5.872453451156616,-1.253117024898529 m-29.541025161743164,28.415977954864502 l28.956327438354492,0.03602917538955808 m-32.46324300765991,19.04017686843872 l18.823623657226562,-0.7070931047201157 m289.6246338542551,19.038653140887618 l0.10704255662858486,-0.13905223459005356 -0.2664458192884922,-6.3718390464782715 l5.342856049537659,-20.74761152267456 16.884241104125977,-58.28373432159424 l9.271418452262878,-11.36231541633606 m-24.611644744873047,77.67884731292725 l-3.9997392892837524,-8.561568260192871 -9.491933584213257,-17.430012226104736 l-2.291537821292877,-8.820456862449646 0.34247253090143204,-11.538547277450562 l4.325321614742279,-9.494403600692749 4.31407243013382,-7.867429852485657 l4.430750906467438,-5.687206387519836 10.89017391204834,-9.644871354103088 l18.380812406539917,-13.991190195083618 6.021663546562195,-7.625354528427124 l-1.0354211926460266,15.821797847747803 -0.4926364868879318,20.706045627593994 l2.9141902923583984,25.47706127166748 -1.3004158437252045,25.568692684173584 l-2.312593162059784,7.09685742855072 -4.644973278045654,5.791455507278442 l-7.90640652179718,6.7442649602890015 -8.797816634178162,3.3728471398353577 l-9.12151575088501,-0.15568891540169716 -2.0575346052646637,-5.89042603969574 m21.088051795959473,-48.06957244873047 l-2.3582082986831665,-2.6420482993125916 -4.845713376998901,-13.720240592956543 m9.73339319229126,26.34026050567627 l14.870682954788208,-8.286373615264893 m-22.01179265975952,29.41121816635132 l-6.566141843795776,-17.47198462486267 -2.5456801056861877,-8.53476881980896 m1.1383920907974243,46.74604892730713 l18.37194323539734,-15.959863662719727 m283.35818056948483,38.910548221319914 l0.03973908256739378,-0.06553543731570244 -0.28085242956876755,-6.56366229057312 l5.5294716358184814,-21.01846218109131 18.958017826080322,-60.65868854522705 l0.3229581192135811,2.5930893421173096 m-17.700520753860474,62.472758293151855 l0.1952187530696392,-46.58813953399658 -5.304986834526062,-7.137556076049805 l-3.2094746828079224,-1.9418363273143768 -2.515120506286621,-1.1491581797599792 l-0.8864407241344452,-4.1584667563438416 0.45548640191555023,-4.284174144268036 l13.491061925888062,-12.788755893707275 13.047915697097778,-13.859912157058716 l9.594564437866211,-10.787438154220581 7.380799651145935,-16.61606192588806 l0.3357548266649246,18.601213693618774 3.4684866666793823,28.223180770874023 l4.289699196815491,20.486810207366943 -1.3750295341014862,16.996445655822754 l-5.784355998039246,14.657635688781738 -6.7112308740615845,9.045008420944214 l-6.98908269405365,5.876854062080383 -6.770985722541809,2.346455752849579 l-7.367561459541321,-0.33811159431934357 -2.681492567062378,-2.2489845752716064 m-2.895234227180481,-8.918787240982056 l17.39275574684143,-45.00431537628174 2.7290573716163635,-13.036266565322876 m-8.265390396118164,14.056777954101562 l17.87038803100586,-2.763100564479828 m-25.14441967010498,18.222230672836304 l25.727555751800537,-2.6018980145454407 11.842478513717651,-2.7323192358016968 m-36.76494598388672,21.74703359603882 l35.59389352798462,0.8535418659448624 m278.4047599323094,33.271772768348455 l0.020259672310203314,-0.1943393424153328 -0.34412931650877,-6.619539260864258 l5.389491319656372,-20.783140659332275 15.38852572441101,-53.4184455871582 l12.788083553314209,-23.75159740447998 m-28.88056755065918,87.1986198425293 l-10.670245885848999,-7.937536239624023 -4.422498345375061,-8.902655839920044 l-2.087211310863495,-12.490066289901733 0.448843315243721,-10.836386680603027 l3.9574694633483887,-14.58228349685669 3.6462873220443726,-7.415922284126282 l7.496209740638733,-9.466318488121033 6.862303614616394,-5.514938831329346 l11.342517137527466,-6.624520421028137 16.084463596343994,-9.720088839530945 l1.1671513319015503,2.246668189764023 -1.486818790435791,19.32282328605652 l0.14249620027840137,38.390772342681885 -1.1110132932662964,9.802501201629639 l-2.9970309138298035,21.330559253692627 -0.9509796649217606,5.199081897735596 l-4.012802243232727,8.66705596446991 -15.826833248138428,0.7298321276903152 l-2.5938954949378967,-3.0077895522117615 1.5461143851280212,-4.12845253944397 m1.3625435531139374,-12.710024118423462 l-3.735406994819641,-31.092092990875244 0.38103871047496796,-12.108616828918457 m12.37667441368103,21.436753273010254 l-6.220390796661377,-19.24418330192566 m12.17824101448059,-3.941221237182617 l-1.7163477838039398,-25.403165817260742 m12.961558103561401,13.457130193710327 l0.9616047143936157,-5.041094422340393 5.224992036819458,-10.126473903656006 m280.3010928421281,90.93759158626199 l-0.03598631825298071,-0.0813039019703865 -0.342148095369339,-6.659497022628784 l5.099530816078186,-20.17728567123413 11.450728178024292,-47.5090217590332 l17.051777839660645,-22.780842781066895 m-33.71441125869751,68.56048107147217 l-7.359406352043152,-4.226103127002716 -3.488413095474243,-6.7229074239730835 l-2.0622946321964264,-11.114856004714966 -0.8251548558473587,-16.605589389801025 l4.3583521246910095,-11.047276258468628 1.6700856387615204,-4.5920029282569885 l5.713716149330139,-5.988978147506714 26.592724323272705,-14.058593511581421 l7.910882830619812,-9.369481801986694 0.6037269532680511,3.2089555263519287 l0.6038676202297211,6.1143070459365845 0.35301152616739273,13.170160055160522 l2.4415212869644165,35.03981828689575 -0.1096794568002224,29.564847946166992 l-1.6662181913852692,10.110993385314941 -2.446313798427582,4.761621952056885 l-8.810200095176697,7.1566832065582275 -15.633642673492432,4.250846803188324 l-5.785413980484009,-0.31494464725255966 -0.1505657099187374,-2.3512975871562958 m14.720408916473389,-27.809569835662842 l5.808045864105225,-13.561913967132568 11.400058269500732,-18.981930017471313 m-7.840544581413269,7.845205068588257 l-4.356716275215149,-7.031605839729309 m0.07854067720472813,14.647895097732544 l11.862732172012329,-3.6000090837478638 m-28.774101734161377,-1.4152704179286957 l-3.118564486503601,-7.819246053695679 m-4.834500849246979,73.41655254364014 m316.2931449757889,-10.305960203986615 l0.0613010348752141,0.08391626179218292 -0.27214664965867996,-6.279028654098511 l5.319278240203857,-20.75124979019165 13.781085014343262,-53.20096015930176 l15.589494705200195,-24.995920658111572 m-30.99531650543213,85.85347175598145 l-6.1775147914886475,0.05049088504165411 -2.653416097164154,-3.996809720993042 l-5.570024847984314,-18.18181037902832 0.04671374335885048,-17.71443486213684 l4.833846092224121,-12.281705141067505 6.594833731651306,-10.20792841911316 l5.004290342330933,-5.225077271461487 8.776488304138184,-4.285323917865753 l17.446563243865967,-4.277676045894623 8.520619869232178,-3.319365084171295 l1.814492791891098,-6.814243793487549 -0.7651420682668686,5.143900513648987 l-0.7118871062994003,45.91847896575928 0.8200247585773468,27.894728183746338 l-0.1923447661101818,13.715050220489502 -2.0862096548080444,4.332829415798187 l-7.541738152503967,4.836607873439789 -7.692381739616394,0.14676117338240147 l-8.173627853393555,-5.404766798019409 -5.9962040185928345,-2.3390647768974304 l-4.330185353755951,-4.729249179363251 m4.634174406528473,-5.923656225204468 l19.198589324951172,-44.71640586853027 m-4.180663824081421,2.75421142578125 l-0.7712644338607788,-13.266092538833618 m8.522093892097473,54.2848014831543 l9.698386788368225,-3.633209466934204 5.0387996435165405,-9.43534255027771 m-16.727111339569092,25.412323474884033 l-0.46834345906972885,0.7718059420585632 \" fill=\"none\" stroke=\"black\" stroke-width=\"1\"/></svg>"
      ],
      "text/plain": [
       "<IPython.core.display.SVG object>"
      ]
     },
     "metadata": {},
     "output_type": "display_data"
    }
   ],
   "source": [
    "stroke_list = []\n",
    "for i in range(10):\n",
    "  stroke_list.append([decode(z, draw_mode=False, temperature=0.1*i+0.1), [0, i]])\n",
    "stroke_grid = make_grid_svg(stroke_list)\n",
    "draw_strokes(stroke_grid)"
   ]
  },
  {
   "cell_type": "markdown",
   "metadata": {
    "id": "oXYXn97rDoIB"
   },
   "source": [
    "#### **Interpolating between two samples**\n",
    "Now let's see what happens when we interpolate between two different cats!"
   ]
  },
  {
   "cell_type": "code",
   "execution_count": 148,
   "metadata": {},
   "outputs": [
    {
     "data": {
      "image/svg+xml": [
       "<svg baseProfile=\"full\" height=\"213.77800583839417\" version=\"1.1\" width=\"198.63349169492722\" xmlns=\"http://www.w3.org/2000/svg\" xmlns:ev=\"http://www.w3.org/2001/xml-events\" xmlns:xlink=\"http://www.w3.org/1999/xlink\"><defs/><rect fill=\"white\" height=\"213.77800583839417\" width=\"198.63349169492722\" x=\"0\" y=\"0\"/><path d=\"M72.13428616523743,132.71233797073364 m-1.5532833337783813,-5.436491966247559 l-0.38832083344459534,-10.872983932495117 1.9416041672229767,-6.601454019546509 l3.1065666675567627,-4.271529316902161 6.213133335113525,-6.98977530002594 l33.39559316635132,-27.182457447052002 9.708020687103271,-9.708020687103271 l9.319700002670288,-11.649625301361084 3.8832083344459534,14.756191968917847 l6.601454019546509,12.037945985794067 4.271529316902161,25.62917470932007 l-0.7766416668891907,6.98977530002594 -5.824812650680542,11.649625301361084 l-6.98977530002594,7.378095984458923 -12.814587354660034,5.048170685768127 l-25.62917470932007,1.9416041672229767 -22.91092872619629,-1.9416041672229767 l-6.98977530002594,13.97955060005188 -7.766416668891907,8.931379318237305 l-8.931379318237305,7.378095984458923 m36.502158641815186,-42.32697010040283 l27.182457447052002,-20.58100461959839 10.484662055969238,-10.872983932495117 l6.98977530002594,-13.202908039093018 1.5532833337783813,-6.213133335113525 \" fill=\"none\" stroke=\"black\" stroke-width=\"1\"/></svg>"
      ],
      "text/plain": [
       "<IPython.core.display.SVG object>"
      ]
     },
     "metadata": {},
     "output_type": "display_data"
    }
   ],
   "source": [
    "stroke = test_set.random_sample()\n",
    "draw_strokes(stroke)\n",
    "z0 = encode(stroke)"
   ]
  },
  {
   "cell_type": "code",
   "execution_count": 168,
   "metadata": {},
   "outputs": [
    {
     "data": {
      "image/svg+xml": [
       "<svg baseProfile=\"full\" height=\"235.9122884273529\" version=\"1.1\" width=\"207.17655137181282\" xmlns=\"http://www.w3.org/2000/svg\" xmlns:ev=\"http://www.w3.org/2001/xml-events\" xmlns:xlink=\"http://www.w3.org/1999/xlink\"><defs/><rect fill=\"white\" height=\"235.9122884273529\" width=\"207.17655137181282\" x=\"0\" y=\"0\"/><path d=\"M64.75619226694107,153.2933385670185 m-1.164962500333786,-6.601454019546509 l0.38832083344459534,-7.378095984458923 3.49488765001297,-11.649625301361084 l6.213133335113525,-13.202908039093018 9.319700002670288,-14.367871284484863 l10.484662055969238,-12.037945985794067 10.484662055969238,-8.931379318237305 l19.804363250732422,-13.591228723526001 17.086117267608643,-8.931379318237305 l1.5532833337783813,3.8832083344459534 1.164962500333786,9.319700002670288 l-0.38832083344459534,17.474437952041626 -3.8832083344459534,17.86275863647461 l-7.378095984458923,14.756191968917847 -4.271529316902161,6.601454019546509 l-9.708020687103271,10.484662055969238 -10.872983932495117,6.98977530002594 l-17.086117267608643,5.436491966247559 -22.134287357330322,0.0 l-7.766416668891907,1.9416041672229767 -3.8832083344459534,20.19268274307251 l-6.213133335113525,12.814587354660034 8.543058633804321,1.5532833337783813 l11.649625301361084,-1.9416041672229767 1.5532833337783813,-1.164962500333786 l-0.38832083344459534,-11.2613046169281 0.7766416668891907,-8.931379318237305 l2.7182459831237793,-8.15473735332489 3.1065666675567627,-5.048170685768127 l2.7182459831237793,-2.329925000667572 2.329925000667572,0.0 m-14.367871284484863,11.2613046169281 l3.8832083344459534,-11.2613046169281 5.436491966247559,-10.096341371536255 l18.639400005340576,-24.8525333404541 24.8525333404541,-23.687570095062256 l23.299250602722168,-15.921154022216797 12.42626667022705,-6.601454019546509 l0.0,0.38832083344459534 m-78.82913112640381,47.37514019012451 l0.38832083344459534,4.659850001335144 6.213133335113525,17.474437952041626 l4.271529316902161,8.15473735332489 4.271529316902161,6.213133335113525 l1.164962500333786,0.38832083344459534 m3.49488765001297,-57.083163261413574 l4.271529316902161,15.532833337783813 14.756191968917847,35.33719539642334 l2.329925000667572,-4.659850001335144 -1.5532833337783813,-13.202908039093018 m-5.824812650680542,-47.37514019012451 l6.98977530002594,31.065666675567627 6.98977530002594,21.745967864990234 m2.7182459831237793,-63.68461608886719 l5.048170685768127,23.299250602722168 m-64.84958171844482,-20.19268274307251 l0.0,0.0 m25.62917470932007,-21.357645988464355 l0.0,0.0 \" fill=\"none\" stroke=\"black\" stroke-width=\"1\"/></svg>"
      ],
      "text/plain": [
       "<IPython.core.display.SVG object>"
      ]
     },
     "metadata": {},
     "output_type": "display_data"
    }
   ],
   "source": [
    "stroke = test_set.random_sample()\n",
    "draw_strokes(stroke)\n",
    "z1 = encode(stroke)"
   ]
  },
  {
   "cell_type": "code",
   "execution_count": 158,
   "metadata": {},
   "outputs": [],
   "source": [
    "z1 = np.squeeze(z1)\n",
    "z0 = np.squeeze(z0)"
   ]
  },
  {
   "cell_type": "code",
   "execution_count": 114,
   "metadata": {
    "colab": {
     "base_uri": "https://localhost:8080/",
     "height": 427
    },
    "id": "OlwyTspJDoIB",
    "outputId": "ded7d1b2-83a7-4ca8-961e-af5b6018212e",
    "scrolled": false
   },
   "outputs": [
    {
     "data": {
      "image/svg+xml": [
       "<svg baseProfile=\"full\" height=\"253.77505272626877\" version=\"1.1\" width=\"200.96341490745544\" xmlns=\"http://www.w3.org/2000/svg\" xmlns:ev=\"http://www.w3.org/2001/xml-events\" xmlns:xlink=\"http://www.w3.org/1999/xlink\"><defs/><rect fill=\"white\" height=\"253.77505272626877\" width=\"200.96341490745544\" x=\"0\" y=\"0\"/><path d=\"M50,203.77505272626877 m3.1065666675567627,-0.7766416668891907 l12.814587354660034,-12.814587354660034 23.299250602722168,-27.182457447052002 l34.56055402755737,-46.986823081970215 10.096341371536255,-18.639400005340576 m-55.52988052368164,69.12110805511475 l-5.048170685768127,-13.97955060005188 0.0,-12.037945985794067 l5.048170685768127,-13.202908039093018 8.15473735332489,-12.42626667022705 l9.319700002670288,-10.484662055969238 12.814587354660034,-10.096341371536255 l6.98977530002594,-7.378095984458923 9.708020687103271,-6.98977530002594 l8.15473735332489,-8.543058633804321 5.048170685768127,-7.378095984458923 l4.271529316902161,-13.97955060005188 6.601454019546509,25.24085521697998 l1.5532833337783813,11.649625301361084 0.0,41.93864822387695 l-4.271529316902161,13.202908039093018 -6.213133335113525,12.814587354660034 l-7.766416668891907,10.096341371536255 -11.649625301361084,8.931379318237305 l-11.2613046169281,3.1065666675567627 -22.5226092338562,0.0 \" fill=\"none\" stroke=\"black\" stroke-width=\"1\"/></svg>"
      ],
      "text/plain": [
       "<IPython.core.display.SVG object>"
      ]
     },
     "metadata": {},
     "output_type": "display_data"
    },
    {
     "data": {
      "image/svg+xml": [
       "<svg baseProfile=\"full\" height=\"245.5692184716463\" version=\"1.1\" width=\"200.3355011343956\" xmlns=\"http://www.w3.org/2000/svg\" xmlns:ev=\"http://www.w3.org/2001/xml-events\" xmlns:xlink=\"http://www.w3.org/1999/xlink\"><defs/><rect fill=\"white\" height=\"245.5692184716463\" width=\"200.3355011343956\" x=\"0\" y=\"0\"/><path d=\"M50.036392759066075,195.4861681908369 m-0.03639275906607509,0.08305028080940247 l2.967269718647003,-0.8378464728593826 12.502533197402954,-12.817994356155396 l27.63873815536499,-32.2043776512146 26.95859432220459,-37.638704776763916 l10.216776132583618,-21.124634742736816 m-53.72471332550049,72.23916053771973 l-0.6805554032325745,-12.000354528427124 1.9380705058574677,-23.292975425720215 l3.632526695728302,-10.517650842666626 4.773160219192505,-7.987300753593445 l6.947727799415588,-8.450693488121033 9.489721655845642,-8.629593849182129 l11.57707691192627,-9.127867221832275 11.38148546218872,-9.319855570793152 l9.652146100997925,-9.487648010253906 9.663379192352295,-14.37088131904602 l1.3680778443813324,0.8079396933317184 0.5350556969642639,13.682907819747925 l3.4984302520751953,27.880938053131104 -0.015840308042243123,19.172992706298828 l-6.069674491882324,25.408246517181396 -6.041925549507141,11.760725975036621 l-8.17791998386383,8.260164260864258 -14.06692385673523,6.524426341056824 l-18.366901874542236,1.6900613903999329 -14.808059930801392,-5.8677250146865845 \" fill=\"none\" stroke=\"black\" stroke-width=\"1\"/></svg>"
      ],
      "text/plain": [
       "<IPython.core.display.SVG object>"
      ]
     },
     "metadata": {},
     "output_type": "display_data"
    }
   ],
   "source": [
    "z0 = z\n",
    "\n",
    "# Get a sample drawing from the test set, and render it to .svg\n",
    "stroke = test_set.random_sample()\n",
    "draw_strokes(stroke)\n",
    "z1 = encode(stroke)\n",
    "_ = decode(z1) # convert z back to drawing at temperature of 0.5\n",
    "\n",
    "z1 = np.squeeze(z1)\n",
    "z0 = np.squeeze(z0)"
   ]
  },
  {
   "cell_type": "code",
   "execution_count": 159,
   "metadata": {
    "id": "6ViGcUmRDoIC"
   },
   "outputs": [],
   "source": [
    "def interpolate_z(z_0, z_1, draw=True):\n",
    "    z_list = [] # interpolate spherically between z0 and z1\n",
    "    N = 10\n",
    "    for t in np.linspace(0, 1, N):\n",
    "        z_list.append(slerp(z_0, z_1, t))\n",
    "    # for every latent vector in z_list, sample a vector image\n",
    "    reconstructions = []\n",
    "    for i in range(N):\n",
    "        reconstructions.append([decode(np.expand_dims(z_list[i],axis=0), draw_mode=False), [0, i]])\n",
    "    stroke_grid = make_grid_svg(reconstructions)\n",
    "    if draw:\n",
    "        draw_strokes(stroke_grid)"
   ]
  },
  {
   "cell_type": "code",
   "execution_count": 160,
   "metadata": {
    "colab": {
     "base_uri": "https://localhost:8080/",
     "height": 387
    },
    "id": "gl2blUEFDoID",
    "outputId": "d42969c1-3ab9-4bc1-864b-7eeaa203de86",
    "scrolled": true
   },
   "outputs": [
    {
     "data": {
      "image/svg+xml": [
       "<svg baseProfile=\"full\" height=\"286.6092102229595\" version=\"1.1\" width=\"3219.3183071771637\" xmlns=\"http://www.w3.org/2000/svg\" xmlns:ev=\"http://www.w3.org/2001/xml-events\" xmlns:xlink=\"http://www.w3.org/1999/xlink\"><defs/><rect fill=\"white\" height=\"286.6092102229595\" width=\"3219.3183071771637\" x=\"0\" y=\"0\"/><path d=\"M50,50 m0.0,0.0 m132.97548290342093,128.2840582728386 l-0.10397099889814854,-0.007052366272546351 -1.5646576881408691,-5.549498200416565 l-0.4173991456627846,-10.76535940170288 1.861862987279892,-6.59503698348999 l2.860119044780731,-4.771275818347931 8.265659809112549,-8.460331559181213 l28.25122594833374,-22.64918327331543 13.588885068893433,-14.150339365005493 l9.830191731452942,-13.806949853897095 3.5675427317619324,18.38491439819336 l6.404831409454346,16.67591691017151 4.160553216934204,13.875635862350464 l0.4127302020788193,10.504683256149292 -3.702390193939209,10.304008722305298 l-8.756150603294373,9.467602968215942 -21.392605304718018,10.637415647506714 l-22.924323081970215,4.296073913574219 -16.181851625442505,-0.8046649396419525 l-6.761244535446167,2.0072804391384125 -10.938483476638794,9.51259732246399 l-9.73700761795044,12.066367864608765 m32.92101860046387,-34.51054573059082 l28.18190097808838,-27.18954563140869 11.075955629348755,-12.75260329246521 l3.3580106496810913,-6.563069820404053 1.0103397071361542,-9.948158860206604 m265.9339059982449,59.273974691168405 l0.04622373729944229,0.30515406280755997 -1.7105115950107574,-5.444105267524719 l-0.32157592475414276,-12.19184398651123 2.5352895259857178,-8.815516233444214 l3.4721562266349792,-5.596716403961182 8.542435765266418,-9.03115689754486 l24.76834774017334,-19.51374888420105 17.947027683258057,-15.182849168777466 l15.51899790763855,-15.962806940078735 3.282580077648163,8.992593884468079 l5.839380621910095,17.25924849510193 4.9313318729400635,15.46460747718811 l0.9174439311027527,12.417112588882446 -2.880241870880127,11.213904619216919 l-7.508760094642639,10.839837789535522 -17.235403060913086,12.451720237731934 l-15.136938095092773,6.61871075630188 -19.0316641330719,3.552226424217224 l-23.323960304260254,1.600782573223114 -6.421586275100708,3.727967143058777 l-13.602989912033081,13.123321533203125 -10.664528608322144,12.681623697280884 m43.02294731140137,-43.355140686035156 l30.23369073867798,-32.54652500152588 9.942439198493958,-10.698881149291992 l4.686519503593445,-5.575603246688843 m256.09249010682106,57.95746206538752 l0.1521137822419405,0.5450722947716713 -1.8428602814674377,-5.256968140602112 l-0.19800353795289993,-13.362787961959839 3.0987605452537537,-10.983597040176392 l4.132167398929596,-6.268142461776733 8.526102304458618,-9.381282925605774 l22.169642448425293,-17.62495994567871 22.792165279388428,-17.830039262771606 l15.283637046813965,-12.466175556182861 7.9637610912323,2.2003506124019623 l5.5401188135147095,10.232309103012085 5.524612069129944,19.565600156784058 l0.5543218553066254,12.81123161315918 -2.7425798773765564,12.85104513168335 l-6.502872705459595,12.47088074684143 -10.591278076171875,11.284815073013306 l-14.353412389755249,9.629636406898499 -24.504220485687256,8.961824178695679 l-21.537272930145264,3.322194814682007 -9.727622270584106,-0.0688042351976037 l-14.398127794265747,6.068861484527588 -14.97401237487793,14.901372194290161 m30.396640300750732,-29.321179389953613 l33.31115484237671,-31.388866901397705 25.577213764190674,-28.7697696685791 l2.904692590236664,-4.0295737981796265 m-57.84160137176514,42.30801582336426 l0.18425967544317245,17.98503041267395 m311.0626751370728,-2.404239035677165 l0.23742403835058212,0.7159041613340378 -1.9156700372695923,-5.083725452423096 l-0.07861110381782055,-14.334677457809448 3.6731621623039246,-12.923054695129395 l4.741506576538086,-7.06640899181366 8.54759931564331,-9.528486132621765 l20.006906986236572,-16.46422505378723 20.74423313140869,-15.061919689178467 l25.006136894226074,-16.682640314102173 8.533199429512024,-3.2366257905960083 l4.8517873883247375,10.300556421279907 5.572539567947388,14.204968214035034 l1.7702241241931915,12.62642502784729 -1.1835473775863647,15.200214385986328 l-6.117754578590393,15.321930646896362 -9.993937611579895,12.812274694442749 l-13.69746208190918,11.025904417037964 -18.006001710891724,8.887637257575989 l-20.220041275024414,4.785923361778259 -20.36478042602539,0.906868577003479 l-11.591380834579468,6.819445490837097 -19.38846468925476,16.58985137939453 l-14.50555682182312,17.20123052597046 m58.91839027404785,-85.2928638458252 l10.895153284072876,3.421119451522827 27.879514694213867,-0.711263045668602 m-40.05763053894043,0.2297532558441162 l14.519118070602417,0.8778445422649384 9.3797105550766,0.9448391944169998 m274.19848329853266,28.352806959301233 l0.29530392959713936,0.7920486479997635 -1.9826705753803253,-4.809423089027405 l0.07609855849295855,-15.12690782546997 4.271503686904907,-14.74208950996399 l5.266047120094299,-7.659434080123901 8.659001588821411,-9.829282760620117 l15.826408863067627,-13.914942741394043 28.351449966430664,-19.398348331451416 l17.864034175872803,-10.031188726425171 15.473659038543701,-7.882407307624817 l7.022472620010376,4.229463040828705 5.0822913646698,11.052733659744263 l2.1381941437721252,16.410815715789795 -1.5466004610061646,14.505729675292969 l-5.845974087715149,15.65410852432251 -9.348517060279846,14.00742769241333 l-12.720531225204468,12.528667449951172 -14.27907109260559,9.94332492351532 l-18.089653253555298,7.826307415962219 -21.199886798858643,4.577793776988983 l-19.197487831115723,0.5413376912474632 -11.208062171936035,9.646957516670227 l-22.368488311767578,22.049639225006104 -17.164108753204346,20.05423069000244 m72.50475406646729,-101.38757705688477 l23.38071584701538,8.011478185653687 m-24.96509552001953,1.3377176225185394 l13.931770324707031,2.2026439011096954 7.893158197402954,2.6867589354515076 l6.612297892570496,3.3912628889083862 m259.6397554501891,30.919751655310392 l0.3048732317984104,0.808824896812439 -2.0114609599113464,-4.5194777846336365 l0.2249668724834919,-15.714679956436157 4.844406843185425,-16.38947606086731 l5.550051927566528,-8.08742105960846 8.963677883148193,-10.312260389328003 l14.941544532775879,-13.38241457939148 25.60800790786743,-17.536221742630005 l20.13612985610962,-10.79461932182312 19.777421951293945,-8.848989605903625 l9.84398901462555,-1.6746321320533752 2.065398693084717,10.152732133865356 l1.6288019716739655,14.577392339706421 -0.6543022394180298,13.714227676391602 l-3.9529183506965637,16.31117820739746 -7.79000997543335,15.695288181304932 l-11.850751638412476,14.315813779830933 -14.837357997894287,12.294127941131592 l-16.02917194366455,9.698288440704346 -19.769023656845093,7.073221802711487 l-21.197187900543213,3.0989211797714233 -18.10274362564087,-0.8310101181268692 l-10.70130467414856,12.938792705535889 -23.878040313720703,26.54470443725586 m127.04263687133789,-122.41050720214844 l-33.36809158325195,24.843006134033203 -34.235687255859375,25.073416233062744 m29.129440784454346,-17.75364875793457 l0.16155943274497986,-0.7318610697984695 2.356497198343277,-3.119349479675293 l17.393221855163574,-12.881557941436768 m-19.19196605682373,24.172348976135254 l17.115118503570557,1.6181166470050812 m256.0445142351091,26.192329563200474 l0.295921228826046,0.7365856319665909 -2.013118416070938,-4.220811128616333 l0.3943055123090744,-16.095223426818848 5.37568211555481,-17.932345867156982 l5.884673595428467,-8.499680161476135 8.904141187667847,-10.31743049621582 l13.853724002838135,-12.795555591583252 23.7106990814209,-16.407349109649658 l21.256978511810303,-10.725947618484497 21.7787504196167,-9.19424295425415 l11.50675892829895,-3.286995589733124 2.042349874973297,4.518541991710663 l1.146802231669426,12.914849519729614 -0.4775872826576233,13.622150421142578 l-4.952986240386963,21.369669437408447 -6.724868416786194,14.177436828613281 l-10.32207727432251,13.76882553100586 -13.653696775436401,12.718946933746338 l-15.746704339981079,10.872119665145874 -19.487476348876953,8.748664855957031 l-21.368656158447266,5.008693337440491 -20.283923149108887,0.8372162282466888 l-12.193944454193115,10.421068668365479 -20.868687629699707,19.611037969589233 l-18.344308137893677,23.156027793884277 m74.39945697784424,-105.15336036682129 l21.99775457382202,9.905029535293579 m-22.472779750823975,-4.7230494022369385 l16.765161752700806,8.401726484298706 m-13.250277042388916,-9.066810607910156 l10.130078792572021,2.006586790084839 6.609992980957031,3.1798818707466125 l6.6334956884384155,4.680920243263245 5.4925185441970825,5.059313178062439 m264.28285064175725,25.803211629390717 l0.2540193498134613,0.5889429524540901 -1.9959792494773865,-3.8711386919021606 l0.5657020583748817,-16.339948177337646 5.769348740577698,-19.459792375564575 l6.145462989807129,-8.54627549648285 8.802501559257507,-10.443297624588013 l12.826220989227295,-12.236112356185913 19.454203844070435,-13.822588920593262 l27.115814685821533,-14.015295505523682 17.115345001220703,-5.660187602043152 l15.289864540100098,-4.453168511390686 3.0030450224876404,1.3249412178993225 l0.21868886426091194,7.8009092807769775 -0.7928342372179031,12.328106164932251 l-4.9831536412239075,23.891642093658447 -6.792876124382019,16.073644161224365 l-9.781792163848877,14.382092952728271 -12.561951875686646,13.024455308914185 l-15.274536609649658,11.745238304138184 -19.151434898376465,9.745232462882996 l-20.45793056488037,5.522129535675049 -19.849852323532104,1.2613064050674438 l-7.754144668579102,2.040724754333496 -23.562486171722412,17.36859679222107 l-25.000877380371094,27.781271934509277 m143.03091049194336,-128.38445663452148 l-37.97015190124512,33.42761039733887 -32.173283100128174,25.056052207946777 m35.507333278656006,-28.07896852493286 l-6.633999943733215,6.266138553619385 -6.406494975090027,-1.0510311275720596 m12.125157117843628,2.456819862127304 l9.737682342529297,4.100978970527649 11.095473766326904,3.806174099445343 l4.107867777347565,0.11852389201521873 m237.23777271807194,32.23527142778039 l0.167238749563694,0.3381495922803879 -1.9369025528430939,-3.5248100757598877 l0.7402859628200531,-16.379622220993042 6.35087788105011,-20.653908252716064 l6.193103194236755,-8.598389029502869 8.53857159614563,-10.364787578582764 l11.940162181854248,-11.739153861999512 17.781490087509155,-12.569963932037354 l26.285734176635742,-13.014219999313354 18.09075951576233,-5.773242115974426 l16.305551528930664,-5.024603009223938 3.327172100543976,-0.3791647404432297 l0.08397962898015976,4.118092954158783 -1.4893794059753418,10.475544929504395 l-6.300361156463623,24.238429069519043 -6.939681768417358,17.3642361164093 l-9.349256753921509,15.8309006690979 -11.607352495193481,13.778067827224731 l-14.331986904144287,12.240406274795532 -17.743828296661377,9.78216290473938 l-20.037922859191895,5.81415593624115 -20.363101959228516,1.4959977567195892 l-10.68271517753601,-1.0062023252248764 -20.982024669647217,12.154704332351685 l-21.434662342071533,24.382829666137695 m142.1987247467041,-121.81697845458984 l-42.439351081848145,37.69900560379028 -37.06625461578369,28.468241691589355 m38.46977710723877,-31.543302536010742 l-6.881819367408752,8.872382640838623 -4.62715357542038,10.247353315353394 m11.60130262374878,-14.318921566009521 l15.320857763290405,1.8902890384197235 14.145652055740356,2.5991082191467285 m-36.2391471862793,-2.4943627417087555 l-4.165346920490265,1.0332893580198288 -3.5047876834869385,1.7656667530536652 m281.9768266566098,36.84430282562971 l0.04844233859330416,0.03007218474522233 -1.8520671129226685,-3.1441915035247803 l0.9220070391893387,-16.205368041992188 7.014636993408203,-21.910295486450195 l5.949012637138367,-8.210340142250061 8.015362620353699,-10.058022737503052 l11.042147874832153,-11.425293684005737 16.009397506713867,-11.33583664894104 l24.88544464111328,-11.680927276611328 18.21279287338257,-5.422878265380859 l16.953368186950684,-5.542636513710022 3.7923792004585266,-1.8713250756263733 l-0.45073267072439194,1.3255229592323303 -3.2819104194641113,5.3510212898254395 l-9.990083575248718,25.45400857925415 -6.351466774940491,18.70419979095459 l-7.793745398521423,17.25605607032776 -9.3315190076828,14.616698026657104 l-12.186673879623413,12.566708326339722 -16.77384853363037,10.624163150787354 l-19.58633065223694,6.04922890663147 -21.999917030334473,1.3372047245502472 l-8.09738576412201,0.6755721569061279 -21.536407470703125,9.924944639205933 l-21.159708499908447,19.891128540039062 m140.69079399108887,-117.1060562133789 l-39.20645236968994,34.23935651779175 -38.37362766265869,28.297247886657715 m38.62119913101196,-28.445491790771484 l-8.798789381980896,10.626168251037598 -6.083895564079285,11.269396543502808 m11.629880666732788,-15.795234441757202 l17.160630226135254,2.6289978623390198 16.17834210395813,3.9467793703079224 m-40.31292915344238,-4.230000078678131 l-8.748661875724792,-4.866586923599243 -7.714766263961792,-5.518831014633179 l-6.11634373664856,-5.311535000801086 m11.33119821548462,26.369624137878418 l12.948997020721436,9.04835045337677 \" fill=\"none\" stroke=\"black\" stroke-width=\"1\"/></svg>"
      ],
      "text/plain": [
       "<IPython.core.display.SVG object>"
      ]
     },
     "metadata": {},
     "output_type": "display_data"
    }
   ],
   "source": [
    "interpolate_z(z0,z1)"
   ]
  },
  {
   "cell_type": "markdown",
   "metadata": {
    "id": "IPcIU4zEDoID"
   },
   "source": [
    "#### **Random Inputs**\n",
    "Since this is a Variational Autoencoder, we don't need to use an actual sketch in order to generate new sketches. We can sample randomly within the latent space and feed the result to the decoder."
   ]
  },
  {
   "cell_type": "code",
   "execution_count": 146,
   "metadata": {
    "colab": {
     "base_uri": "https://localhost:8080/",
     "height": 213
    },
    "id": "wx0gAGXNDoIE",
    "outputId": "bd0a2deb-c36f-46fa-f3ef-eebe824e9f5d",
    "scrolled": false
   },
   "outputs": [
    {
     "data": {
      "image/svg+xml": [
       "<svg baseProfile=\"full\" height=\"273.0368597060442\" version=\"1.1\" width=\"281.0300002619624\" xmlns=\"http://www.w3.org/2000/svg\" xmlns:ev=\"http://www.w3.org/2001/xml-events\" xmlns:xlink=\"http://www.w3.org/1999/xlink\"><defs/><rect fill=\"white\" height=\"273.0368597060442\" width=\"281.0300002619624\" x=\"0\" y=\"0\"/><path d=\"M67.99559354782104,213.94602067768574 m-4.4600677490234375,9.09083902835846 l-13.535525798797607,-26.421759128570557 m50.128469467163086,-20.657594203948975 l7.587981224060059,-0.4676053673028946 5.746170878410339,-6.853951811790466 l1.7230147123336792,-12.127166986465454 -0.8296088129281998,-18.1515634059906 l-3.565521538257599,-16.298096179962158 -0.6148989126086235,-13.40677261352539 l4.954012036323547,-12.182327508926392 7.906472682952881,-8.741312026977539 l40.601582527160645,-17.832578420639038 30.186026096343994,-10.186246633529663 l30.609681606292725,-7.014305591583252 6.596618294715881,-2.6955798268318176 m-0.9529323130846024,1.5770240128040314 l-13.672717809677124,12.030134201049805 -7.2684454917907715,7.82339870929718 l-3.752872347831726,12.040396928787231 -2.605193555355072,7.677822709083557 l-2.3873956501483917,6.081622242927551 -2.391016185283661,3.132002353668213 l-6.168110370635986,3.0941540002822876 -12.584580183029175,1.2260553985834122 l-20.852227210998535,-2.3606981337070465 m-11.81872010231018,-35.8024001121521 l11.78734302520752,5.413653254508972 m4.63360995054245,-11.400831937789917 l8.735815286636353,3.9757421612739563 m-7.051025629043579,-0.07143625523895025 l17.489839792251587,5.7843780517578125 \" fill=\"none\" stroke=\"black\" stroke-width=\"1\"/></svg>"
      ],
      "text/plain": [
       "<IPython.core.display.SVG object>"
      ]
     },
     "metadata": {},
     "output_type": "display_data"
    }
   ],
   "source": [
    "random_input = np.expand_dims(np.random.randn(model_params.z_size),0)\n",
    "_ = decode(random_input)"
   ]
  },
  {
   "cell_type": "code",
   "execution_count": null,
   "metadata": {
    "id": "Asg0OHtycdth"
   },
   "outputs": [],
   "source": []
  }
 ],
 "metadata": {
  "accelerator": "GPU",
  "colab": {
   "collapsed_sections": [],
   "name": "SketchGen.ipynb",
   "provenance": [],
   "toc_visible": true
  },
  "kernelspec": {
   "display_name": "Python 3",
   "language": "python",
   "name": "python3"
  },
  "language_info": {
   "codemirror_mode": {
    "name": "ipython",
    "version": 3
   },
   "file_extension": ".py",
   "mimetype": "text/x-python",
   "name": "python",
   "nbconvert_exporter": "python",
   "pygments_lexer": "ipython3",
   "version": "3.7.6"
  }
 },
 "nbformat": 4,
 "nbformat_minor": 1
}
