{
 "cells": [
  {
   "cell_type": "markdown",
   "metadata": {
    "id": "pd2Bj8kwDoHg"
   },
   "source": [
    "# **SketchGen**"
   ]
  },
  {
   "cell_type": "markdown",
   "metadata": {
    "id": "89KOMB5gmKOl"
   },
   "source": [
    "## **1.Load the folder contents**\n",
    "Use any of the below options to load the contents\n",
    "\n",
    "1. **Access through Google Drive** (preferred method to train and create weights. Weights are saved in your drive folder) \n",
    "2. **Access through GitHub** (preferred method to work on pre trained models)\n"
   ]
  },
  {
   "cell_type": "markdown",
   "metadata": {
    "id": "u-r9N7IQnauD"
   },
   "source": [
    "### **1.1 Load contents from Google Drive**\n",
    "\n"
   ]
  },
  {
   "cell_type": "markdown",
   "metadata": {
    "id": "hIjavwJFstDA"
   },
   "source": [
    "Place the SketchGen folder in your google drive and then run the below code."
   ]
  },
  {
   "cell_type": "code",
   "execution_count": null,
   "metadata": {
    "colab": {
     "base_uri": "https://localhost:8080/"
    },
    "id": "Zba1Huq8nZV4",
    "outputId": "1b5e8df7-afca-4344-b513-8f26685e1306"
   },
   "outputs": [
    {
     "name": "stdout",
     "output_type": "stream",
     "text": [
      "Mounted at /content/drive\n"
     ]
    }
   ],
   "source": [
    "from google.colab import drive\n",
    "drive.mount('/content/drive')"
   ]
  },
  {
   "cell_type": "code",
   "execution_count": null,
   "metadata": {
    "colab": {
     "base_uri": "https://localhost:8080/"
    },
    "id": "p_hOsPzQnxMW",
    "outputId": "4f58d431-91f9-4701-fae1-76adf23c5d5f"
   },
   "outputs": [
    {
     "name": "stdout",
     "output_type": "stream",
     "text": [
      "/content/drive/MyDrive/SketchGen\n"
     ]
    }
   ],
   "source": [
    "%cd drive/MyDrive/SketchGen/"
   ]
  },
  {
   "cell_type": "markdown",
   "metadata": {
    "id": "peEeoFdPowu5"
   },
   "source": [
    "### **1.2 Load contents from GitHub**"
   ]
  },
  {
   "cell_type": "markdown",
   "metadata": {
    "id": "9N6xKEA5s7Os"
   },
   "source": [
    "the folder will be uploaded from [SketchGen](https://github.com/sumanthreddy07/SketchGen)."
   ]
  },
  {
   "cell_type": "code",
   "execution_count": null,
   "metadata": {
    "id": "eUaPU9mFo9wn"
   },
   "outputs": [],
   "source": [
    "!git clone https://github.com/sumanthreddy07/SketchGen.git"
   ]
  },
  {
   "cell_type": "code",
   "execution_count": null,
   "metadata": {
    "id": "PYlJO5ilFvjW"
   },
   "outputs": [],
   "source": [
    "%cd SketchGen/"
   ]
  },
  {
   "cell_type": "markdown",
   "metadata": {
    "id": "RGWGy7PypY4F"
   },
   "source": [
    "## **2. Training the model on a dataset(s)**\n",
    "\n",
    "**NOTE: Skip this block if you are working on pre-trained models**\n",
    "\n",
    "default dataset = cat\n",
    "\n",
    "- training on a specific dataset can be made using the <code>--dataset</code> argument.\n",
    "- training multiple datasets on a single model is made by editing the hyperparameters in the seq2seqVAE.py file -> <code>'data_set': ['first_dataset','second_dataset']</code>"
   ]
  },
  {
   "cell_type": "code",
   "execution_count": 40,
   "metadata": {
    "id": "ce9xEb7LqCpo"
   },
   "outputs": [],
   "source": [
    "#Run this code block to avoid printing tensorflow logs\n",
    "import logging\n",
    "import os\n",
    "\n",
    "os.environ['TF_CPP_MIN_LOG_LEVEL'] = '3'  # FATAL\n",
    "logging.getLogger('tensorflow').setLevel(logging.FATAL)"
   ]
  },
  {
   "cell_type": "code",
   "execution_count": null,
   "metadata": {
    "colab": {
     "base_uri": "https://localhost:8080/"
    },
    "id": "3Bxw0QoqEU5X",
    "outputId": "3e9b3a80-4dcd-49b8-d02f-523dd8ddc6e6"
   },
   "outputs": [],
   "source": [
    "!python3 seq2seqVAE_train.py --data_set=cat"
   ]
  },
  {
   "cell_type": "markdown",
   "metadata": {
    "id": "QwpXkazyrdl8"
   },
   "source": [
    "## **3. Load the weights of the model and animate the results**"
   ]
  },
  {
   "cell_type": "markdown",
   "metadata": {
    "id": "8YeOONGvtJ2A"
   },
   "source": [
    "We look into the models trained using [SketchGen](https://github.com/sumanthreddy07/SketchGen). We load the models, draw random sketches presented by the model travel along the latent space and explore what our model has learned."
   ]
  },
  {
   "cell_type": "code",
   "execution_count": 49,
   "metadata": {
    "id": "XL35VyQ-DoHu"
   },
   "outputs": [],
   "source": [
    "#dataset used\n",
    "name = \"ladder\"\n",
    "#datasets directory \n",
    "data_dir  = 'datasets'\n",
    "# Path to the experiment directory that was created during training\n",
    "exp_dir = 'experiments/'+name+'/exp'\n",
    "# Checkpoint file name (assumed in checkpoints folder within exp_dir)\n",
    "weights_fname = name+\".hdf5\""
   ]
  },
  {
   "cell_type": "markdown",
   "metadata": {
    "id": "nT4VJOQOuGTS"
   },
   "source": [
    "#### **Imports**"
   ]
  },
  {
   "cell_type": "code",
   "execution_count": 50,
   "metadata": {
    "id": "4T1uv1IuDoHw"
   },
   "outputs": [],
   "source": [
    "import os\n",
    "import copy\n",
    "from utils import *\n",
    "from seq2seqVAE_train import *\n",
    "import seq2seqVAE as sketch_rnn_model\n",
    "from seq2seqVAE import sample"
   ]
  },
  {
   "cell_type": "code",
   "execution_count": 51,
   "metadata": {
    "id": "KE3QrxfWDoHx"
   },
   "outputs": [],
   "source": [
    "# libraries required for visualisation:\n",
    "from IPython.display import SVG, display\n",
    "import PIL\n",
    "from PIL import Image\n",
    "import matplotlib.pyplot as plt\n",
    "import svgwrite\n",
    "from svglib.svglib import svg2rlg\n",
    "from reportlab.graphics import renderPM\n",
    "import glob\n",
    "\n",
    "# set numpy output to something sensible\n",
    "np.set_printoptions(precision=8, edgeitems=6, linewidth=200, suppress=True)"
   ]
  },
  {
   "cell_type": "markdown",
   "metadata": {
    "id": "nT4VJOQOuGTS"
   },
   "source": [
    "- draw_strokes() function draws a SVG image from the stroke data\n",
    "- make_grid_svg() function is responsible for the 2d grid of the image\n",
    "\n",
    "- animate() function saves the list of SVG images in a folder, converts them into PNG format and creates a GIF animation. The gifs are stored in the animations folder."
   ]
  },
  {
   "cell_type": "code",
   "execution_count": null,
   "metadata": {},
   "outputs": [],
   "source": [
    "# little function that displays vector images and saves them to .svg\n",
    "def draw_strokes(data, factor=0.05, svg_filename = 'SVG/sample.svg'):\n",
    "    \n",
    "    if not os.path.exists(os.path.dirname(svg_filename)):\n",
    "        os.makedirs(os.path.dirname(svg_filename))\n",
    "    \n",
    "    min_x, max_x, min_y, max_y = get_bounds(data, factor)\n",
    "    dims = (100 + max_x - min_x, 100 + max_y - min_y)\n",
    "    dwg = svgwrite.Drawing(svg_filename, size=dims)\n",
    "    dwg.add(dwg.rect(insert=(0, 0), size=dims,fill='white'))\n",
    "    lift_pen = 1\n",
    "    abs_x = 25 - min_x \n",
    "    abs_y = 25 - min_y\n",
    "    \n",
    "    p = \"M%s,%s \" % (abs_x, abs_y)\n",
    "    command = \"m\"\n",
    "    for i in range(len(data)):\n",
    "        if (lift_pen == 1):\n",
    "            command = \"m\"\n",
    "        elif (command != \"l\"):\n",
    "            command = \"l\"\n",
    "        else:\n",
    "            command = \"\"\n",
    "        x = float(data[i,0])/factor\n",
    "        y = float(data[i,1])/factor\n",
    "        lift_pen = data[i, 2]\n",
    "        p += command+str(x)+\",\"+str(y)+\" \"\n",
    "    the_color = \"black\"\n",
    "    stroke_width = 1\n",
    "    dwg.add(dwg.path(p).stroke(the_color,stroke_width).fill(\"none\"))\n",
    "    dwg.save()\n",
    "    display(SVG(dwg.tostring()))\n",
    "\n",
    "# generate a 2D grid of many vector drawings\n",
    "def make_grid_svg(s_list, grid_space=10.0, grid_space_x=16.0):\n",
    "    def get_start_and_end(x):\n",
    "        x = np.array(x)\n",
    "        x = x[:, 0:2]\n",
    "        x_start = x[0]\n",
    "        x_end = x.sum(axis=0)\n",
    "        x = x.cumsum(axis=0)\n",
    "        x_max = x.max(axis=0)\n",
    "        x_min = x.min(axis=0)\n",
    "        center_loc = (x_max+x_min)*0.5\n",
    "        return x_start-center_loc, x_end\n",
    "    x_pos = 0.0\n",
    "    y_pos = 0.0\n",
    "    result = [[x_pos, y_pos, 1]]\n",
    "    for sample in s_list:\n",
    "        s = sample[0]\n",
    "        grid_loc = sample[1]\n",
    "        grid_y = grid_loc[0]*grid_space+grid_space*0.5\n",
    "        grid_x = grid_loc[1]*grid_space_x+grid_space_x*0.5\n",
    "        start_loc, delta_pos = get_start_and_end(s)\n",
    "    \n",
    "        loc_x = start_loc[0]\n",
    "        loc_y = start_loc[1]\n",
    "        new_x_pos = grid_x+loc_x\n",
    "        new_y_pos = grid_y+loc_y\n",
    "        result.append([new_x_pos-x_pos, new_y_pos-y_pos, 0])\n",
    "    \n",
    "        result += s.tolist()\n",
    "        result[-1][2] = 1\n",
    "        x_pos = new_x_pos+delta_pos[0]\n",
    "        y_pos = new_y_pos+delta_pos[1]\n",
    "    return np.array(result)"
   ]
  },
  {
   "cell_type": "code",
   "execution_count": null,
   "metadata": {},
   "outputs": [],
   "source": [
    "def animate(data,name,factor=0.05,svg_filename='SVG/animate',animation_folder = 'animations/animation'):\n",
    "    \n",
    "    if os.path.exists(os.path.dirname(svg_filename)):\n",
    "        files = glob.glob('SVG/*')\n",
    "        for f in files:\n",
    "            os.remove(f)\n",
    "    else:\n",
    "        os.makedirs(os.path.dirname(svg_filename))\n",
    "\n",
    "    if not os.path.exists(os.path.dirname(animation_folder)):\n",
    "        os.makedirs(os.path.dirname(animation_folder))\n",
    "\n",
    "    min_x, max_x, min_y, max_y = get_bounds(data, factor)\n",
    "    dims = (100 + max_x - min_x, 100 + max_y - min_y)\n",
    "    dwg = svgwrite.Drawing(svg_filename, size=dims)\n",
    "    dwg.add(dwg.rect(insert=(0, 0), size=dims,fill='white'))\n",
    "    lift_pen = 1\n",
    "    abs_x = 25 - min_x \n",
    "    abs_y = 25 - min_y\n",
    "    \n",
    "    the_color = \"black\"\n",
    "    stroke_width = 4\n",
    "    p = \"M%s,%s \" % (abs_x, abs_y)\n",
    "    command = \"m\"\n",
    "    \n",
    "    for i in range(len(data)):\n",
    "        if (lift_pen == 1):\n",
    "            command = \"m\"\n",
    "        elif (command != \"l\"):\n",
    "            command = \"l\"\n",
    "        else:\n",
    "            command = \"\"\n",
    "        x = float(data[i,0])/factor\n",
    "        y = float(data[i,1])/factor\n",
    "        lift_pen = data[i, 2]\n",
    "\n",
    "        p += command+str(x)+\",\"+str(y)+\" \"\n",
    "        dwg = svgwrite.Drawing(svg_filename+str(i)+'.svg', size=dims)\n",
    "        dwg.add(dwg.rect(insert=(0, 0), size=dims,fill='white'))\n",
    "        dwg.add(dwg.path(p).stroke(the_color,stroke_width).fill(\"none\"))\n",
    "        dwg.save()\n",
    "        drawing = svg2rlg(svg_filename+str(i)+'.svg')\n",
    "        renderPM.drawToFile(drawing,svg_filename+str(i)+'.png', fmt=\"PNG\")\n",
    "        os.remove(svg_filename+str(i)+'.svg')\n",
    "        \n",
    "    dwg = svgwrite.Drawing(svg_filename+str(len(data))+'.svg', size=dims)\n",
    "    dwg.add(dwg.rect(insert=(0, 0), size=dims,fill='white'))\n",
    "    dwg.add(dwg.path(p).stroke(the_color,stroke_width).fill(\"none\"))\n",
    "    #display(SVG(dwg.tostring()))\n",
    "    dwg.save()\n",
    "    drawing = svg2rlg(svg_filename+str(len(data))+'.svg')\n",
    "    renderPM.drawToFile(drawing,svg_filename+str(len(data))+'.png', fmt=\"PNG\")\n",
    "    os.remove(svg_filename+str(len(data))+'.svg')\n",
    "    \n",
    "    # Create the frames\n",
    "    frames = []\n",
    "    for i in range(len(data)+1):\n",
    "        new_frame = Image.open(svg_filename+str(i)+\".png\")\n",
    "        frames.append(new_frame)\n",
    "     \n",
    "    #Save into a GIF file that loops forever\n",
    "    count = 0\n",
    "    animation_path = animation_folder+'_'+name\n",
    "    while os.path.exists(animation_path+str(count)+\".gif\"):\n",
    "        count += 1\n",
    "    animation_path = animation_path+str(count)+\".gif\"\n",
    "\n",
    "    frames[0].save(animation_path, format='GIF',append_images=frames[1:],\n",
    "                save_all=True, duration=150, loop=0)"
   ]
  },
  {
   "cell_type": "markdown",
   "metadata": {
    "id": "ApWA5dbHDoH1"
   },
   "source": [
    "#### **Load Data**"
   ]
  },
  {
   "cell_type": "code",
   "execution_count": 52,
   "metadata": {
    "colab": {
     "base_uri": "https://localhost:8080/"
    },
    "id": "O1qoQ5BeDoH1",
    "outputId": "f2638be5-4b76-444a-8655-a9a51df2b19f"
   },
   "outputs": [
    {
     "name": "stdout",
     "output_type": "stream",
     "text": [
      "Loaded 109075/2500/2500 from ladder.npz\n",
      "Dataset combined: 114075 (109075/2500/2500), avg len 24\n",
      "model_params.max_seq_len: 49\n",
      "total images <= max_seq_len is 109075\n",
      "total images <= max_seq_len is 2500\n",
      "total images <= max_seq_len is 2500\n"
     ]
    }
   ],
   "source": [
    "with open(os.path.join(exp_dir,'logs', 'model_config.json'), 'r') as f:\n",
    "    model_params = json.load(f)\n",
    "model_params = DotDict(model_params)   \n",
    "[train_set, valid_set, test_set, hps_model] = load_dataset(data_dir, model_params)"
   ]
  },
  {
   "cell_type": "markdown",
   "metadata": {
    "id": "jrrAK-RHDoH4"
   },
   "source": [
    "#### **Building a Seq2seq Variational Autoencoder model**"
   ]
  },
  {
   "cell_type": "code",
   "execution_count": 53,
   "metadata": {
    "colab": {
     "base_uri": "https://localhost:8080/"
    },
    "id": "EU1avfq8DoH4",
    "outputId": "30e60ea7-f0e7-419f-d75e-13172c540e28"
   },
   "outputs": [
    {
     "name": "stdout",
     "output_type": "stream",
     "text": [
      "Model: \"model_16\"\n",
      "__________________________________________________________________________________________________\n",
      "Layer (type)                    Output Shape         Param #     Connected to                     \n",
      "==================================================================================================\n",
      "encoder_input (InputLayer)      [(None, 49, 5)]      0                                            \n",
      "__________________________________________________________________________________________________\n",
      "bidirectional_4 (Bidirectional) (None, 512)          536576      encoder_input[0][0]              \n",
      "__________________________________________________________________________________________________\n",
      "dense_8 (Dense)                 (None, 128)          65664       bidirectional_4[0][0]            \n",
      "__________________________________________________________________________________________________\n",
      "dense_9 (Dense)                 (None, 128)          65664       bidirectional_4[0][0]            \n",
      "__________________________________________________________________________________________________\n",
      "lambda_8 (Lambda)               (None, 128)          0           dense_8[0][0]                    \n",
      "                                                                 dense_9[0][0]                    \n",
      "__________________________________________________________________________________________________\n",
      "decoder_input (InputLayer)      [(None, 49, 5)]      0                                            \n",
      "__________________________________________________________________________________________________\n",
      "repeat_vector_8 (RepeatVector)  (None, 49, 128)      0           lambda_8[0][0]                   \n",
      "__________________________________________________________________________________________________\n",
      "dec_initial_state (Dense)       (None, 1024)         132096      lambda_8[0][0]                   \n",
      "__________________________________________________________________________________________________\n",
      "concatenate_8 (Concatenate)     (None, 49, 133)      0           decoder_input[0][0]              \n",
      "                                                                 repeat_vector_8[0][0]            \n",
      "__________________________________________________________________________________________________\n",
      "tf_op_layer_strided_slice_8 (Te [(None, 512)]        0           dec_initial_state[0][0]          \n",
      "__________________________________________________________________________________________________\n",
      "tf_op_layer_strided_slice_9 (Te [(None, 512)]        0           dec_initial_state[0][0]          \n",
      "__________________________________________________________________________________________________\n",
      "lstm_9 (LSTM)                   [(None, 49, 512), (N 1323008     concatenate_8[0][0]              \n",
      "                                                                 tf_op_layer_strided_slice_8[0][0]\n",
      "                                                                 tf_op_layer_strided_slice_9[0][0]\n",
      "__________________________________________________________________________________________________\n",
      "output (Dense)                  (None, 49, 123)      63099       lstm_9[0][0]                     \n",
      "==================================================================================================\n",
      "Total params: 2,186,107\n",
      "Trainable params: 2,186,107\n",
      "Non-trainable params: 0\n",
      "__________________________________________________________________________________________________\n",
      "Weights from experiments/ladder/exp/checkpoints/ladder.hdf5 loaded successfully\n",
      "Created Sub Models!\n"
     ]
    }
   ],
   "source": [
    "weights = os.path.join(exp_dir,'checkpoints',weights_fname) # checkpoint path\n",
    "seq2seq = Seq2seqModel(model_params)  # build model\n",
    "seq2seq.load_trained_weights(weights) # load checkpoint\n",
    "seq2seq.make_sampling_models()  # build sub models that are used to infuse inputs and probe values of intermediate layers"
   ]
  },
  {
   "cell_type": "code",
   "execution_count": 54,
   "metadata": {
    "id": "agCa0XRMDoH5"
   },
   "outputs": [],
   "source": [
    "# Function for encoding input and retrieving latent vector\n",
    "def encode(input_strokes, draw=False):\n",
    "    strokes = to_big_strokes(input_strokes, max_len=model_params['max_seq_len']-1).tolist()\n",
    "    strokes.insert(0, [0, 0, 1, 0, 0])\n",
    "    seq_len = [len(input_strokes)]\n",
    "    if draw:\n",
    "        draw_strokes(to_normal_strokes(np.array(strokes)))\n",
    "    strokes = np.expand_dims(strokes, axis=0)\n",
    "    return seq2seq.sample_models['encoder_model'].predict(strokes)\n"
   ]
  },
  {
   "cell_type": "code",
   "execution_count": 55,
   "metadata": {
    "id": "YD89hno3DoH6"
   },
   "outputs": [],
   "source": [
    "# Function for decoding a latent space factor into a sketch\n",
    "def decode(z_input=None, draw_mode=True, temperature=0.1, factor=0.05):\n",
    "    z = None\n",
    "    if z_input is not None:\n",
    "        z = z_input\n",
    "    sample_strokes, m = sample(seq2seq, seq_len=model_params.max_seq_len, temperature=temperature, z=z)\n",
    "    strokes = to_normal_strokes(sample_strokes)\n",
    "    if draw_mode:\n",
    "        draw_strokes(strokes, factor)\n",
    "    return strokes"
   ]
  },
  {
   "cell_type": "markdown",
   "metadata": {
    "id": "oM4hdFk2DoH7"
   },
   "source": [
    "#### **Load a random sketch from the test dataset**"
   ]
  },
  {
   "cell_type": "code",
   "execution_count": 58,
   "metadata": {
    "colab": {
     "base_uri": "https://localhost:8080/",
     "height": 403
    },
    "id": "V_bDCa2EDoH7",
    "outputId": "2663993a-6af9-4232-fd95-54ccf3e55250",
    "scrolled": false
   },
   "outputs": [
    {
     "ename": "NameError",
     "evalue": "name 'get_bounds' is not defined",
     "output_type": "error",
     "traceback": [
      "\u001b[0;31m---------------------------------------------------------------------------\u001b[0m",
      "\u001b[0;31mNameError\u001b[0m                                 Traceback (most recent call last)",
      "\u001b[0;32m<ipython-input-58-7c622b69d901>\u001b[0m in \u001b[0;36m<module>\u001b[0;34m\u001b[0m\n\u001b[1;32m      1\u001b[0m \u001b[0mstroke\u001b[0m \u001b[0;34m=\u001b[0m \u001b[0mtest_set\u001b[0m\u001b[0;34m.\u001b[0m\u001b[0mrandom_sample\u001b[0m\u001b[0;34m(\u001b[0m\u001b[0;34m)\u001b[0m\u001b[0;34m\u001b[0m\u001b[0;34m\u001b[0m\u001b[0m\n\u001b[0;32m----> 2\u001b[0;31m \u001b[0mdraw_strokes\u001b[0m\u001b[0;34m(\u001b[0m\u001b[0mstroke\u001b[0m\u001b[0;34m)\u001b[0m\u001b[0;34m\u001b[0m\u001b[0;34m\u001b[0m\u001b[0m\n\u001b[0m",
      "\u001b[0;32m~/Coding/GIT/SketchGen/animate.py\u001b[0m in \u001b[0;36mdraw_strokes\u001b[0;34m(data, factor, svg_filename)\u001b[0m\n\u001b[1;32m     18\u001b[0m \u001b[0;34m\u001b[0m\u001b[0m\n\u001b[1;32m     19\u001b[0m     \u001b[0mabs_x\u001b[0m \u001b[0;34m=\u001b[0m \u001b[0;36m0\u001b[0m\u001b[0;34m\u001b[0m\u001b[0;34m\u001b[0m\u001b[0m\n\u001b[0;32m---> 20\u001b[0;31m     \u001b[0mabs_y\u001b[0m \u001b[0;34m=\u001b[0m \u001b[0;36m0\u001b[0m\u001b[0;34m\u001b[0m\u001b[0;34m\u001b[0m\u001b[0m\n\u001b[0m\u001b[1;32m     21\u001b[0m     \u001b[0;32mfor\u001b[0m \u001b[0mi\u001b[0m \u001b[0;32min\u001b[0m \u001b[0mrange\u001b[0m\u001b[0;34m(\u001b[0m\u001b[0mlen\u001b[0m\u001b[0;34m(\u001b[0m\u001b[0mdata\u001b[0m\u001b[0;34m)\u001b[0m\u001b[0;34m)\u001b[0m\u001b[0;34m:\u001b[0m\u001b[0;34m\u001b[0m\u001b[0;34m\u001b[0m\u001b[0m\n\u001b[1;32m     22\u001b[0m         \u001b[0mx\u001b[0m \u001b[0;34m=\u001b[0m \u001b[0mfloat\u001b[0m\u001b[0;34m(\u001b[0m\u001b[0mdata\u001b[0m\u001b[0;34m[\u001b[0m\u001b[0mi\u001b[0m\u001b[0;34m,\u001b[0m \u001b[0;36m0\u001b[0m\u001b[0;34m]\u001b[0m\u001b[0;34m)\u001b[0m \u001b[0;34m/\u001b[0m \u001b[0mfactor\u001b[0m\u001b[0;34m\u001b[0m\u001b[0;34m\u001b[0m\u001b[0m\n",
      "\u001b[0;31mNameError\u001b[0m: name 'get_bounds' is not defined"
     ]
    }
   ],
   "source": [
    "stroke = test_set.random_sample()\n",
    "draw_strokes(stroke)"
   ]
  },
  {
   "cell_type": "code",
   "execution_count": 16,
   "metadata": {
    "id": "LKZ6v3dPDoH-"
   },
   "outputs": [
    {
     "name": "stderr",
     "output_type": "stream",
     "text": [
      "/home/sumanth/anaconda3/lib/python3.7/site-packages/tensorflow/python/keras/engine/training.py:2325: UserWarning: `Model.state_updates` will be removed in a future version. This property should not be used in TensorFlow 2.0, as `updates` are applied automatically.\n",
      "  warnings.warn('`Model.state_updates` will be removed in a future version. '\n"
     ]
    }
   ],
   "source": [
    "z = encode(stroke)"
   ]
  },
  {
   "cell_type": "code",
   "execution_count": 17,
   "metadata": {
    "colab": {
     "base_uri": "https://localhost:8080/",
     "height": 362
    },
    "id": "pVq-aWUaDoH_",
    "outputId": "b2ff46ca-fe87-42ae-c058-83b6463c768e"
   },
   "outputs": [
    {
     "data": {
      "image/svg+xml": [
       "<svg baseProfile=\"full\" height=\"248.62440168857574\" version=\"1.1\" width=\"182.2705503925681\" xmlns=\"http://www.w3.org/2000/svg\" xmlns:ev=\"http://www.w3.org/2001/xml-events\" xmlns:xlink=\"http://www.w3.org/1999/xlink\"><defs/><rect fill=\"white\" height=\"248.62440168857574\" width=\"182.2705503925681\" x=\"0\" y=\"0\"/><path d=\"M71.82243804447353,129.93220538832247 m-0.03889317624270916,0.11740266345441341 l-9.2299884557724,-5.098922252655029 -22.148725986480713,-14.924296140670776 l-6.339362263679504,-7.764303088188171 -4.780150651931763,-9.643945097923279 l-4.109016060829163,-14.882311820983887 -0.17630144953727722,-12.625900506973267 l4.773662984371185,-11.616243124008179 8.619281649589539,-11.99237585067749 l6.787172555923462,-6.9895511865615845 6.403065323829651,-3.833611309528351 l13.024228811264038,-5.678147673606873 7.897060513496399,2.0825374126434326 l7.24747359752655,9.694245457649231 5.561168193817139,6.819260120391846 l13.157415390014648,13.71383786201477 3.509022891521454,5.970826148986816 l4.785805642604828,11.845132112503052 0.5051928386092186,7.810919880867004 l-3.8464096188545227,13.32437515258789 -13.075647354125977,16.80178165435791 l-15.632904767990112,13.849772214889526 -1.351260095834732,3.3623158931732178 m2.515192925930023,-6.137743592262268 l4.129500985145569,17.34956979751587 8.602320551872253,26.651756763458252 l2.9180169105529785,5.485814809799194 m-36.78806781768799,-141.94279670715332 l8.208429217338562,38.84809494018555 9.5269113779068,34.5587420463562 l2.3045656085014343,8.31266701221466 m-13.868093490600586,-51.533241271972656 l-16.249818801879883,-6.02716863155365 -19.311368465423584,-5.9236156940460205 m38.23761463165283,4.159826338291168 l8.664146065711975,-6.787424683570862 6.898630857467651,-4.417940378189087 m-14.09774661064148,28.162963390350342 l-16.74648880958557,0.09012828581035137 -14.335367679595947,2.7107179164886475 m33.02118539810181,-0.3311847150325775 l10.350852012634277,-3.6461058259010315 13.731731176376343,-9.062781929969788 l4.695476293563843,-4.662823677062988 \" fill=\"none\" stroke=\"black\" stroke-width=\"1\"/></svg>"
      ],
      "text/plain": [
       "<IPython.core.display.SVG object>"
      ]
     },
     "metadata": {},
     "output_type": "display_data"
    }
   ],
   "source": [
    "x = decode(z, temperature=0.5)"
   ]
  },
  {
   "cell_type": "code",
   "execution_count": 22,
   "metadata": {
    "id": "2ecj-iA5OVH6"
   },
   "outputs": [],
   "source": [
    "animate(x,name)"
   ]
  },
  {
   "cell_type": "markdown",
   "metadata": {
    "id": "r5rysK8sDoIA"
   },
   "source": [
    "#### **Temperature of the outputs**\n",
    "The temperature variable controls the level of randomness we would like our samples to have during the sampling (equation 8 of the sketch-rnn [paper](https://arxiv.org/pdf/1704.03477.pdf)).\n",
    "\n",
    "Let's decode our model output using varying temperature values between 0.1 and 1 and see how 'creative' our model can get"
   ]
  },
  {
   "cell_type": "code",
   "execution_count": null,
   "metadata": {
    "colab": {
     "base_uri": "https://localhost:8080/",
     "height": 447
    },
    "id": "WTgs0dhrDoIA",
    "outputId": "5a18a482-ec56-4f5d-8f34-09659a2d05d3",
    "scrolled": true
   },
   "outputs": [
    {
     "data": {
      "image/svg+xml": [
       "<svg baseProfile=\"full\" height=\"405.2163366600871\" version=\"1.1\" width=\"3200.0379653275013\" xmlns=\"http://www.w3.org/2000/svg\" xmlns:ev=\"http://www.w3.org/2001/xml-events\" xmlns:xlink=\"http://www.w3.org/1999/xlink\"><defs/><rect fill=\"white\" height=\"405.2163366600871\" width=\"3200.0379653275013\" x=\"0\" y=\"0\"/><path d=\"M25,77.43364214897156 m0.0,0.0 m170.13479908928275,218.66999924182892 l-0.040510501712560654,0.17502527683973312 -13.20997953414917,-2.5703516602516174 l-15.120737552642822,-7.2898101806640625 -6.1180925369262695,-5.8314818143844604 l-6.462230086326599,-7.464374303817749 -7.6184892654418945,-11.71950101852417 l-11.234956979751587,-24.5603084564209 -6.345458030700684,-25.633137226104736 l-2.5192487239837646,-23.146820068359375 0.46021509915590286,-21.260313987731934 l3.351052403450012,-20.55917501449585 5.523809790611267,-20.284039974212646 l7.551576495170593,-18.797430992126465 9.05488133430481,-16.417852640151978 l9.770674705505371,-13.162965774536133 8.283465504646301,-8.000696301460266 l13.715978860855103,-8.791932463645935 4.437851011753082,-1.8498066067695618 l4.23270046710968,0.7174684107303619 5.220819115638733,4.124994277954102 l8.758822083473206,9.754753708839417 9.288789629936218,13.696814775466919 l9.357490539550781,18.142340183258057 8.242715001106262,22.805628776550293 l4.893567264080048,22.786872386932373 4.844377934932709,40.897769927978516 l-1.0081689804792404,23.200573921203613 -6.013690233230591,24.599878787994385 l-6.314250826835632,16.0159170627594 -10.656188726425171,16.20753049850464 l-13.019318580627441,11.536298990249634 -5.098316073417664,3.030790388584137 l-2.8794699907302856,-0.21152926608920097 0.018384696450084448,-3.1094858050346375 m-17.907695770263672,-215.32896041870117 l2.641887068748474,78.86929512023926 6.880144476890564,75.18737316131592 l7.90627121925354,55.15961170196533 3.881152868270874,12.155165672302246 m-42.64543056488037,-173.84931564331055 l6.7461079359054565,1.229659989476204 13.195043802261353,-0.8101800829172134 m-20.878572463989258,35.63724756240845 l6.267877221107483,0.6995825469493866 14.322618246078491,0.17380878329277039 l14.375207424163818,-0.33744439482688904 m-33.52161169052124,44.05690670013428 l7.673240303993225,0.8760581910610199 8.612244129180908,0.449054092168808 l17.80600070953369,0.5137620866298676 m-29.720115661621094,35.77502965927124 l16.336557865142822,-0.10250621475279331 10.54611086845398,-0.46453796327114105 m-20.59764862060547,25.9537672996521 l10.915961265563965,1.9183214008808136 9.429638981819153,1.1092829704284668 l9.940991997718811,-0.28764378279447556 m-20.361313819885254,2.400340586900711 l9.616363048553467,3.53045254945755 7.725605368614197,2.5576549768447876 l9.139569997787476,1.161900982260704 5.074067711830139,-0.5189583823084831 m302.08992628613487,25.25806243531406 l-0.038081693928688765,0.17684021964669228 -13.172527551651001,-2.5864410400390625 l-15.096573829650879,-7.239113450050354 -6.108493208885193,-5.807459354400635 l-5.9969669580459595,-7.31959342956543 -11.323368549346924,-17.53103733062744 l-5.745421648025513,-13.510502576828003 -8.276236057281494,-33.198275566101074 l-1.7931051552295685,-18.034756183624268 -0.34573350101709366,-32.085888385772705 l2.2861969470977783,-18.223062753677368 4.869242310523987,-16.195719242095947 l7.951294779777527,-17.16741442680359 10.554119348526001,-15.6027090549469 l10.010823011398315,-10.970404148101807 12.946821451187134,-11.076182126998901 l8.275651335716248,-5.575159192085266 5.950666666030884,-3.1927579641342163 l7.336949110031128,-2.03239306807518 3.5445979237556458,0.38635436445474625 l3.4117168188095093,3.1474196910858154 7.698887586593628,19.779778718948364 l8.172280192375183,19.32200789451599 9.570658802986145,26.316423416137695 l11.496587991714478,37.065160274505615 3.6942294239997864,23.16432476043701 l-0.031644231639802456,26.540043354034424 -4.619080424308777,18.8240385055542 l-8.755109310150146,19.296441078186035 -10.75962781906128,14.6763014793396 l-9.578471183776855,9.092846512794495 -13.60116720199585,8.054926991462708 l-7.180157899856567,1.2505565583705902 -2.8085535764694214,-2.1138590574264526 m-2.6584988832473755,-218.1924819946289 l-2.354445159435272,68.15303802490234 4.330347776412964,84.05635833740234 l5.892773866653442,53.24690818786621 0.14187882654368877,20.41555643081665 m-30.852839946746826,-179.62196350097656 l4.554670453071594,-0.7176584750413895 15.986424684524536,-0.1849767379462719 l17.970740795135498,-1.2591969966888428 m-41.43866539001465,47.91191577911377 l7.739260792732239,0.2646680735051632 26.173503398895264,-2.2158804535865784 m-31.523964405059814,42.4912166595459 l6.959823369979858,1.1560413986444473 9.390665888786316,-0.645914301276207 l12.701934576034546,-1.7280249297618866 12.9063880443573,-3.259640336036682 m-37.66848087310791,46.20261192321777 l7.938734292984009,0.6228179112076759 9.132920503616333,-0.1734977401793003 l10.998151302337646,-1.4054583013057709 m-23.382134437561035,19.949568510055542 l10.561480522155762,3.3463895320892334 8.332948088645935,1.1660853028297424 l4.749380052089691,0.4101154953241348 m-16.875433921813965,-2.6322177052497864 l8.116225004196167,6.099756956100464 8.308260440826416,4.643612802028656 m321.182586022187,13.46100484021008 l-0.005209215451031923,0.17696866765618324 -13.213766813278198,-2.5552114844322205 l-15.206611156463623,-7.203112244606018 -6.656662225723267,-6.233847141265869 l-5.863092541694641,-7.190137505531311 -7.640385031700134,-11.447203159332275 l-11.61751389503479,-25.456783771514893 -6.848820447921753,-30.340468883514404 l-1.2626130878925323,-13.80433201789856 -0.14501338824629784,-21.757254600524902 l2.9447275400161743,-23.403568267822266 6.950303912162781,-25.00035285949707 l7.7638959884643555,-18.047529458999634 10.751184225082397,-16.80576205253601 l10.049852132797241,-10.62076449394226 6.966596841812134,-5.892096161842346 l9.048934578895569,-5.540603995323181 6.568663716316223,-1.7735812067985535 l6.4744919538497925,0.5306727439165115 4.890055060386658,1.7556248605251312 l6.952502727508545,5.344952940940857 9.278072714805603,12.427278757095337 l8.91726553440094,17.616885900497437 9.210646152496338,27.050645351409912 l10.27869462966919,40.813069343566895 2.2068610787391663,25.880672931671143 l-1.6475939750671387,19.891120195388794 -7.012467384338379,23.39512586593628 l-7.216770052909851,15.853592157363892 -12.181099653244019,17.808750867843628 l-13.873754739761353,12.091013193130493 -3.9869624376296997,2.7622249722480774 l-1.179594025015831,0.1969192735850811 -1.248909831047058,26.99481964111328 m-16.46070122718811,-244.78492736816406 l3.242311477661133,40.83697319030762 8.430826663970947,85.54417610168457 l8.991748094558716,71.77299499511719 4.29229348897934,17.547333240509033 m-46.088576316833496,-174.68711853027344 l7.34233021736145,4.363779425621033 12.672836780548096,4.848711788654327 l7.8637295961380005,2.6382824778556824 m-30.903966426849365,27.481307983398438 l20.30782461166382,7.218437194824219 10.28490662574768,2.7544817328453064 m-29.69907283782959,31.56458854675293 l4.996973872184753,3.1764107942581177 7.805206775665283,2.7529677748680115 l16.824510097503662,3.2697024941444397 m-19.620702266693115,35.048789978027344 l6.559590101242065,1.5370948612689972 6.5905022621154785,0.5258052423596382 l9.473639726638794,-0.756455808877945 m10.736793279647827,-111.94426536560059 l6.784900426864624,-3.3583906292915344 8.99854063987732,-4.667147099971771 l7.944258451461792,-5.586206912994385 5.8931005001068115,-3.2140597701072693 m-32.28531837463379,58.14412593841553 l18.9427649974823,-7.231626510620117 11.347917318344116,-4.449077546596527 m288.4196352609433,152.0636301394552 l-0.015002567088231444,0.15688195824623108 -13.151028156280518,-2.6625707745552063 l-15.36444902420044,-7.183088064193726 -6.067051291465759,-5.585936903953552 l-6.457529664039612,-8.139923810958862 -8.750731348991394,-12.230231761932373 l-11.21528148651123,-26.676862239837646 -3.792857527732849,-16.669671535491943 l-4.112946391105652,-32.75308847427368 0.25734176859259605,-22.531650066375732 l2.0439986884593964,-15.336205959320068 6.2454140186309814,-21.325066089630127 l8.39790165424347,-20.069897174835205 6.639645099639893,-11.522966623306274 l16.859265565872192,-19.34183120727539 8.486393690109253,-8.70681643486023 l4.54134464263916,-3.2054603099823 4.283454120159149,-1.6466756165027618 l8.777759075164795,0.5625279247760773 5.756210684776306,1.8488030135631561 l7.380589246749878,5.292541980743408 14.31605577468872,14.995237588882446 l9.885112047195435,21.110432147979736 6.391155123710632,23.429219722747803 l4.11290317773819,23.75852108001709 1.5235716104507446,32.96543836593628 l-2.6258274912834167,37.4306583404541 -2.246459722518921,10.992345809936523 l-6.585608720779419,18.200066089630127 -7.651228904724121,14.305423498153687 l-11.767346858978271,13.97024393081665 -6.775420904159546,4.113594889640808 l-3.5308289527893066,-0.019680410623550415 -0.31735215336084366,-3.0976080894470215 m-20.32860279083252,-216.19049072265625 l-0.8150313794612885,14.436911344528198 0.721629336476326,85.55087089538574 l13.769044876098633,97.36411094665527 3.3687400817871094,17.669473886489868 m-37.24436283111572,-171.1231803894043 l0.061156898736953735,52.60889530181885 4.895481765270233,22.062370777130127 m34.96809244155884,-57.764625549316406 l-0.6768658012151718,4.737149477005005 -4.7029852867126465,14.570448398590088 l-13.992998600006104,29.056496620178223 -6.211719512939453,11.23477816581726 m2.967904806137085,-51.04716777801514 l-1.3245408236980438,2.7074065804481506 -1.0796881467103958,13.808958530426025 l-2.756422460079193,26.938390731811523 -5.179131627082825,28.154380321502686 m19.419878721237183,-50.69725513458252 l-0.9669400751590729,9.341051578521729 -2.7399268746376038,39.098145961761475 l-0.44313788414001465,35.886831283569336 m11.284116506576538,-53.317904472351074 l-1.5106897056102753,7.201191186904907 -8.484272956848145,31.051414012908936 m21.12842559814453,-13.766206502914429 l-12.695122957229614,26.509928703308105 -5.534914135932922,20.539534091949463 m328.9244976674672,36.352631486952305 l-0.0056321348529309034,0.16547022387385368 -13.163790702819824,-2.5301817059516907 l-15.216493606567383,-7.382060289382935 -6.382364630699158,-5.772702097892761 l-5.563763380050659,-6.814653277397156 -7.5077903270721436,-10.339362621307373 l-14.72330927848816,-33.538856506347656 -3.801521956920624,-16.062034368515015 l-2.5756195187568665,-22.313411235809326 0.7477965950965881,-30.859522819519043 l3.431486487388611,-17.237567901611328 5.728374123573303,-18.3031165599823 l5.865432620048523,-15.366637706756592 8.27569842338562,-15.305039882659912 l12.731090784072876,-16.7769455909729 9.531528949737549,-8.925032019615173 l11.295554637908936,-8.226909637451172 4.737167060375214,-2.714686393737793 l5.649300813674927,-0.4603439196944237 7.854323983192444,11.17619276046753 l6.314153671264648,10.544990301132202 6.539640426635742,13.982702493667603 l7.149973511695862,18.828182220458984 6.674754619598389,19.43339228630066 l9.914466142654419,38.36570739746094 3.1715667247772217,22.400574684143066 l0.372711643576622,16.87587022781372 -5.320361256599426,23.103442192077637 l-15.642344951629639,36.591031551361084 -8.248087763786316,11.174757480621338 l-7.9998767375946045,6.191840171813965 -4.559491872787476,1.7267586290836334 l-0.20673630759119987,9.564805030822754 0.9618481993675232,9.553544521331787 m-25.222105979919434,-251.55988693237305 l8.988813757896423,105.21562576293945 6.326433420181274,56.16410255432129 l5.353713035583496,43.20950984954834 3.4810519218444824,13.8763427734375 m-22.29055643081665,-126.63786888122559 l-18.227369785308838,-25.00471830368042 -13.764184713363647,-22.676074504852295 m39.028282165527344,48.54318618774414 l1.2987841665744781,-5.257712006568909 19.058449268341064,-17.939276695251465 l7.015858292579651,-7.230719327926636 m-33.2363224029541,52.22053527832031 l-6.261605620384216,-0.8215025067329407 -19.971669912338257,-9.086711406707764 l-10.94423532485962,-7.815226316452026 -12.957264184951782,-13.606053590774536 m49.81598377227783,46.55613422393799 l3.1170442700386047,-0.8228667080402374 17.542243003845215,-5.97287118434906 l17.87371277809143,-9.679967164993286 m-50.65133571624756,33.21513891220093 l-6.797191500663757,-2.6831769943237305 -8.585397005081177,-6.1684852838516235 l-16.712793111801147,-11.417577266693115 -8.875216245651245,-6.451017260551453 m54.810638427734375,26.076831817626953 l30.07329225540161,-9.563657641410828 m302.8277862526011,105.35329135134816 l-0.09146238677203655,0.16012698411941528 -13.207021951675415,-2.59583979845047 l-15.120295286178589,-7.174314260482788 -6.857808232307434,-6.345254182815552 l-5.407487750053406,-6.1885374784469604 -10.063921213150024,-16.873286962509155 l-5.8439308404922485,-13.882778882980347 -12.254656553268433,-39.89706754684448 l-1.2037985026836395,-15.774633884429932 -0.08999187499284744,-21.630704402923584 l3.8594943284988403,-22.78881311416626 7.322419285774231,-22.046616077423096 l6.31040096282959,-13.992844820022583 11.615371704101562,-18.79610538482666 l11.42888069152832,-15.861868858337402 6.226741075515747,-4.0696799755096436 l14.409899711608887,-4.043139219284058 5.867668986320496,0.017478165682405233 l3.3534109592437744,0.6928714364767075 3.1467661261558533,1.7518989741802216 l4.477996230125427,3.9107367396354675 5.959306955337524,9.515264630317688 l11.466118097305298,21.586241722106934 8.110436201095581,23.332340717315674 l14.99302864074707,44.42611217498779 2.749643623828888,23.002846240997314 l-0.11737492866814137,29.618871212005615 -5.090726613998413,16.39557123184204 l-7.579156160354614,13.751158714294434 -20.30614137649536,21.042344570159912 l-6.588194370269775,9.082404971122742 -8.623083233833313,9.539434909820557 l-5.332111120223999,2.9736921191215515 -1.1926107853651047,-1.3535134494304657 m-5.927242040634155,-221.69189453125 l-0.8037924021482468,98.63755226135254 5.211603045463562,69.37229633331299 l6.564533710479736,50.129714012145996 0.9871292859315872,2.3523786664009094 m-21.584830284118652,-176.30401611328125 l-12.234851121902466,-10.387816429138184 -7.085217237472534,-3.894277811050415 m22.748277187347412,26.055524349212646 l14.271796941757202,-4.591901004314423 18.3183753490448,-9.191721081733704 l5.205569863319397,-4.369319975376129 m-37.04594135284424,57.938294410705566 l-0.5677368491888046,1.7283552885055542 -6.938090920448303,1.4202702045440674 m5.106104016304016,17.645949125289917 l2.9817411303520203,4.9696433544158936 3.8811740279197693,7.544532418251038 l17.751625776290894,15.508382320404053 m-19.788919687271118,-25.80155849456787 l-4.936274290084839,-2.7965140342712402 -9.859143495559692,-2.2151322662830353 l-9.515098929405212,-1.4788879454135895 m23.561429977416992,28.596644401550293 l5.0278449058532715,2.343510538339615 11.297075748443604,0.6285736709833145 l24.576056003570557,-1.9085495173931122 m291.251983307302,78.73625157633796 l-0.022430983372032642,0.25627385824918747 -13.191213607788086,-2.492544651031494 l-15.05808711051941,-7.240784168243408 -5.927480459213257,-5.234375 l-5.27192234992981,-5.996587872505188 -11.65947675704956,-17.37856388092041 l-7.741042375564575,-21.45209550857544 -3.4924378991127014,-16.760406494140625 l-4.902434945106506,-34.08618688583374 0.293932780623436,-12.646602392196655 l2.9145851731300354,-27.277629375457764 5.589115619659424,-24.011986255645752 l4.201765060424805,-10.107358694076538 13.679778575897217,-23.178236484527588 l6.9650596380233765,-7.9465460777282715 7.582630515098572,-5.7625120878219604 l14.898234605789185,-7.141451835632324 9.916555881500244,-1.9389161467552185 l7.7263689041137695,0.3887986019253731 3.7995392084121704,2.027968317270279 l4.148111641407013,5.9367698431015015 4.492599368095398,9.086725115776062 l6.778309345245361,18.048741817474365 5.532901287078857,21.18309736251831 l16.948100328445435,51.97181224822998 2.654378116130829,24.822583198547363 l-0.5622515827417374,22.111032009124756 -2.6056888699531555,17.717963457107544 l-7.846375107765198,24.80431079864502 -5.795909762382507,13.014534711837769 l-11.68542742729187,15.099196434020996 -6.68943464756012,4.309253394603729 l-19.534693956375122,5.899933576583862 -11.436052322387695,-0.35470183938741684 m3.363208770751953,-228.07846069335938 l-1.6583570837974548,17.483620643615723 -0.05345858167856932,94.28553581237793 l12.20024824142456,77.14476108551025 3.010413944721222,10.385687351226807 m-59.918341636657715,-149.2600440979004 l13.672504425048828,15.659620761871338 3.354492485523224,4.935540556907654 m48.91018867492676,-6.854522228240967 l-8.66358757019043,5.657203197479248 -62.78325080871582,32.030324935913086 l-2.2922715544700623,7.1685802936553955 2.8832203149795532,5.504441261291504 m38.25535774230957,11.593515872955322 l-1.1902347952127457,4.36464786529541 -7.536084055900574,11.516543626785278 l-15.262451171875,18.664636611938477 m19.968743324279785,-7.954589128494263 l-3.7431588768959045,27.65974998474121 -2.5687041878700256,14.410121440887451 m29.597797393798828,-136.0042953491211 l-3.4381014108657837,4.1357675194740295 -1.0284939408302307,13.876829147338867 l-0.8249872177839279,32.0055627822876 0.7928059250116348,18.390169143676758 m20.361099243164062,-31.795201301574707 l-11.616392135620117,28.417413234710693 -11.340100765228271,35.99252223968506 m333.6308738961816,70.93170708045363 l-0.08157714270055294,0.15876533463597298 -13.206982612609863,-2.932336926460266 l-14.899448156356812,-7.208762764930725 -5.659642219543457,-6.108265519142151 l-4.4867900013923645,-5.626401305198669 -15.016722679138184,-21.473946571350098 l-5.779600739479065,-10.56094765663147 -5.137646794319153,-25.70129632949829 l-3.7649881839752197,-35.30427694320679 0.9242638200521469,-15.729798078536987 l1.2917988002300262,-21.510682106018066 6.25044047832489,-20.512900352478027 l5.858515501022339,-13.577065467834473 10.48277497291565,-16.674420833587646 l8.081329464912415,-10.116058588027954 14.248878955841064,-11.981621980667114 l12.210276126861572,-8.6157888174057 8.676456212997437,-5.409243702888489 l4.484021365642548,-1.7168302834033966 3.3127152919769287,2.786153256893158 l7.677011489868164,13.00770878791809 8.858285546302795,18.048175573349 l6.417052745819092,19.84431505203247 10.175894498825073,23.80417823791504 l6.505507826805115,25.92899799346924 2.5170257687568665,25.00249147415161 l-0.47929614782333374,27.41741180419922 -0.8243969827890396,17.727071046829224 l-3.1609299778938293,16.75075054168701 -8.137889504432678,22.478508949279785 l-22.980244159698486,21.62930965423584 -14.814848899841309,3.386545479297638 l-3.6454465985298157,-2.1366365253925323 -1.9889946281909943,-4.231092035770416 m-2.1281400322914124,-225.49945831298828 l-0.7062279433012009,90.70962905883789 7.431315779685974,58.04300308227539 l8.229330778121948,51.51447772979736 1.9888289272785187,14.731234312057495 l-0.4838847368955612,1.6596440970897675 m-23.293871879577637,-167.38191604614258 l-10.590778589248657,-12.90653109550476 m11.889625787734985,17.983907461166382 l9.34474229812622,-7.852935194969177 9.998653531074524,-5.816470384597778 m-24.116601943969727,58.20563316345215 l-11.987155675888062,7.675671577453613 -8.96375060081482,0.9800281375646591 l-0.6980091333389282,-2.4335286021232605 m28.705885410308838,26.817445755004883 l0.07519746199250221,0.7588575780391693 5.243053436279297,-1.1785055696964264 m-9.810784459114075,42.250099182128906 l-0.47705259174108505,0.4178878664970398 0.01350212492980063,-2.1060530841350555 l-1.962953358888626,-21.185264587402344 m-0.2738359197974205,-26.812827587127686 l3.686957359313965,0.07958848029375076 13.421084880828857,-3.6499547958374023 l5.2370017766952515,-3.2977309823036194 7.188078165054321,-12.083468437194824 m314.7356516995933,98.83197370916605 l-0.0028438077424652874,0.1745261810719967 -13.252811431884766,-2.707633078098297 l-15.276600122451782,-7.145153284072876 -7.337309122085571,-6.081315875053406 l-5.961697697639465,-8.301737904548645 -9.292455911636353,-10.026963949203491 l-7.739228010177612,-16.483943462371826 -11.13457202911377,-42.22261905670166 l-1.971479207277298,-20.188453197479248 -0.29803868383169174,-19.44350242614746 l1.0431914031505585,-17.866348028182983 4.845002293586731,-15.77041745185852 l14.808775186538696,-27.741825580596924 8.76984417438507,-15.539931058883667 l6.325613856315613,-8.899393677711487 8.023212552070618,-9.544727802276611 l5.457379221916199,-4.97242271900177 11.150394678115845,-7.028359770774841 l2.1084973216056824,-2.320189028978348 2.665432393550873,0.6236730143427849 l10.719326734542847,9.640857577323914 22.088990211486816,22.076141834259033 l9.746708273887634,20.197277069091797 4.22302782535553,15.74175477027893 l2.726704776287079,26.758861541748047 0.6895576417446136,15.274659395217896 l-0.5217742547392845,34.13900375366211 -4.7526586055755615,27.49114990234375 l-8.655493259429932,25.046310424804688 -8.129538893699646,14.932613372802734 l-6.914031505584717,11.35430097579956 -6.9631510972976685,15.140570402145386 l-0.09991556406021118,11.06446623802185 11.976810693740845,55.73469638824463 m-34.97753381729126,-278.80077362060547 l1.8783822655677795,63.31108093261719 3.8694414496421814,23.909077644348145 l9.26882028579712,45.52962779998779 6.449079513549805,34.678850173950195 l2.778172492980957,8.194773197174072 m-21.943917274475098,-109.6294116973877 l-29.678044319152832,-33.32911491394043 m39.12700176239014,59.779253005981445 l5.186780095100403,-3.50522518157959 5.980310440063477,-11.217085123062134 l9.878133535385132,-19.297149181365967 m-30.431761741638184,49.66930389404297 l-2.3553283512592316,5.481271743774414 -1.27201646566391,5.27653694152832 l-2.522099018096924,8.048169016838074 m17.641096115112305,13.4348464012146 l2.712359130382538,1.300446093082428 8.807780146598816,-1.5125362575054169 m-21.287415027618408,1.2012392282485962 l-3.5218212008476257,1.8932528793811798 -5.679585933685303,1.3326960802078247 m7.748140096664429,-58.098764419555664 l2.9867663979530334,-1.439584195613861 16.943471431732178,-13.914633989334106 l15.680162906646729,-20.258960723876953 4.853433072566986,-12.863911390304565 m-40.99808692932129,26.50571346282959 m329.5898594291066,173.1223060004413 l-0.03285899758338928,0.21595263853669167 -13.209009170532227,-2.4939732253551483 l-15.067145824432373,-7.070218920707703 -5.889753103256226,-5.551403164863586 l-7.790549993515015,-10.699435472488403 -5.800020098686218,-9.356976747512817 l-11.122236251831055,-20.439484119415283 -6.098035573959351,-29.027512073516846 l-3.7678495049476624,-30.875744819641113 -1.671038269996643,-14.884907007217407 l0.9120750427246094,-11.252357959747314 12.368459701538086,-34.596049785614014 l6.452891826629639,-11.628280878067017 14.626924991607666,-23.649897575378418 l4.691961109638214,-7.908618450164795 3.8641902804374695,-6.6739970445632935 l8.728506565093994,-5.614670515060425 7.567546367645264,-2.1622857451438904 l15.836399793624878,0.8531723916530609 10.422192811965942,2.995561361312866 l7.472720742225647,4.805536568164825 6.368266344070435,10.942085981369019 l4.8883455991744995,14.024789333343506 6.888200044631958,29.242429733276367 l3.0914312601089478,20.00234842300415 5.961536169052124,48.65833759307861 l-0.26936015114188194,40.810842514038086 -7.593269348144531,16.711708307266235 l-8.111605644226074,11.70993447303772 -6.70210063457489,5.2977365255355835 l-5.05037248134613,4.982200860977173 -5.070212483406067,7.764443755149841 l-2.2356124222278595,3.2687929272651672 -2.7186885476112366,1.7753881216049194 m-23.031392097473145,-213.46750259399414 l1.8209528923034668,36.450982093811035 8.768537044525146,93.88128280639648 l1.777634620666504,67.36083984375 m2.3506557941436768,-172.66351699829102 l0.0008427868306171149,6.123414039611816 12.611621618270874,22.608749866485596 m2.9177212715148926,80.04145622253418 l3.684036135673523,8.456535339355469 3.2755738496780396,3.422139883041382 m-31.871306896209717,-87.43907928466797 l-13.798304796218872,21.54209852218628 -6.50290310382843,11.75390362739563 l-2.674087882041931,9.38118040561676 0.11032162234187126,8.447365164756775 m24.474313259124756,-35.937068462371826 l-5.777084827423096,22.633931636810303 -0.797182023525238,20.482535362243652 l0.11452748440206051,13.6587655544281 0.5208062753081322,8.534528017044067 m1.5081943571567535,-41.13602161407471 l-49.63921546936035,-8.73071014881134 -7.533775568008423,-6.4422208070755005 l-0.8638276904821396,-2.3701004683971405 m41.04151248931885,125.8298397064209 l2.302348017692566,0.31891029328107834 32.07759618759155,21.478474140167236 l21.640987396240234,6.5376293659210205 \" fill=\"none\" stroke=\"black\" stroke-width=\"1\"/></svg>"
      ],
      "text/plain": [
       "<IPython.core.display.SVG object>"
      ]
     },
     "metadata": {
      "tags": []
     },
     "output_type": "display_data"
    }
   ],
   "source": [
    "stroke_list = []\n",
    "for i in range(10):\n",
    "  stroke_list.append([decode(z, draw_mode=False, temperature=0.1*i+0.1), [0, i]])\n",
    "stroke_grid = make_grid_svg(stroke_list)\n",
    "draw_strokes(stroke_grid)"
   ]
  },
  {
   "cell_type": "markdown",
   "metadata": {
    "id": "oXYXn97rDoIB"
   },
   "source": [
    "#### **Interpolating between two samples**\n",
    "Now let's see what happens when we interpolate between two different cats!"
   ]
  },
  {
   "cell_type": "code",
   "execution_count": null,
   "metadata": {
    "colab": {
     "base_uri": "https://localhost:8080/",
     "height": 427
    },
    "id": "OlwyTspJDoIB",
    "outputId": "ded7d1b2-83a7-4ca8-961e-af5b6018212e",
    "scrolled": false
   },
   "outputs": [
    {
     "data": {
      "image/svg+xml": [
       "<svg baseProfile=\"full\" height=\"208.72983500361443\" version=\"1.1\" width=\"157.0831637084484\" xmlns=\"http://www.w3.org/2000/svg\" xmlns:ev=\"http://www.w3.org/2001/xml-events\" xmlns:xlink=\"http://www.w3.org/1999/xlink\"><defs/><rect fill=\"white\" height=\"208.72983500361443\" width=\"157.0831637084484\" x=\"0\" y=\"0\"/><path d=\"M54.9007049202919,121.30356952548027 m-4.271529316902161,-0.7766416668891907 l-3.8832083344459534,-2.329925000667572 -14.756191968917847,-13.591228723526001 l-4.271529316902161,-5.824812650680542 -2.7182459831237793,-13.591228723526001 l0.38832083344459534,-6.98977530002594 4.271529316902161,-13.97955060005188 l8.931379318237305,-11.649625301361084 3.49488765001297,-8.15473735332489 l0.38832083344459534,-3.8832083344459534 m13.202908039093018,79.60577011108398 l5.436491966247559,7.766416668891907 -0.38832083344459534,-3.8832083344459534 l3.49488765001297,9.708020687103271 -4.659850001335144,-9.708020687103271 l5.824812650680542,-0.38832083344459534 8.931379318237305,-13.591228723526001 l6.98977530002594,-22.5226092338562 0.7766416668891907,-19.804363250732422 l-6.601454019546509,-17.474437952041626 -3.49488765001297,-3.49488765001297 l-22.134287357330322,-13.202908039093018 -8.931379318237305,-8.543058633804321 l1.9416041672229767,20.58100461959839 -2.329925000667572,5.048170685768127 m10.872983932495117,24.464213848114014 l5.048170685768127,19.02772068977356 1.5532833337783813,14.367871284484863 l3.1065666675567627,8.931379318237305 -0.38832083344459534,3.8832083344459534 m-5.436491966247559,-23.299250602722168 l3.1065666675567627,-4.271529316902161 3.49488765001297,-2.329925000667572 m1.9416041672229767,16.30947470664978 l5.824812650680542,0.0 0.0,-1.164962500333786 m-9.319700002670288,-1.5532833337783813 l5.048170685768127,-5.048170685768127 m-13.97955060005188,4.271529316902161 l-4.659850001335144,-2.7182459831237793 -8.15473735332489,-1.9416041672229767 \" fill=\"none\" stroke=\"black\" stroke-width=\"1\"/></svg>"
      ],
      "text/plain": [
       "<IPython.core.display.SVG object>"
      ]
     },
     "metadata": {
      "tags": []
     },
     "output_type": "display_data"
    },
    {
     "data": {
      "image/svg+xml": [
       "<svg baseProfile=\"full\" height=\"191.62699446082115\" version=\"1.1\" width=\"155.44043216854334\" xmlns=\"http://www.w3.org/2000/svg\" xmlns:ev=\"http://www.w3.org/2001/xml-events\" xmlns:xlink=\"http://www.w3.org/1999/xlink\"><defs/><rect fill=\"white\" height=\"191.62699446082115\" width=\"155.44043216854334\" x=\"0\" y=\"0\"/><path d=\"M54.79521487548482,108.10957335866988 m0.003387288306839764,0.12031949125230312 l-4.32699054479599,-0.7577110826969147 -3.9050841331481934,-2.245895117521286 l-14.309600591659546,-13.55368971824646 -4.876080751419067,-7.828298807144165 l-2.38084614276886,-9.39215362071991 0.5933107808232307,-11.270095109939575 l4.3704554438591,-13.160958290100098 5.917426943778992,-10.449714660644531 l6.612978577613831,-10.426437854766846 1.335119903087616,-4.144938588142395 m13.257966041564941,90.32423973083496 l0.3893852233886719,1.3027547299861908 1.703881174325943,-0.1475109253078699 l3.558637499809265,-2.640407681465149 5.002386569976807,-5.711501836776733 l10.70142388343811,-23.713679313659668 0.8011823892593384,-7.800261378288269 l-2.3108135163784027,-14.317718744277954 -11.823575496673584,-23.37437152862549 l-5.156957507133484,-6.182664632797241 -7.609726786613464,-6.148686408996582 l-2.590392231941223,0.2818237245082855 1.2724414467811584,37.583699226379395 l2.5621584057807922,14.41382884979248 5.666883587837219,20.418813228607178 m-8.024705648422241,-28.08354377746582 l-4.595170319080353,0.8642278611660004 -9.612095355987549,0.46276360750198364 l-3.6634936928749084,-0.6120758876204491 -1.3696040213108063,-1.612815260887146 m21.048028469085693,5.079545378684998 l9.5443594455719,0.20775921642780304 6.387690305709839,-1.6099612414836884 l5.455192923545837,-4.034027457237244 m-21.258535385131836,17.67439842224121 l-15.543959140777588,0.6986659020185471 m16.84929847717285,2.0175164937973022 l14.881864786148071,-2.9758036136627197 11.08738899230957,-2.4494829773902893 m-24.749925136566162,5.224170088768005 l-13.953126668930054,0.4905785247683525 \" fill=\"none\" stroke=\"black\" stroke-width=\"1\"/></svg>"
      ],
      "text/plain": [
       "<IPython.core.display.SVG object>"
      ]
     },
     "metadata": {
      "tags": []
     },
     "output_type": "display_data"
    }
   ],
   "source": [
    "z0 = z\n",
    "\n",
    "# Get a sample drawing from the test set, and render it to .svg\n",
    "stroke = test_set.random_sample()\n",
    "draw_strokes(stroke)\n",
    "z1 = encode(stroke)\n",
    "_ = decode(z1) # convert z back to drawing at temperature of 0.5\n",
    "\n",
    "z1 = np.squeeze(z1)\n",
    "z0 = np.squeeze(z0)"
   ]
  },
  {
   "cell_type": "code",
   "execution_count": null,
   "metadata": {
    "id": "6ViGcUmRDoIC"
   },
   "outputs": [],
   "source": [
    "def interpolate_z(z_0, z_1, draw=True):\n",
    "    z_list = [] # interpolate spherically between z0 and z1\n",
    "    N = 10\n",
    "    for t in np.linspace(0, 1, N):\n",
    "        z_list.append(slerp(z_0, z_1, t))\n",
    "    # for every latent vector in z_list, sample a vector image\n",
    "    reconstructions = []\n",
    "    for i in range(N):\n",
    "        reconstructions.append([decode(np.expand_dims(z_list[i],axis=0), draw_mode=False), [0, i]])\n",
    "    stroke_grid = make_grid_svg(reconstructions)\n",
    "    if draw:\n",
    "        draw_strokes(stroke_grid)"
   ]
  },
  {
   "cell_type": "code",
   "execution_count": null,
   "metadata": {
    "colab": {
     "base_uri": "https://localhost:8080/",
     "height": 387
    },
    "id": "gl2blUEFDoID",
    "outputId": "d42969c1-3ab9-4bc1-864b-7eeaa203de86",
    "scrolled": true
   },
   "outputs": [
    {
     "data": {
      "image/svg+xml": [
       "<svg baseProfile=\"full\" height=\"345.19458815455437\" version=\"1.1\" width=\"3164.676245386763\" xmlns=\"http://www.w3.org/2000/svg\" xmlns:ev=\"http://www.w3.org/2001/xml-events\" xmlns:xlink=\"http://www.w3.org/1999/xlink\"><defs/><rect fill=\"white\" height=\"345.19458815455437\" width=\"3164.676245386763\" x=\"0\" y=\"0\"/><path d=\"M25,47.02696401625872 m0.0,0.0 m169.8773823765805,211.52842074632645 l-0.0495848199352622,0.1723327487707138 -13.178708553314209,-2.574169337749481 l-15.14479398727417,-7.240525484085083 -6.285557150840759,-5.930332541465759 l-6.151216626167297,-7.193537354469299 -7.853803634643555,-12.030762434005737 l-12.917187213897705,-29.71972942352295 -3.631889224052429,-15.847893953323364 l-2.9498884081840515,-25.065464973449707 0.0034293357748538256,-25.054705142974854 l3.0307158827781677,-21.31613254547119 5.6248509883880615,-20.464394092559814 l7.4026525020599365,-17.706918716430664 8.848090171813965,-14.622212648391724 l9.170883297920227,-10.471816062927246 13.034454584121704,-10.341205596923828 l8.22282612323761,-4.697678983211517 6.430618166923523,-2.248556464910507 l5.344951748847961,0.01904621720314026 5.338308215141296,2.546018064022064 l5.990180969238281,6.270903944969177 8.66459846496582,12.958863973617554 l9.048330187797546,18.53355050086975 8.484687209129333,24.125211238861084 l9.609562158584595,41.71314239501953 2.2221848368644714,24.844586849212646 l-0.214384775608778,27.56270170211792 -4.874265193939209,18.34959864616394 l-9.554044604301453,19.01853322982788 -11.795895099639893,13.68806004524231 l-14.158176183700562,9.315269589424133 -4.649316072463989,2.43453249335289 l-1.9086115062236786,-0.6417602300643921 -0.44131938368082047,21.25697135925293 m-14.005813598632812,-233.90100479125977 l0.2971027046442032,72.36798286437988 6.475967764854431,75.5104112625122 l7.097718715667725,51.86924934387207 3.438483774662018,11.45776629447937 m-43.245110511779785,-168.1011962890625 l7.918580174446106,0.6198392063379288 15.266895294189453,-2.011171728372574 m-23.09591054916382,36.39888286590576 l6.66027307510376,0.23856744170188904 14.47745680809021,-1.5064950287342072 l13.841403722763062,-2.3653995990753174 m-33.842573165893555,46.081085205078125 l9.132164716720581,0.29304463416337967 9.779199957847595,-0.769047886133194 l12.019975185394287,-1.2115570902824402 m-28.12457799911499,38.72960567474365 l18.453878164291382,-1.5036679804325104 10.67250370979309,-1.4205394685268402 m-21.57508611679077,28.628742694854736 l11.783387660980225,0.6630924344062805 9.492301940917969,0.12648469768464565 l10.215846300125122,-0.8966086059808731 m-23.45144271850586,6.242936849594116 l9.69331443309784,2.407994568347931 7.990958094596863,1.5682685375213623 l9.420942068099976,0.36103595048189163 4.645407795906067,-0.6436104327440262 m313.6744842893677,33.31086286343634 l0.1075231097638607,0.570330061018467 -13.04652452468872,-2.0896415412425995 l-14.574602842330933,-6.268344521522522 -8.373766541481018,-7.418162822723389 l-8.040791749954224,-8.726871013641357 -8.183444142341614,-11.591126918792725 l-10.818943977355957,-21.982133388519287 -6.705304384231567,-24.176151752471924 l-3.0786776542663574,-24.2014741897583 -0.3520912304520607,-23.918516635894775 l2.249763011932373,-20.595602989196777 4.734728634357452,-20.093822479248047 l6.68334424495697,-18.61526608467102 8.18756878376007,-15.681782960891724 l10.984688997268677,-14.23953652381897 8.130341172218323,-7.588755488395691 l10.730699300765991,-6.725379228591919 6.578019857406616,-2.4002277851104736 l4.842308163642883,0.26351694017648697 4.462832510471344,2.6722759008407593 l6.507652997970581,7.718604207038879 8.591477870941162,12.90914535522461 l8.964358568191528,17.41193413734436 8.796161413192749,22.829439640045166 l11.257030963897705,42.267537117004395 3.240651786327362,25.428571701049805 l0.011072868946939707,29.753246307373047 -4.04470682144165,18.17339062690735 l-8.526196479797363,19.712709188461304 -10.601232051849365,15.029476881027222 l-11.973363161087036,9.722039103507996 -3.382905423641205,2.6634061336517334 l-1.4251331984996796,-0.36760706454515457 0.007383116171695292,19.00690197944641 m-21.820743083953857,-229.55522537231445 l1.736367791891098,29.019012451171875 5.293727517127991,67.2886323928833 l7.896713614463806,65.54329872131348 3.987191617488861,19.92438316345215 l1.469927430152893,4.392657279968262 m-37.71496534347534,-142.42124557495117 l14.808351993560791,-8.701536059379578 16.941720247268677,-9.15644645690918 m-27.177112102508545,57.404489517211914 l6.207311749458313,-1.8603968620300293 21.00869655609131,-9.215582609176636 l16.64829730987549,-7.681042551994324 m-36.23439073562622,60.41547775268555 l21.322739124298096,-7.236629128456116 11.03074312210083,-3.970452845096588 m-28.8895845413208,40.79207897186279 l4.735363125801086,-0.019301571883261204 12.304437160491943,-2.1988075971603394 l7.081151008605957,-1.5065521001815796 6.964935660362244,-2.3700647056102753 m-43.55906963348389,-84.14824485778809 l-1.6497570276260376,-2.116739898920059 -2.776838541030884,-6.263496279716492 l-5.404710173606873,-14.989163875579834 -4.181151986122131,-8.213910460472107 m20.572006702423096,52.17780590057373 l-15.815807580947876,-6.703116297721863 -7.133987545967102,-4.647551476955414 m374.99732866708655,149.18053141329437 l0.2130831778049469,0.8737172186374664 -12.638256549835205,-1.6922880709171295 l-13.767530918121338,-5.419526696205139 -11.841859817504883,-9.444998502731323 l-7.613992691040039,-8.322758674621582 -8.424607515335083,-11.955677270889282 l-11.20669960975647,-21.50703191757202 -7.1847617626190186,-23.818225860595703 l-3.0925366282463074,-22.92982578277588 -0.45008085668087006,-23.262734413146973 l2.452336400747299,-20.13960599899292 4.787565767765045,-19.52271580696106 l6.748901605606079,-18.606717586517334 7.9317426681518555,-15.666645765304565 l7.601675391197205,-10.619975328445435 10.860694646835327,-10.720131397247314 l10.124346017837524,-6.985880732536316 4.954092800617218,-2.046230435371399 l3.205289840698242,0.5937924981117249 4.918988645076752,6.292977333068848 l6.512966752052307,11.241459846496582 7.613791823387146,15.193157196044922 l9.385150671005249,19.46885108947754 14.512079954147339,35.76779842376709 l4.4382524490356445,16.261122226715088 5.819553732872009,40.17231464385986 l-0.21277206018567085,22.34217643737793 -5.4752421379089355,23.893377780914307 l-8.793147206306458,18.71951937675476 -9.708536863327026,11.951704025268555 l-6.523962616920471,3.615260124206543 -4.755842387676239,0.03863178426399827 l-1.6398370265960693,-2.57874459028244 -1.1155270785093307,-2.464289516210556 m-18.678752183914185,-201.69368743896484 l-0.5831736698746681,13.805891275405884 4.885106980800629,80.15649795532227 l8.660398721694946,64.47487831115723 3.819824755191803,20.129199028015137 l1.935408115386963,5.522911548614502 m-30.43161630630493,-139.9700927734375 l8.092526197433472,-0.06934795062988997 13.757702112197876,-0.39011377841234207 m-19.723398685455322,35.03633499145508 l5.637900233268738,0.6216153874993324 13.596663475036621,-0.5841175094246864 l14.418631792068481,-0.9826747328042984 m-29.946894645690918,43.619136810302734 l8.440034985542297,0.5490008741617203 10.283092260360718,-0.09859857149422169 m-15.592178106307983,34.09981727600098 l6.78160548210144,0.5732719227671623 7.5864362716674805,0.031185548286885023 m-13.282618522644043,-97.34952926635742 l15.253310203552246,5.877010226249695 6.45917534828186,3.4015393257141113 l5.699067115783691,1.950976550579071 m-26.232826709747314,23.237335681915283 l15.498621463775635,7.099217176437378 8.396751284599304,4.8788756132125854 m-23.51719856262207,25.446784496307373 l16.833741664886475,6.417953372001648 7.245400547981262,3.2738307118415833 m318.4125035814941,67.3159510223195 l0.2811684086918831,1.065087616443634 -12.008769512176514,-1.3694918155670166 l-12.799205780029297,-4.671049118041992 -13.409361839294434,-10.264248847961426 l-8.520528674125671,-9.331641793251038 -10.338008403778076,-13.903334140777588 l-6.991297602653503,-14.985673427581787 -7.521997690200806,-24.44671630859375 l-3.7229913473129272,-25.374913215637207 -0.5702879652380943,-22.470293045043945 l2.6575833559036255,-19.983291625976562 4.890309274196625,-17.111254930496216 l7.019878029823303,-15.526998043060303 8.559305667877197,-13.869990110397339 l8.024677634239197,-9.677885174751282 10.124304294586182,-9.564681053161621 l9.14044976234436,-10.62916874885559 1.5677154064178467,-2.1860115230083466 l1.2449075281620026,2.2434858977794647 3.2340168952941895,17.20776081085205 l6.283469796180725,15.538085699081421 10.242040157318115,17.147186994552612 l19.23986554145813,29.54200506210327 6.265944242477417,15.201629400253296 l8.929181694984436,37.22844362258911 1.0868971794843674,14.227287769317627 l-5.1367586851119995,34.421541690826416 -6.265442371368408,16.538281440734863 l-9.609980583190918,15.220528841018677 -9.815353155136108,9.534150958061218 l-2.012607306241989,2.2962360084056854 0.2113010734319687,1.3555996119976044 l2.8575438261032104,0.16427431255578995 m-25.682227611541748,-198.51129531860352 l0.12585115619003773,11.658384799957275 4.606592059135437,55.65248966217041 l6.1840468645095825,52.06465244293213 3.3507031202316284,21.190123558044434 l1.962750107049942,15.30752420425415 0.35679470747709274,9.315952062606812 m-9.553358554840088,-80.27310371398926 l13.137911558151245,-19.80776071548462 11.032264232635498,-17.713165283203125 m-22.693090438842773,62.873520851135254 l15.195335149765015,-11.546238660812378 7.467137575149536,-7.091842889785767 m-18.835362195968628,48.37377071380615 l11.449549198150635,-7.4027180671691895 7.265262603759766,-6.079580187797546 l5.63281774520874,-6.7448389530181885 m-41.571316719055176,-40.32780170440674 l-15.47289252281189,-9.644567370414734 -7.639139294624329,-5.230133533477783 l-4.181388020515442,-2.350155860185623 m32.624878883361816,40.61319351196289 l-16.103497743606567,-4.339063763618469 -7.487613558769226,-3.5083332657814026 m27.695963382720947,37.17686891555786 l-12.832938432693481,-3.81312757730484 -7.47438907623291,-3.2335028052330017 l-3.965815305709839,-2.3883576691150665 m31.546647548675537,35.228421688079834 l-13.99273157119751,-4.18204665184021 m346.9979725871235,21.213186662644148 l0.3214150667190552,1.1746777594089508 -11.180180311203003,-1.1405905336141586 l-11.689938306808472,-4.081446826457977 -14.43048357963562,-10.995781421661377 l-8.908588886260986,-9.935030937194824 -9.885249137878418,-13.434728384017944 l-6.6384196281433105,-15.071792602539062 -6.338432431221008,-23.34066152572632 l-2.873259484767914,-23.35728645324707 0.10507997125387192,-20.53755521774292 l3.3335483074188232,-18.466806411743164 5.919768214225769,-17.015037536621094 l7.395427823066711,-14.422948360443115 7.898336052894592,-11.472635269165039 l9.442940354347229,-9.990782141685486 7.804110646247864,-6.807663440704346 l2.0419836044311523,-2.097105383872986 0.04085913300514221,-0.6314501166343689 l3.261018693447113,16.690365076065063 5.126413106918335,14.95181918144226 l18.710250854492188,29.920151233673096 6.768581867218018,12.3273766040802 l14.555425643920898,34.163551330566406 3.1511586904525757,13.317557573318481 l0.51047682762146,33.37724685668945 -7.017363905906677,26.7915678024292 l-3.3629411458969116,7.6150113344192505 -8.638032674789429,11.376813650131226 l-9.985791444778442,7.624417543411255 -1.3493669033050537,1.527853012084961 l-0.1542933564633131,12.957290410995483 m-19.565351009368896,-185.57716369628906 l3.2094556093215942,4.031759798526764 2.3550420999526978,7.058431506156921 l3.809361457824707,21.347692012786865 2.73637056350708,25.188915729522705 l3.1312885880470276,46.425232887268066 1.6158688068389893,38.12415599822998 l0.7982594519853592,11.773014068603516 -0.029043997637927532,0.9414539486169815 m-24.584133625030518,-105.42609214782715 l17.645715475082397,-2.9718169569969177 m-12.769830226898193,26.37714385986328 l6.508266925811768,0.10368047282099724 12.575111389160156,-2.5160491466522217 m-16.678885221481323,32.10014343261719 l7.1515583992004395,0.621141791343689 7.302299737930298,-0.9606447815895081 l8.56694757938385,-2.0441195368766785 m-19.827176332473755,30.84897518157959 l6.3208091259002686,0.2802124060690403 7.077288627624512,-0.767148807644844 m-9.816756844520569,18.666950464248657 l6.563549637794495,-0.5264359340071678 5.914918780326843,-1.7921194434165955 m-22.13226556777954,-95.05139350891113 l4.568242430686951,2.8036051988601685 7.622316479682922,2.334131747484207 l3.768070936203003,1.3988302648067474 m-14.904050827026367,13.524649143218994 l13.49556565284729,6.585192084312439 m330.3429484530352,72.35319502651691 l0.3163004666566849,1.176789551973343 -10.15776515007019,-0.9491976350545883 l-10.407774448394775,-3.554949164390564 -15.157228708267212,-11.639262437820435 l-9.049077033996582,-10.337889194488525 -9.023614525794983,-12.932354211807251 l-5.800727009773254,-14.520833492279053 -4.916989803314209,-21.974868774414062 l-1.7296591401100159,-22.559256553649902 1.696154773235321,-18.520158529281616 l4.508711993694305,-16.065255403518677 6.287827491760254,-14.154266119003296 l7.44154691696167,-11.926723718643188 9.05211865901947,-10.708584785461426 l8.056936264038086,-10.950055122375488 1.285976767539978,-1.0268978774547577 l-0.011419453658163548,5.3677791357040405 1.4493648707866669,12.807891368865967 l16.411850452423096,40.071868896484375 6.859673857688904,11.583209037780762 l4.418743550777435,8.208867311477661 17.000333070755005,31.930105686187744 l3.4979718923568726,12.611795663833618 3.2937243580818176,45.50628185272217 l-2.3786045610904694,7.215099334716797 -21.734726428985596,19.76270079612732 l-3.912336230278015,2.2483912110328674 -2.949642539024353,0.6569362431764603 l-0.2635551802814007,5.12726366519928 -0.29660947620868683,5.041492581367493 m6.542952060699463,-22.842724323272705 l-3.514280319213867,-18.660532236099243 -12.04754114151001,-53.97599220275879 l-5.751456618309021,-25.332157611846924 -4.730966687202454,-23.686518669128418 l-1.0191892087459564,-13.902291059494019 1.0700283199548721,-8.591406345367432 m12.06733226776123,79.24780368804932 l-18.918397426605225,-10.04948616027832 -19.60931658744812,-11.804063320159912 m41.96760177612305,39.20973539352417 l-18.670769929885864,-4.376193583011627 -20.73516607284546,-7.39015519618988 l-6.552965044975281,-2.814400792121887 m48.5921049118042,32.22557067871094 l-19.463825225830078,-2.6476597785949707 -22.600042819976807,-5.850592255592346 l-6.52410089969635,-2.5682610273361206 m50.07242679595947,9.887580275535583 l8.63963782787323,-10.08657693862915 12.79168963432312,-15.562220811843872 l8.557832837104797,-12.623072862625122 m-29.934792518615723,30.445642471313477 l7.511451840400696,-12.297390699386597 9.787225723266602,-15.068689584732056 l6.671479940414429,-12.717607021331787 m-31.309802532196045,24.36532497406006 l8.523696064949036,-18.039780855178833 m322.1931792818941,56.122212298214436 l0.2718125283718109,1.062619909644127 -8.926284313201904,-0.854775682091713 l-8.968042731285095,-3.157831132411957 -15.419862270355225,-12.394709587097168 l-8.536350131034851,-10.06654977798462 -8.10184895992279,-12.500993013381958 l-4.6900475025177,-14.005457162857056 -3.13600093126297,-21.281533241271973 l0.27600226923823357,-19.479169845581055 3.145895302295685,-15.935089588165283 l5.268559455871582,-13.626105785369873 6.651248931884766,-11.600971221923828 l9.8643296957016,-12.644892930984497 6.220865249633789,-9.579859972000122 l0.49065694212913513,1.5400812029838562 0.6309233605861664,29.52178955078125 l1.1568010598421097,10.128852128982544 6.758019328117371,19.654663801193237 l25.451457500457764,26.993775367736816 4.840436279773712,6.3687485456466675 l7.1327972412109375,15.2107834815979 1.6456609964370728,38.667805194854736 l-11.333799362182617,21.042258739471436 -8.516541123390198,9.462735056877136 l3.3382686972618103,3.938930034637451 m-0.8737914264202118,-14.829931259155273 l0.26875510811805725,-11.198174953460693 -0.7641227543354034,-15.665899515151978 l-2.060883492231369,-20.163192749023438 -3.606368601322174,-20.785648822784424 l-10.110095739364624,-35.235679149627686 -5.459790825843811,-19.303078651428223 l-4.274483621120453,-12.711601257324219 -1.977381408214569,-8.45668375492096 l-0.02958284690976143,-5.623112320899963 m19.580484628677368,129.25326347351074 l0.4484119266271591,7.8194499015808105 2.5078940391540527,9.408391118049622 m-6.436977982521057,-29.71045970916748 l0.7347530871629715,10.179948806762695 m-4.142498672008514,-18.63413095474243 l-1.7497733235359192,6.686155796051025 -2.5500449538230896,13.84572148323059 m-0.2549610659480095,-32.56814956665039 l-4.3613216280937195,9.301671385765076 -3.439559042453766,8.378396034240723 m4.7983318567276,-27.854340076446533 l-5.4635292291641235,7.445441484451294 -2.63466477394104,8.081508874893188 l-1.9249913096427917,13.134351968765259 m9.348580241203308,-36.19769334793091 l-2.4687449634075165,2.9065153002738953 -5.5088865756988525,11.566417217254639 l-2.0733851194381714,11.29940152168274 m342.9361011367291,17.36335238441825 l0.19708557054400444,0.8266505599021912 -7.555326819419861,-0.7653685659170151 l-7.401249408721924,-2.8008511662483215 -15.498727560043335,-13.009246587753296 l-7.618555426597595,-9.590744376182556 -6.443235278129578,-11.900700330734253 l-3.712274134159088,-15.13731837272644 -0.8635785430669785,-17.096728086471558 l2.4937626719474792,-16.754355430603027 4.849060773849487,-14.046833515167236 l5.951229929924011,-11.373172998428345 8.205767273902893,-12.789945602416992 l4.802200496196747,-7.130914330482483 0.3735695034265518,27.096996307373047 m17.343426942825317,95.79374313354492 l5.1839035749435425,-10.130370855331421 4.118497967720032,-8.678709864616394 l4.874462783336639,-11.51990532875061 4.003991484642029,-11.928062438964844 l2.9484695196151733,-11.407867670059204 1.887335628271103,-10.334937572479248 l0.7739663124084473,-9.184058904647827 -0.6983204185962677,-7.233169078826904 l-2.537458837032318,-4.486382603645325 -6.706019043922424,-1.8444763123989105 l-6.009120941162109,16.76313281059265 0.06935916841030121,50.07789134979248 l9.641757607460022,35.72274684906006 8.306865096092224,19.423712491989136 l2.9566368460655212,6.004540324211121 1.3844695687294006,0.5374518409371376 l-0.11394200846552849,-1.6283364593982697 m-43.906311988830566,-70.13410568237305 l5.889545679092407,1.8640126287937164 9.076113104820251,1.531219333410263 l8.70015799999237,-0.23425178602337837 m-23.964133262634277,-5.6509363651275635 l12.932673692703247,2.2540025413036346 6.469365954399109,0.6403582543134689 m-19.358372688293457,-6.484900116920471 l15.435642004013062,0.600414015352726 5.384593605995178,0.7190155982971191 m-21.678552627563477,-1.1535385996103287 l16.22413992881775,-0.2962958440184593 6.8943095207214355,0.7145854085683823 m-21.3901948928833,8.774060606956482 l16.421809196472168,-1.3372519612312317 7.505276799201965,0.028708872850984335 l3.0733847618103027,-0.03375752363353968 m309.3475622497499,37.60210301494226 l0.11920507065951824,0.5180244892835617 -6.016639471054077,-0.7705134898424149 l-5.699625015258789,-2.4890363216400146 -14.971762895584106,-13.315449953079224 l-7.148855924606323,-9.472219944000244 -3.8189294934272766,-10.05530834197998 l-1.6887739300727844,-13.970339298248291 1.1961766332387924,-15.362435579299927 l4.143867790699005,-13.882948160171509 5.75431764125824,-10.800453424453735 l8.920469284057617,-10.567492246627808 3.8960331678390503,-5.376995205879211 m11.923527717590332,105.39124488830566 l0.4590275511145592,-0.29603125527501106 1.9255062937736511,-2.1869023144245148 l4.2152175307273865,-5.3439635038375854 7.6106661558151245,-11.512877941131592 l4.602394104003906,-10.768187046051025 2.572612762451172,-10.229287147521973 l0.9712377190589905,-10.931655168533325 -1.8788382411003113,-17.60411024093628 l-12.58624792098999,-23.171725273132324 -5.5515676736831665,-5.651758909225464 l-3.7254121899604797,-1.1942700296640396 4.210576415061951,45.40912628173828 l7.84698486328125,31.69262409210205 5.789667367935181,20.014023780822754 l2.191678136587143,6.288127899169922 0.2444477565586567,0.3462183475494385 m-12.366456985473633,-29.97872829437256 l-9.587738513946533,-2.2753341495990753 -14.944978952407837,-5.310831069946289 l-3.8600701093673706,-3.2161596417427063 m30.335397720336914,-5.173150300979614 l0.9352423995733261,-2.400010824203491 4.34561014175415,-6.723931431770325 l5.684010982513428,-9.17159914970398 m-14.180660247802734,9.136000871658325 l-13.698315620422363,-5.863742232322693 -5.630775690078735,-3.9172592759132385 m20.694644451141357,2.6028165221214294 l10.737618207931519,-13.607643842697144 m-14.025737047195435,18.743363618850708 l-5.8099424839019775,-2.43017241358757 -6.239443421363831,-3.8804054260253906 l-4.074073433876038,-4.1434624791145325 m331.0880334954709,48.05088390596211 l0.0005916795271332376,0.10447091422975063 -4.33528333902359,-0.7672639191150665 l-3.8767465949058533,-2.220439612865448 -14.26866888999939,-13.51600170135498 l-5.356597304344177,-8.192756175994873 -1.996743232011795,-8.915553092956543 l0.7915893942117691,-11.813451051712036 3.9700403809547424,-12.879924774169922 l6.967422366142273,-12.87732720375061 3.1958848237991333,-3.842874765396118 l5.12736439704895,-6.084268093109131 m12.640637159347534,89.0622615814209 l0.5870125070214272,0.9895449876785278 1.637004315853119,-0.7735083252191544 l5.444860458374023,-5.121532678604126 8.16366732120514,-19.58949327468872 l0.8258242905139923,-7.780290246009827 -2.053755223751068,-24.102566242218018 l-3.519950211048126,-7.1034640073776245 -8.720143437385559,-9.745614528656006 l-5.0512343645095825,-3.9753568172454834 -7.1956294775009155,-3.712637722492218 l-1.6532845795154572,1.097666174173355 5.657065510749817,47.60144233703613 l7.9896479845047,22.83128023147583 2.566787898540497,6.348854899406433 m-7.9483360052108765,-22.876944541931152 l-4.692085087299347,-0.19451728090643883 -9.12599503993988,-3.1890225410461426 l-3.3199065923690796,-3.0130207538604736 -1.139025017619133,-4.043318927288055 m21.300079822540283,-3.2594195008277893 l9.837567806243896,-5.88388204574585 5.275158882141113,-5.070177316665649 m-17.10688829421997,7.651832103729248 l-5.207854509353638,-1.9088108837604523 -10.590327978134155,-5.234360694885254 m14.964807033538818,6.336759328842163 l11.061753034591675,-6.928659081459045 6.416577696800232,-5.116995573043823 m-19.350768327713013,19.514988660812378 l-15.166077613830566,-6.887575387954712 \" fill=\"none\" stroke=\"black\" stroke-width=\"1\"/></svg>"
      ],
      "text/plain": [
       "<IPython.core.display.SVG object>"
      ]
     },
     "metadata": {
      "tags": []
     },
     "output_type": "display_data"
    }
   ],
   "source": [
    "interpolate_z(z0,z1)"
   ]
  },
  {
   "cell_type": "markdown",
   "metadata": {
    "id": "IPcIU4zEDoID"
   },
   "source": [
    "#### **Random Inputs**\n",
    "Since this is a Variational Autoencoder, we don't need to use an actual sketch in order to generate new sketches. We can sample randomly within the latent space and feed the result to the decoder."
   ]
  },
  {
   "cell_type": "code",
   "execution_count": null,
   "metadata": {
    "colab": {
     "base_uri": "https://localhost:8080/",
     "height": 213
    },
    "id": "wx0gAGXNDoIE",
    "outputId": "bd0a2deb-c36f-46fa-f3ef-eebe824e9f5d",
    "scrolled": false
   },
   "outputs": [
    {
     "data": {
      "image/svg+xml": [
       "<svg baseProfile=\"full\" height=\"191.40960283577442\" version=\"1.1\" width=\"249.99856624752283\" xmlns=\"http://www.w3.org/2000/svg\" xmlns:ev=\"http://www.w3.org/2001/xml-events\" xmlns:xlink=\"http://www.w3.org/1999/xlink\"><defs/><rect fill=\"white\" height=\"191.40960283577442\" width=\"249.99856624752283\" x=\"0\" y=\"0\"/><path d=\"M81.57526049762964,116.40960283577442 m47.56186008453369,-49.41172122955322 m40.0139045715332,-8.702476620674133 l5.847541093826294,-6.874407529830933 -0.21026933565735817,-7.651486396789551 l-1.1604689806699753,-7.628104090690613 -0.07809286937117577,-6.483434438705444 l0.6947280466556549,-3.9237430691719055 -0.4134761914610863,-0.7342294603586197 l-4.631749093532562,2.7206674218177795 -28.065340518951416,12.840049266815186 l-42.723121643066406,16.192041635513306 -36.39894723892212,13.999776840209961 l-22.653329372406006,10.413321256637573 -14.35849905014038,6.644773483276367 m2.159319669008255,-1.9760291278362274 l3.555392324924469,-6.4534735679626465 18.334965705871582,-13.366966247558594 m7.657707333564758,1.728503555059433 l68.82306575775146,-30.680434703826904 m-37.73162126541138,15.025960206985474 m26.19143009185791,-10.782080888748169 l9.911144971847534,-5.945737361907959 m-49.235873222351074,33.822999000549316 l32.1130895614624,2.4026331305503845 \" fill=\"none\" stroke=\"black\" stroke-width=\"1\"/></svg>"
      ],
      "text/plain": [
       "<IPython.core.display.SVG object>"
      ]
     },
     "metadata": {
      "tags": []
     },
     "output_type": "display_data"
    }
   ],
   "source": [
    "random_input = np.expand_dims(np.random.randn(model_params.z_size),0)\n",
    "_ = decode(random_input)"
   ]
  },
  {
   "cell_type": "code",
   "execution_count": null,
   "metadata": {
    "id": "Asg0OHtycdth"
   },
   "outputs": [],
   "source": []
  }
 ],
 "metadata": {
  "accelerator": "GPU",
  "colab": {
   "collapsed_sections": [],
   "name": "SketchGen.ipynb",
   "provenance": [],
   "toc_visible": true
  },
  "kernelspec": {
   "display_name": "Python 3",
   "language": "python",
   "name": "python3"
  },
  "language_info": {
   "codemirror_mode": {
    "name": "ipython",
    "version": 3
   },
   "file_extension": ".py",
   "mimetype": "text/x-python",
   "name": "python",
   "nbconvert_exporter": "python",
   "pygments_lexer": "ipython3",
   "version": "3.7.6"
  }
 },
 "nbformat": 4,
 "nbformat_minor": 1
}
