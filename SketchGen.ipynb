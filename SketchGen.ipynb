{
 "cells": [
  {
   "cell_type": "markdown",
   "metadata": {
    "id": "pd2Bj8kwDoHg"
   },
   "source": [
    "# **SketchGen**"
   ]
  },
  {
   "cell_type": "markdown",
   "metadata": {
    "id": "89KOMB5gmKOl"
   },
   "source": [
    "## **1.Load the folder contents**\n",
    "Use any of the below options to load the contents\n",
    "\n",
    "1. **Access through Google Drive** (preferred method to train and create weights. Weights are saved in your drive folder) \n",
    "2. **Access through GitHub** (preferred method to work on pre trained models)\n"
   ]
  },
  {
   "cell_type": "markdown",
   "metadata": {
    "id": "u-r9N7IQnauD"
   },
   "source": [
    "### **1.1 Load contents from Google Drive**\n",
    "\n"
   ]
  },
  {
   "cell_type": "markdown",
   "metadata": {
    "id": "hIjavwJFstDA"
   },
   "source": [
    "Place the SketchGen folder in your google drive and then run the below code."
   ]
  },
  {
   "cell_type": "code",
   "execution_count": null,
   "metadata": {
    "colab": {
     "base_uri": "https://localhost:8080/"
    },
    "id": "Zba1Huq8nZV4",
    "outputId": "1b5e8df7-afca-4344-b513-8f26685e1306"
   },
   "outputs": [
    {
     "name": "stdout",
     "output_type": "stream",
     "text": [
      "Mounted at /content/drive\n"
     ]
    }
   ],
   "source": [
    "from google.colab import drive\n",
    "drive.mount('/content/drive')"
   ]
  },
  {
   "cell_type": "code",
   "execution_count": null,
   "metadata": {
    "colab": {
     "base_uri": "https://localhost:8080/"
    },
    "id": "p_hOsPzQnxMW",
    "outputId": "4f58d431-91f9-4701-fae1-76adf23c5d5f"
   },
   "outputs": [
    {
     "name": "stdout",
     "output_type": "stream",
     "text": [
      "/content/drive/MyDrive/SketchGen\n"
     ]
    }
   ],
   "source": [
    "%cd drive/MyDrive/SketchGen/"
   ]
  },
  {
   "cell_type": "markdown",
   "metadata": {
    "id": "peEeoFdPowu5"
   },
   "source": [
    "### **1.2 Load contents from GitHub**"
   ]
  },
  {
   "cell_type": "markdown",
   "metadata": {
    "id": "9N6xKEA5s7Os"
   },
   "source": [
    "the folder will be uploaded from [SketchGen](https://github.com/sumanthreddy07/SketchGen)."
   ]
  },
  {
   "cell_type": "code",
   "execution_count": null,
   "metadata": {
    "id": "eUaPU9mFo9wn"
   },
   "outputs": [],
   "source": [
    "!git clone https://github.com/sumanthreddy07/SketchGen.git"
   ]
  },
  {
   "cell_type": "code",
   "execution_count": null,
   "metadata": {
    "id": "PYlJO5ilFvjW"
   },
   "outputs": [],
   "source": [
    "%cd SketchGen/"
   ]
  },
  {
   "cell_type": "markdown",
   "metadata": {
    "id": "RGWGy7PypY4F"
   },
   "source": [
    "## **2. Training the model on a dataset(s)**\n",
    "\n",
    "**NOTE: Skip this block if you are working on pre-trained models**\n",
    "\n",
    "default dataset = cat\n",
    "\n",
    "- training on a specific dataset can be made using the <code>--dataset</code> argument.\n",
    "- training multiple datasets on a single model is made by editing the hyperparameters in the seq2seqVAE.py file -> <code>'data_set': ['first_dataset','second_dataset']</code>"
   ]
  },
  {
   "cell_type": "code",
   "execution_count": 1,
   "metadata": {
    "id": "ce9xEb7LqCpo"
   },
   "outputs": [],
   "source": [
    "#Run this code block to avoid printing tensorflow logs\n",
    "import logging\n",
    "import os\n",
    "\n",
    "os.environ['TF_CPP_MIN_LOG_LEVEL'] = '3'  # FATAL\n",
    "logging.getLogger('tensorflow').setLevel(logging.FATAL)"
   ]
  },
  {
   "cell_type": "code",
   "execution_count": null,
   "metadata": {
    "colab": {
     "base_uri": "https://localhost:8080/"
    },
    "id": "3Bxw0QoqEU5X",
    "outputId": "3e9b3a80-4dcd-49b8-d02f-523dd8ddc6e6"
   },
   "outputs": [],
   "source": [
    "!python3 seq2seqVAE_train.py --data_set=cat"
   ]
  },
  {
   "cell_type": "markdown",
   "metadata": {
    "id": "QwpXkazyrdl8"
   },
   "source": [
    "## **3. Load the weights of the model and animate the results**"
   ]
  },
  {
   "cell_type": "markdown",
   "metadata": {
    "id": "8YeOONGvtJ2A"
   },
   "source": [
    "We look into the models trained using [SketchGen](https://github.com/sumanthreddy07/SketchGen). We load the models, draw random sketches presented by the model travel along the latent space and explore what our model has learned."
   ]
  },
  {
   "cell_type": "code",
   "execution_count": 1,
   "metadata": {
    "id": "XL35VyQ-DoHu"
   },
   "outputs": [],
   "source": [
    "#dataset used\n",
    "name = \"leaf\"\n",
    "#datasets directory \n",
    "data_dir  = 'datasets'\n",
    "# Path to the experiment directory that was created during training\n",
    "exp_dir = 'experiments/'+name+'/exp'\n",
    "# Checkpoint file name (assumed in checkpoints folder within exp_dir)\n",
    "weights_fname = name+\".hdf5\""
   ]
  },
  {
   "cell_type": "markdown",
   "metadata": {
    "id": "nT4VJOQOuGTS"
   },
   "source": [
    "#### **Imports**"
   ]
  },
  {
   "cell_type": "code",
   "execution_count": 2,
   "metadata": {
    "id": "4T1uv1IuDoHw"
   },
   "outputs": [],
   "source": [
    "import os\n",
    "import copy\n",
    "from utils import *\n",
    "from seq2seqVAE_train import *\n",
    "import seq2seqVAE as sketch_rnn_model\n",
    "from seq2seqVAE import sample"
   ]
  },
  {
   "cell_type": "code",
   "execution_count": 3,
   "metadata": {
    "id": "KE3QrxfWDoHx"
   },
   "outputs": [],
   "source": [
    "# libraries required for visualisation:\n",
    "from IPython.display import SVG, display\n",
    "import PIL\n",
    "from PIL import Image\n",
    "import matplotlib.pyplot as plt\n",
    "import svgwrite\n",
    "from svglib.svglib import svg2rlg\n",
    "from reportlab.graphics import renderPM\n",
    "import glob\n",
    "\n",
    "# set numpy output to something sensible\n",
    "np.set_printoptions(precision=8, edgeitems=6, linewidth=200, suppress=True)"
   ]
  },
  {
   "cell_type": "markdown",
   "metadata": {
    "id": "nT4VJOQOuGTS"
   },
   "source": [
    "- draw_strokes() function draws a SVG image from the stroke data\n",
    "- make_grid_svg() function is responsible for the 2d grid of the image\n",
    "\n",
    "- animate() function saves the list of SVG images in a folder, converts them into PNG format and creates a GIF animation. The gifs are stored in the animations folder."
   ]
  },
  {
   "cell_type": "code",
   "execution_count": 4,
   "metadata": {},
   "outputs": [],
   "source": [
    "# little function that displays vector images and saves them to .svg\n",
    "def draw_strokes(data, factor=0.05, svg_filename = 'SVG/sample.svg'):\n",
    "    \n",
    "    if not os.path.exists(os.path.dirname(svg_filename)):\n",
    "        os.makedirs(os.path.dirname(svg_filename))\n",
    "    \n",
    "    min_x, max_x, min_y, max_y = get_bounds(data, factor)\n",
    "    dims = (100 + max_x - min_x, 100 + max_y - min_y)\n",
    "    dwg = svgwrite.Drawing(svg_filename, size=dims)\n",
    "    dwg.add(dwg.rect(insert=(0, 0), size=dims,fill='white'))\n",
    "    lift_pen = 1\n",
    "    abs_x = 50 - min_x \n",
    "    abs_y = 50 - min_y\n",
    "    \n",
    "    p = \"M%s,%s \" % (abs_x, abs_y)\n",
    "    command = \"m\"\n",
    "    for i in range(len(data)):\n",
    "        if (lift_pen == 1):\n",
    "            command = \"m\"\n",
    "        elif (command != \"l\"):\n",
    "            command = \"l\"\n",
    "        else:\n",
    "            command = \"\"\n",
    "        x = float(data[i,0])/factor\n",
    "        y = float(data[i,1])/factor\n",
    "        lift_pen = data[i, 2]\n",
    "        p += command+str(x)+\",\"+str(y)+\" \"\n",
    "    the_color = \"black\"\n",
    "    stroke_width = 1\n",
    "    dwg.add(dwg.path(p).stroke(the_color,stroke_width).fill(\"none\"))\n",
    "    dwg.save()\n",
    "    display(SVG(dwg.tostring()))\n",
    "\n",
    "# generate a 2D grid of many vector drawings\n",
    "def make_grid_svg(s_list, grid_space=10.0, grid_space_x=16.0):\n",
    "    def get_start_and_end(x):\n",
    "        x = np.array(x)\n",
    "        x = x[:, 0:2]\n",
    "        x_start = x[0]\n",
    "        x_end = x.sum(axis=0)\n",
    "        x = x.cumsum(axis=0)\n",
    "        x_max = x.max(axis=0)\n",
    "        x_min = x.min(axis=0)\n",
    "        center_loc = (x_max+x_min)*0.5\n",
    "        return x_start-center_loc, x_end\n",
    "    x_pos = 0.0\n",
    "    y_pos = 0.0\n",
    "    result = [[x_pos, y_pos, 1]]\n",
    "    for sample in s_list:\n",
    "        s = sample[0]\n",
    "        grid_loc = sample[1]\n",
    "        grid_y = grid_loc[0]*grid_space+grid_space*0.5\n",
    "        grid_x = grid_loc[1]*grid_space_x+grid_space_x*0.5\n",
    "        start_loc, delta_pos = get_start_and_end(s)\n",
    "    \n",
    "        loc_x = start_loc[0]\n",
    "        loc_y = start_loc[1]\n",
    "        new_x_pos = grid_x+loc_x\n",
    "        new_y_pos = grid_y+loc_y\n",
    "        result.append([new_x_pos-x_pos, new_y_pos-y_pos, 0])\n",
    "    \n",
    "        result += s.tolist()\n",
    "        result[-1][2] = 1\n",
    "        x_pos = new_x_pos+delta_pos[0]\n",
    "        y_pos = new_y_pos+delta_pos[1]\n",
    "    return np.array(result)"
   ]
  },
  {
   "cell_type": "code",
   "execution_count": 5,
   "metadata": {},
   "outputs": [],
   "source": [
    "def animate(data,name,factor=0.05,svg_filename='SVG/animate',animation_folder = 'animations/animation'):\n",
    "    \n",
    "    if os.path.exists(os.path.dirname(svg_filename)):\n",
    "        files = glob.glob('SVG/*')\n",
    "        for f in files:\n",
    "            os.remove(f)\n",
    "    else:\n",
    "        os.makedirs(os.path.dirname(svg_filename))\n",
    "\n",
    "    if not os.path.exists(os.path.dirname(animation_folder)):\n",
    "        os.makedirs(os.path.dirname(animation_folder))\n",
    "\n",
    "    min_x, max_x, min_y, max_y = get_bounds(data, factor)\n",
    "    dims = (100 + max_x - min_x, 100 + max_y - min_y)\n",
    "    dwg = svgwrite.Drawing(svg_filename, size=dims)\n",
    "    dwg.add(dwg.rect(insert=(0, 0), size=dims,fill='white'))\n",
    "    lift_pen = 1\n",
    "    abs_x = 50 - min_x \n",
    "    abs_y = 50 - min_y\n",
    "    \n",
    "    the_color = \"black\"\n",
    "    stroke_width = 4\n",
    "    p = \"M%s,%s \" % (abs_x, abs_y)\n",
    "    command = \"m\"\n",
    "    \n",
    "    for i in range(len(data)):\n",
    "        if (lift_pen == 1):\n",
    "            command = \"m\"\n",
    "        elif (command != \"l\"):\n",
    "            command = \"l\"\n",
    "        else:\n",
    "            command = \"\"\n",
    "        x = float(data[i,0])/factor\n",
    "        y = float(data[i,1])/factor\n",
    "        lift_pen = data[i, 2]\n",
    "\n",
    "        p += command+str(x)+\",\"+str(y)+\" \"\n",
    "        dwg = svgwrite.Drawing(svg_filename+str(i)+'.svg', size=dims)\n",
    "        dwg.add(dwg.rect(insert=(0, 0), size=dims,fill='white'))\n",
    "        dwg.add(dwg.path(p).stroke(the_color,stroke_width).fill(\"none\"))\n",
    "        dwg.save()\n",
    "        drawing = svg2rlg(svg_filename+str(i)+'.svg')\n",
    "        renderPM.drawToFile(drawing,svg_filename+str(i)+'.png', fmt=\"PNG\")\n",
    "        os.remove(svg_filename+str(i)+'.svg')\n",
    "        \n",
    "    dwg = svgwrite.Drawing(svg_filename+str(len(data))+'.svg', size=dims)\n",
    "    dwg.add(dwg.rect(insert=(0, 0), size=dims,fill='white'))\n",
    "    dwg.add(dwg.path(p).stroke(the_color,stroke_width).fill(\"none\"))\n",
    "    #display(SVG(dwg.tostring()))\n",
    "    dwg.save()\n",
    "    drawing = svg2rlg(svg_filename+str(len(data))+'.svg')\n",
    "    renderPM.drawToFile(drawing,svg_filename+str(len(data))+'.png', fmt=\"PNG\")\n",
    "    os.remove(svg_filename+str(len(data))+'.svg')\n",
    "    \n",
    "    # Create the frames\n",
    "    frames = []\n",
    "    for i in range(len(data)+1):\n",
    "        new_frame = Image.open(svg_filename+str(i)+\".png\")\n",
    "        frames.append(new_frame)\n",
    "     \n",
    "    #Save into a GIF file that loops forever\n",
    "    count = 0\n",
    "    animation_path = animation_folder+'_'+name\n",
    "    while os.path.exists(animation_path+str(count)+\".gif\"):\n",
    "        count += 1\n",
    "    animation_path = animation_path+str(count)+\".gif\"\n",
    "\n",
    "    frames[0].save(animation_path, format='GIF',append_images=frames[1:],\n",
    "                save_all=True, duration=150, loop=0)"
   ]
  },
  {
   "cell_type": "markdown",
   "metadata": {
    "id": "ApWA5dbHDoH1"
   },
   "source": [
    "#### **Load Data**"
   ]
  },
  {
   "cell_type": "code",
   "execution_count": 6,
   "metadata": {
    "colab": {
     "base_uri": "https://localhost:8080/"
    },
    "id": "O1qoQ5BeDoH1",
    "outputId": "f2638be5-4b76-444a-8655-a9a51df2b19f"
   },
   "outputs": [
    {
     "name": "stdout",
     "output_type": "stream",
     "text": [
      "Loaded 108285/2500/2500 from leaf.npz\n",
      "Dataset combined: 113285 (108285/2500/2500), avg len 38\n",
      "model_params.max_seq_len: 74\n",
      "total images <= max_seq_len is 108285\n",
      "total images <= max_seq_len is 2500\n",
      "total images <= max_seq_len is 2500\n"
     ]
    }
   ],
   "source": [
    "with open(os.path.join(exp_dir,'logs', 'model_config.json'), 'r') as f:\n",
    "    model_params = json.load(f)\n",
    "model_params = DotDict(model_params)   \n",
    "[train_set, valid_set, test_set, hps_model] = load_dataset(data_dir, model_params)"
   ]
  },
  {
   "cell_type": "markdown",
   "metadata": {
    "id": "jrrAK-RHDoH4"
   },
   "source": [
    "#### **Building a Seq2seq Variational Autoencoder model**"
   ]
  },
  {
   "cell_type": "code",
   "execution_count": 7,
   "metadata": {
    "colab": {
     "base_uri": "https://localhost:8080/"
    },
    "id": "EU1avfq8DoH4",
    "outputId": "30e60ea7-f0e7-419f-d75e-13172c540e28"
   },
   "outputs": [
    {
     "name": "stdout",
     "output_type": "stream",
     "text": [
      "Model: \"model\"\n",
      "__________________________________________________________________________________________________\n",
      "Layer (type)                    Output Shape         Param #     Connected to                     \n",
      "==================================================================================================\n",
      "encoder_input (InputLayer)      [(None, 74, 5)]      0                                            \n",
      "__________________________________________________________________________________________________\n",
      "bidirectional (Bidirectional)   (None, 512)          536576      encoder_input[0][0]              \n",
      "__________________________________________________________________________________________________\n",
      "dense (Dense)                   (None, 128)          65664       bidirectional[0][0]              \n",
      "__________________________________________________________________________________________________\n",
      "dense_1 (Dense)                 (None, 128)          65664       bidirectional[0][0]              \n",
      "__________________________________________________________________________________________________\n",
      "lambda (Lambda)                 (None, 128)          0           dense[0][0]                      \n",
      "                                                                 dense_1[0][0]                    \n",
      "__________________________________________________________________________________________________\n",
      "decoder_input (InputLayer)      [(None, 74, 5)]      0                                            \n",
      "__________________________________________________________________________________________________\n",
      "repeat_vector (RepeatVector)    (None, 74, 128)      0           lambda[0][0]                     \n",
      "__________________________________________________________________________________________________\n",
      "dec_initial_state (Dense)       (None, 1024)         132096      lambda[0][0]                     \n",
      "__________________________________________________________________________________________________\n",
      "concatenate (Concatenate)       (None, 74, 133)      0           decoder_input[0][0]              \n",
      "                                                                 repeat_vector[0][0]              \n",
      "__________________________________________________________________________________________________\n",
      "tf_op_layer_strided_slice (Tens [(None, 512)]        0           dec_initial_state[0][0]          \n",
      "__________________________________________________________________________________________________\n",
      "tf_op_layer_strided_slice_1 (Te [(None, 512)]        0           dec_initial_state[0][0]          \n",
      "__________________________________________________________________________________________________\n",
      "lstm_1 (LSTM)                   [(None, 74, 512), (N 1323008     concatenate[0][0]                \n",
      "                                                                 tf_op_layer_strided_slice[0][0]  \n",
      "                                                                 tf_op_layer_strided_slice_1[0][0]\n",
      "__________________________________________________________________________________________________\n",
      "output (Dense)                  (None, 74, 123)      63099       lstm_1[0][0]                     \n",
      "==================================================================================================\n",
      "Total params: 2,186,107\n",
      "Trainable params: 2,186,107\n",
      "Non-trainable params: 0\n",
      "__________________________________________________________________________________________________\n",
      "Weights from experiments/leaf/exp/checkpoints/leaf.hdf5 loaded successfully\n",
      "Created Sub Models!\n"
     ]
    }
   ],
   "source": [
    "weights = os.path.join(exp_dir,'checkpoints',weights_fname) # checkpoint path\n",
    "seq2seq = Seq2seqModel(model_params)  # build model\n",
    "seq2seq.load_trained_weights(weights) # load checkpoint\n",
    "seq2seq.make_sampling_models()  # build sub models that are used to infuse inputs and probe values of intermediate layers"
   ]
  },
  {
   "cell_type": "code",
   "execution_count": 8,
   "metadata": {
    "id": "agCa0XRMDoH5"
   },
   "outputs": [],
   "source": [
    "# Function for encoding input and retrieving latent vector\n",
    "def encode(input_strokes, draw=False):\n",
    "    strokes = to_big_strokes(input_strokes, max_len=model_params['max_seq_len']-1).tolist()\n",
    "    strokes.insert(0, [0, 0, 1, 0, 0])\n",
    "    seq_len = [len(input_strokes)]\n",
    "    if draw:\n",
    "        draw_strokes(to_normal_strokes(np.array(strokes)))\n",
    "    strokes = np.expand_dims(strokes, axis=0)\n",
    "    return seq2seq.sample_models['encoder_model'].predict(strokes)\n"
   ]
  },
  {
   "cell_type": "code",
   "execution_count": 9,
   "metadata": {
    "id": "YD89hno3DoH6"
   },
   "outputs": [],
   "source": [
    "# Function for decoding a latent space factor into a sketch\n",
    "def decode(z_input=None, draw_mode=True, temperature=0.1, factor=0.05):\n",
    "    z = None\n",
    "    if z_input is not None:\n",
    "        z = z_input\n",
    "    sample_strokes, m = sample(seq2seq, seq_len=model_params.max_seq_len, temperature=temperature, z=z)\n",
    "    strokes = to_normal_strokes(sample_strokes)\n",
    "    if draw_mode:\n",
    "        draw_strokes(strokes, factor)\n",
    "    return strokes"
   ]
  },
  {
   "cell_type": "markdown",
   "metadata": {
    "id": "oM4hdFk2DoH7"
   },
   "source": [
    "#### **Load a random sketch from the test dataset**"
   ]
  },
  {
   "cell_type": "code",
   "execution_count": 103,
   "metadata": {
    "colab": {
     "base_uri": "https://localhost:8080/",
     "height": 403
    },
    "id": "V_bDCa2EDoH7",
    "outputId": "2663993a-6af9-4232-fd95-54ccf3e55250",
    "scrolled": false
   },
   "outputs": [
    {
     "data": {
      "image/svg+xml": [
       "<svg baseProfile=\"full\" height=\"228.53419661521912\" version=\"1.1\" width=\"147.7634620666504\" xmlns=\"http://www.w3.org/2000/svg\" xmlns:ev=\"http://www.w3.org/2001/xml-events\" xmlns:xlink=\"http://www.w3.org/1999/xlink\"><defs/><rect fill=\"white\" height=\"228.53419661521912\" width=\"147.7634620666504\" x=\"0\" y=\"0\"/><path d=\"M56.60145416855812,178.53419661521912 m0.0,-6.601454019546509 l5.824812650680542,-20.58100461959839 17.474437952041626,-50.09338855743408 l5.436491966247559,-22.5226092338562 m-26.017496585845947,66.40286445617676 l2.7182459831237793,2.7182459831237793 -6.213133335113525,-12.42626667022705 l-5.436491966247559,-21.357645988464355 -0.38832083344459534,-12.814587354660034 l1.9416041672229767,-8.543058633804321 2.329925000667572,-4.271529316902161 l7.766416668891907,-7.766416668891907 16.30947470664978,-8.543058633804321 l12.814587354660034,-9.319700002670288 6.213133335113525,-12.814587354660034 l0.38832083344459534,2.329925000667572 -4.271529316902161,33.00727128982544 l0.0,20.58100461959839 2.329925000667572,23.687570095062256 l-1.164962500333786,12.814587354660034 -4.659850001335144,10.872983932495117 l-3.1065666675567627,4.271529316902161 -6.213133335113525,4.659850001335144 l-7.766416668891907,1.5532833337783813 -7.378095984458923,-3.8832083344459534 m11.2613046169281,-41.16200923919678 l5.436491966247559,-6.98977530002594 13.591228723526001,-11.649625301361084 m-26.794137954711914,37.66712188720703 l20.19268274307251,-13.591228723526001 m-21.745967864990234,13.97955060005188 l-2.329925000667572,-17.086117267608643 -7.378095984458923,-22.91092872619629 m23.687570095062256,16.69779658317566 l-10.872983932495117,-40.7736873626709 \" fill=\"none\" stroke=\"black\" stroke-width=\"1\"/></svg>"
      ],
      "text/plain": [
       "<IPython.core.display.SVG object>"
      ]
     },
     "metadata": {},
     "output_type": "display_data"
    }
   ],
   "source": [
    "stroke = test_set.random_sample()\n",
    "draw_strokes(stroke)"
   ]
  },
  {
   "cell_type": "code",
   "execution_count": 104,
   "metadata": {
    "id": "LKZ6v3dPDoH-"
   },
   "outputs": [],
   "source": [
    "z = encode(stroke)"
   ]
  },
  {
   "cell_type": "code",
   "execution_count": 111,
   "metadata": {
    "colab": {
     "base_uri": "https://localhost:8080/",
     "height": 362
    },
    "id": "pVq-aWUaDoH_",
    "outputId": "b2ff46ca-fe87-42ae-c058-83b6463c768e"
   },
   "outputs": [
    {
     "data": {
      "image/svg+xml": [
       "<svg baseProfile=\"full\" height=\"217.27840648964047\" version=\"1.1\" width=\"154.31383406743407\" xmlns=\"http://www.w3.org/2000/svg\" xmlns:ev=\"http://www.w3.org/2001/xml-events\" xmlns:xlink=\"http://www.w3.org/1999/xlink\"><defs/><rect fill=\"white\" height=\"217.27840648964047\" width=\"154.31383406743407\" x=\"0\" y=\"0\"/><path d=\"M62.629150031134486,167.27840648964047 m0.08904085494577885,-0.09079622104763985 l-0.22924009710550308,-6.5498656034469604 5.147508382797241,-20.575761795043945 l14.504297971725464,-53.44552993774414 15.293811559677124,-21.44002676010132 m-31.660678386688232,82.82757759094238 l-8.478199243545532,-7.275900840759277 -4.800586402416229,-9.776715636253357 l-2.495104670524597,-13.449618816375732 1.0910949856042862,-13.114027976989746 l4.081823527812958,-10.051952600479126 4.842822551727295,-6.885107755661011 l11.540977954864502,-11.112293004989624 9.145949482917786,-7.4092793464660645 l7.174578309059143,-5.57310163974762 12.338875532150269,-13.356006145477295 l-0.21067636087536812,6.944236755371094 3.5831695795059204,38.128559589385986 l0.7252185046672821,17.732830047607422 -1.7538176476955414,17.51600742340088 l-3.475363254547119,10.217093229293823 -4.414328634738922,6.924731135368347 l-6.0998135805130005,5.600524544715881 -10.60099482536316,5.62812864780426 l-5.597735047340393,1.0279055684804916 -5.182391405105591,-2.605082094669342 m10.483421087265015,-45.285024642944336 l6.5233612060546875,-8.815657496452332 11.488344669342041,-10.22026538848877 m-17.223498821258545,23.263065814971924 l15.755175352096558,-9.011515974998474 m-16.469537019729614,17.055795192718506 l15.85557222366333,-4.023629128932953 6.448941230773926,-2.56374329328537 m-24.80241060256958,-11.256623268127441 l-3.786689043045044,-25.704386234283447 \" fill=\"none\" stroke=\"black\" stroke-width=\"1\"/></svg>"
      ],
      "text/plain": [
       "<IPython.core.display.SVG object>"
      ]
     },
     "metadata": {},
     "output_type": "display_data"
    }
   ],
   "source": [
    "x = decode(z, temperature=0.5)"
   ]
  },
  {
   "cell_type": "code",
   "execution_count": 112,
   "metadata": {
    "id": "2ecj-iA5OVH6"
   },
   "outputs": [],
   "source": [
    "animate(x,name)"
   ]
  },
  {
   "cell_type": "markdown",
   "metadata": {
    "id": "r5rysK8sDoIA"
   },
   "source": [
    "#### **Temperature of the outputs**\n",
    "The temperature variable controls the level of randomness we would like our samples to have during the sampling (equation 8 of the sketch-rnn [paper](https://arxiv.org/pdf/1704.03477.pdf)).\n",
    "\n",
    "Let's decode our model output using varying temperature values between 0.1 and 1 and see how 'creative' our model can get"
   ]
  },
  {
   "cell_type": "code",
   "execution_count": 113,
   "metadata": {
    "colab": {
     "base_uri": "https://localhost:8080/",
     "height": 447
    },
    "id": "WTgs0dhrDoIA",
    "outputId": "5a18a482-ec56-4f5d-8f34-09659a2d05d3",
    "scrolled": true
   },
   "outputs": [
    {
     "data": {
      "image/svg+xml": [
       "<svg baseProfile=\"full\" height=\"271.2432322651148\" version=\"1.1\" width=\"3169.3154350155964\" xmlns=\"http://www.w3.org/2000/svg\" xmlns:ev=\"http://www.w3.org/2001/xml-events\" xmlns:xlink=\"http://www.w3.org/1999/xlink\"><defs/><rect fill=\"white\" height=\"271.2432322651148\" width=\"3169.3154350155964\" x=\"0\" y=\"0\"/><path d=\"M50,50 m0.0,0.0 m143.6582969687879,161.55244424939156 l0.05569275002926588,-0.06660067476332188 -0.28303975239396095,-6.544055938720703 l5.288923382759094,-20.474791526794434 15.401942729949951,-54.928154945373535 l12.269222736358643,-19.012726545333862 m-27.657439708709717,75.89003562927246 l-5.960181355476379,-4.700250923633575 -5.500656366348267,-10.02318263053894 l-3.816792666912079,-16.179730892181396 0.6452218443155289,-12.250680923461914 l3.4446343779563904,-8.787581324577332 6.000682711601257,-8.30906629562378 l7.665650844573975,-7.232768535614014 8.767880201339722,-6.490157246589661 l16.221754550933838,-13.167937994003296 6.84276819229126,-10.89383840560913 l-2.42264986038208,12.276612520217896 1.5606868267059326,23.542516231536865 l4.472818374633789,29.661505222320557 -0.733969509601593,15.262724161148071 l-3.991062045097351,11.715062856674194 -6.06636643409729,8.813557028770447 l-8.647592663764954,6.975928544998169 -9.72369134426117,3.612014949321747 l-5.145323872566223,-0.04150388762354851 -2.1626536548137665,-2.272854447364807 m13.061500787734985,-42.79954433441162 l10.342025756835938,-8.792109489440918 10.377087593078613,-9.143293499946594 m-22.24940776824951,16.23550534248352 l-7.531827092170715,-18.108562231063843 m6.1202263832092285,27.894675731658936 l17.81848907470703,-5.662711262702942 m-25.59389591217041,19.623769521713257 l-5.957406163215637,-13.923014402389526 -2.733474373817444,-5.981393456459045 m318.9226392703131,53.00043231807649 l0.0428652111440897,-0.057051703333854675 -0.2822207286953926,-6.548115015029907 l5.321936011314392,-20.587177276611328 16.55815601348877,-56.8889856338501 l10.292633771896362,-16.18325114250183 m-26.583187580108643,75.97856998443604 l-6.59376323223114,-6.32679283618927 -7.2557079792022705,-14.99200701713562 l-1.4403146505355835,-9.957830309867859 0.877530500292778,-12.301037311553955 l3.4448403120040894,-9.324252009391785 3.560227155685425,-5.916288495063782 l6.712159514427185,-7.2905731201171875 17.64243721961975,-13.190838098526001 l7.497542500495911,-7.152620553970337 7.099398970603943,-9.859346151351929 l-1.2178685516119003,13.293380737304688 2.4692147970199585,23.20274829864502 l3.869163990020752,30.71291446685791 -1.1708685010671616,14.969727993011475 l-4.312266409397125,11.33482813835144 -7.126811146736145,8.873279690742493 l-8.907915949821472,5.644221305847168 -6.427600383758545,1.502130776643753 l-4.007388949394226,-0.9616578370332718 -1.8028657138347626,-3.104686439037323 m10.297086238861084,-41.51115417480469 l-1.5444594621658325,-14.081133604049683 -3.10990571975708,-15.579448938369751 m8.595104217529297,31.282742023468018 l22.006752490997314,-12.296502590179443 m-25.347628593444824,22.41309404373169 l-8.260825872421265,-16.72861337661743 -2.8280192613601685,-8.63509714603424 m11.174426078796387,40.17035961151123 l24.333343505859375,-8.421689867973328 m276.4479748066515,37.78608366847038 l0.03611833089962602,-0.0481945788487792 -0.28204092755913734,-6.48539125919342 l5.265733003616333,-20.32982349395752 17.298847436904907,-56.487460136413574 l10.102897882461548,-18.240435123443604 m-25.870931148529053,75.2018690109253 l-5.939499735832214,-5.2652907371521 -7.427361011505127,-13.387595415115356 l-1.8583808839321136,-11.297314167022705 0.6130721420049667,-13.170360326766968 l2.1143710613250732,-6.914806365966797 6.149340867996216,-10.14782428741455 l8.459770679473877,-8.553394079208374 8.514084815979004,-6.005565524101257 l15.834336280822754,-13.714234828948975 4.583600163459778,-4.278778433799744 l1.0001377761363983,4.235645234584808 0.612565316259861,37.15661287307739 l2.2977301478385925,23.692290782928467 0.45370716601610184,15.115052461624146 l-3.543301224708557,9.956496953964233 -5.781800746917725,7.478314638137817 l-7.0272767543792725,5.184355974197388 -10.645561218261719,3.238663673400879 l-3.248337507247925,-0.6691333651542664 -2.6138481497764587,-5.3926825523376465 m6.035561561584473,-14.067448377609253 l8.036978244781494,-41.466126441955566 1.6239157319068909,-11.07047438621521 m-0.34204844385385513,23.63921880722046 l14.773372411727905,-5.646949410438538 m-20.105056762695312,18.824710845947266 l19.7041916847229,0.10438468307256699 4.354186654090881,0.265514999628067 m-24.952354431152344,-11.721774339675903 l-8.888563513755798,-15.857150554656982 m313.331462868955,75.66324168350548 l0.081724738702178,-0.018578640883788466 -0.23596230894327164,-6.60676896572113 l5.411338806152344,-20.257160663604736 13.556478023529053,-55.10500431060791 l16.26401424407959,-20.537471771240234 m-33.00762176513672,75.8522367477417 l-5.804345607757568,-2.6759111881256104 -6.167636513710022,-9.633686542510986 l-3.2906731963157654,-16.131699085235596 1.3568852841854095,-13.09557318687439 l3.2280781865119934,-7.779049277305603 7.019298076629639,-9.7554349899292 l7.552684545516968,-7.062884569168091 8.717346787452698,-6.151025295257568 l12.074414491653442,-6.996332406997681 10.411171913146973,-12.216968536376953 l-2.6527923345565796,9.578929543495178 4.35373842716217,21.07818603515625 l1.7070084810256958,39.2731499671936 -1.9759242236614227,13.571053743362427 l-3.7582772970199585,10.832154750823975 -4.042068123817444,7.126626372337341 l-3.261067271232605,2.9016494750976562 -11.375377178192139,1.9523653388023376 l-4.093429446220398,-1.7603394389152527 -4.807677865028381,-6.50932252407074 m15.310429334640503,-34.26752328872681 l1.7721472680568695,-15.31517744064331 -0.2861550450325012,-22.704663276672363 m-3.3595818281173706,38.26629161834717 l21.750946044921875,-12.240979671478271 m-23.99984121322632,23.733539581298828 l-3.921138644218445,-16.98475956916809 -1.9348232448101044,-9.339077472686768 m1.9472914934158325,33.996288776397705 l18.49328875541687,-7.465503811836243 m283.52833478711545,44.00733935064636 l0.04108528606593609,0.02528479089960456 -0.2033376693725586,-6.682549715042114 l5.356377959251404,-20.365431308746338 16.486525535583496,-60.95540523529053 l11.03767991065979,-12.650395631790161 m-24.9638032913208,77.6136827468872 l-7.063931822776794,-7.795055508613586 -9.33711290359497,-17.470911741256714 l-0.8303418755531311,-9.991927146911621 0.4078853130340576,-9.800070524215698 l3.9097556471824646,-9.493334889411926 5.4550206661224365,-8.27758252620697 l7.775982618331909,-7.731543183326721 11.534903049468994,-9.050812721252441 l11.058311462402344,-8.84347140789032 7.405608892440796,-9.775756001472473 l-0.6053197756409645,13.797202110290527 0.5077692121267319,11.822596788406372 l4.935885667800903,45.399088859558105 -1.3020582497119904,17.236286401748657 l-3.3289238810539246,9.464519023895264 -3.4696313738822937,4.579672813415527 l-8.856710195541382,4.393414556980133 -6.764817833900452,0.6349301338195801 l-5.6862872838974,-1.8179795145988464 -4.563106000423431,-4.347704648971558 m5.252066254615784,-4.9447062611579895 l11.651501655578613,-44.447784423828125 10.501488447189331,-32.65953779220581 m-10.592477321624756,43.17373752593994 l13.905116319656372,-6.370518207550049 5.872453451156616,-1.253117024898529 m-29.541025161743164,28.415977954864502 l28.956327438354492,0.03602917538955808 m-32.46324300765991,19.04017686843872 l18.823623657226562,-0.7070931047201157 m289.6246338542551,19.038653140887618 l0.10704255662858486,-0.13905223459005356 -0.2664458192884922,-6.3718390464782715 l5.342856049537659,-20.74761152267456 16.884241104125977,-58.28373432159424 l9.271418452262878,-11.36231541633606 m-24.611644744873047,77.67884731292725 l-3.9997392892837524,-8.561568260192871 -9.491933584213257,-17.430012226104736 l-2.291537821292877,-8.820456862449646 0.34247253090143204,-11.538547277450562 l4.325321614742279,-9.494403600692749 4.31407243013382,-7.867429852485657 l4.430750906467438,-5.687206387519836 10.89017391204834,-9.644871354103088 l18.380812406539917,-13.991190195083618 6.021663546562195,-7.625354528427124 l-1.0354211926460266,15.821797847747803 -0.4926364868879318,20.706045627593994 l2.9141902923583984,25.47706127166748 -1.3004158437252045,25.568692684173584 l-2.312593162059784,7.09685742855072 -4.644973278045654,5.791455507278442 l-7.90640652179718,6.7442649602890015 -8.797816634178162,3.3728471398353577 l-9.12151575088501,-0.15568891540169716 -2.0575346052646637,-5.89042603969574 m21.088051795959473,-48.06957244873047 l-2.3582082986831665,-2.6420482993125916 -4.845713376998901,-13.720240592956543 m9.73339319229126,26.34026050567627 l14.870682954788208,-8.286373615264893 m-22.01179265975952,29.41121816635132 l-6.566141843795776,-17.47198462486267 -2.5456801056861877,-8.53476881980896 m1.1383920907974243,46.74604892730713 l18.37194323539734,-15.959863662719727 m283.35818056948483,38.910548221319914 l0.03973908256739378,-0.06553543731570244 -0.28085242956876755,-6.56366229057312 l5.5294716358184814,-21.01846218109131 18.958017826080322,-60.65868854522705 l0.3229581192135811,2.5930893421173096 m-17.700520753860474,62.472758293151855 l0.1952187530696392,-46.58813953399658 -5.304986834526062,-7.137556076049805 l-3.2094746828079224,-1.9418363273143768 -2.515120506286621,-1.1491581797599792 l-0.8864407241344452,-4.1584667563438416 0.45548640191555023,-4.284174144268036 l13.491061925888062,-12.788755893707275 13.047915697097778,-13.859912157058716 l9.594564437866211,-10.787438154220581 7.380799651145935,-16.61606192588806 l0.3357548266649246,18.601213693618774 3.4684866666793823,28.223180770874023 l4.289699196815491,20.486810207366943 -1.3750295341014862,16.996445655822754 l-5.784355998039246,14.657635688781738 -6.7112308740615845,9.045008420944214 l-6.98908269405365,5.876854062080383 -6.770985722541809,2.346455752849579 l-7.367561459541321,-0.33811159431934357 -2.681492567062378,-2.2489845752716064 m-2.895234227180481,-8.918787240982056 l17.39275574684143,-45.00431537628174 2.7290573716163635,-13.036266565322876 m-8.265390396118164,14.056777954101562 l17.87038803100586,-2.763100564479828 m-25.14441967010498,18.222230672836304 l25.727555751800537,-2.6018980145454407 11.842478513717651,-2.7323192358016968 m-36.76494598388672,21.74703359603882 l35.59389352798462,0.8535418659448624 m278.4047599323094,33.271772768348455 l0.020259672310203314,-0.1943393424153328 -0.34412931650877,-6.619539260864258 l5.389491319656372,-20.783140659332275 15.38852572441101,-53.4184455871582 l12.788083553314209,-23.75159740447998 m-28.88056755065918,87.1986198425293 l-10.670245885848999,-7.937536239624023 -4.422498345375061,-8.902655839920044 l-2.087211310863495,-12.490066289901733 0.448843315243721,-10.836386680603027 l3.9574694633483887,-14.58228349685669 3.6462873220443726,-7.415922284126282 l7.496209740638733,-9.466318488121033 6.862303614616394,-5.514938831329346 l11.342517137527466,-6.624520421028137 16.084463596343994,-9.720088839530945 l1.1671513319015503,2.246668189764023 -1.486818790435791,19.32282328605652 l0.14249620027840137,38.390772342681885 -1.1110132932662964,9.802501201629639 l-2.9970309138298035,21.330559253692627 -0.9509796649217606,5.199081897735596 l-4.012802243232727,8.66705596446991 -15.826833248138428,0.7298321276903152 l-2.5938954949378967,-3.0077895522117615 1.5461143851280212,-4.12845253944397 m1.3625435531139374,-12.710024118423462 l-3.735406994819641,-31.092092990875244 0.38103871047496796,-12.108616828918457 m12.37667441368103,21.436753273010254 l-6.220390796661377,-19.24418330192566 m12.17824101448059,-3.941221237182617 l-1.7163477838039398,-25.403165817260742 m12.961558103561401,13.457130193710327 l0.9616047143936157,-5.041094422340393 5.224992036819458,-10.126473903656006 m280.3010928421281,90.93759158626199 l-0.03598631825298071,-0.0813039019703865 -0.342148095369339,-6.659497022628784 l5.099530816078186,-20.17728567123413 11.450728178024292,-47.5090217590332 l17.051777839660645,-22.780842781066895 m-33.71441125869751,68.56048107147217 l-7.359406352043152,-4.226103127002716 -3.488413095474243,-6.7229074239730835 l-2.0622946321964264,-11.114856004714966 -0.8251548558473587,-16.605589389801025 l4.3583521246910095,-11.047276258468628 1.6700856387615204,-4.5920029282569885 l5.713716149330139,-5.988978147506714 26.592724323272705,-14.058593511581421 l7.910882830619812,-9.369481801986694 0.6037269532680511,3.2089555263519287 l0.6038676202297211,6.1143070459365845 0.35301152616739273,13.170160055160522 l2.4415212869644165,35.03981828689575 -0.1096794568002224,29.564847946166992 l-1.6662181913852692,10.110993385314941 -2.446313798427582,4.761621952056885 l-8.810200095176697,7.1566832065582275 -15.633642673492432,4.250846803188324 l-5.785413980484009,-0.31494464725255966 -0.1505657099187374,-2.3512975871562958 m14.720408916473389,-27.809569835662842 l5.808045864105225,-13.561913967132568 11.400058269500732,-18.981930017471313 m-7.840544581413269,7.845205068588257 l-4.356716275215149,-7.031605839729309 m0.07854067720472813,14.647895097732544 l11.862732172012329,-3.6000090837478638 m-28.774101734161377,-1.4152704179286957 l-3.118564486503601,-7.819246053695679 m-4.834500849246979,73.41655254364014 m316.2931449757889,-10.305960203986615 l0.0613010348752141,0.08391626179218292 -0.27214664965867996,-6.279028654098511 l5.319278240203857,-20.75124979019165 13.781085014343262,-53.20096015930176 l15.589494705200195,-24.995920658111572 m-30.99531650543213,85.85347175598145 l-6.1775147914886475,0.05049088504165411 -2.653416097164154,-3.996809720993042 l-5.570024847984314,-18.18181037902832 0.04671374335885048,-17.71443486213684 l4.833846092224121,-12.281705141067505 6.594833731651306,-10.20792841911316 l5.004290342330933,-5.225077271461487 8.776488304138184,-4.285323917865753 l17.446563243865967,-4.277676045894623 8.520619869232178,-3.319365084171295 l1.814492791891098,-6.814243793487549 -0.7651420682668686,5.143900513648987 l-0.7118871062994003,45.91847896575928 0.8200247585773468,27.894728183746338 l-0.1923447661101818,13.715050220489502 -2.0862096548080444,4.332829415798187 l-7.541738152503967,4.836607873439789 -7.692381739616394,0.14676117338240147 l-8.173627853393555,-5.404766798019409 -5.9962040185928345,-2.3390647768974304 l-4.330185353755951,-4.729249179363251 m4.634174406528473,-5.923656225204468 l19.198589324951172,-44.71640586853027 m-4.180663824081421,2.75421142578125 l-0.7712644338607788,-13.266092538833618 m8.522093892097473,54.2848014831543 l9.698386788368225,-3.633209466934204 5.0387996435165405,-9.43534255027771 m-16.727111339569092,25.412323474884033 l-0.46834345906972885,0.7718059420585632 \" fill=\"none\" stroke=\"black\" stroke-width=\"1\"/></svg>"
      ],
      "text/plain": [
       "<IPython.core.display.SVG object>"
      ]
     },
     "metadata": {},
     "output_type": "display_data"
    }
   ],
   "source": [
    "stroke_list = []\n",
    "for i in range(10):\n",
    "  stroke_list.append([decode(z, draw_mode=False, temperature=0.1*i+0.1), [0, i]])\n",
    "stroke_grid = make_grid_svg(stroke_list)\n",
    "draw_strokes(stroke_grid)"
   ]
  },
  {
   "cell_type": "markdown",
   "metadata": {
    "id": "oXYXn97rDoIB"
   },
   "source": [
    "#### **Interpolating between two samples**\n",
    "Now let's see what happens when we interpolate between two different cats!"
   ]
  },
  {
   "cell_type": "code",
   "execution_count": 148,
   "metadata": {},
   "outputs": [
    {
     "data": {
      "image/svg+xml": [
       "<svg baseProfile=\"full\" height=\"213.77800583839417\" version=\"1.1\" width=\"198.63349169492722\" xmlns=\"http://www.w3.org/2000/svg\" xmlns:ev=\"http://www.w3.org/2001/xml-events\" xmlns:xlink=\"http://www.w3.org/1999/xlink\"><defs/><rect fill=\"white\" height=\"213.77800583839417\" width=\"198.63349169492722\" x=\"0\" y=\"0\"/><path d=\"M72.13428616523743,132.71233797073364 m-1.5532833337783813,-5.436491966247559 l-0.38832083344459534,-10.872983932495117 1.9416041672229767,-6.601454019546509 l3.1065666675567627,-4.271529316902161 6.213133335113525,-6.98977530002594 l33.39559316635132,-27.182457447052002 9.708020687103271,-9.708020687103271 l9.319700002670288,-11.649625301361084 3.8832083344459534,14.756191968917847 l6.601454019546509,12.037945985794067 4.271529316902161,25.62917470932007 l-0.7766416668891907,6.98977530002594 -5.824812650680542,11.649625301361084 l-6.98977530002594,7.378095984458923 -12.814587354660034,5.048170685768127 l-25.62917470932007,1.9416041672229767 -22.91092872619629,-1.9416041672229767 l-6.98977530002594,13.97955060005188 -7.766416668891907,8.931379318237305 l-8.931379318237305,7.378095984458923 m36.502158641815186,-42.32697010040283 l27.182457447052002,-20.58100461959839 10.484662055969238,-10.872983932495117 l6.98977530002594,-13.202908039093018 1.5532833337783813,-6.213133335113525 \" fill=\"none\" stroke=\"black\" stroke-width=\"1\"/></svg>"
      ],
      "text/plain": [
       "<IPython.core.display.SVG object>"
      ]
     },
     "metadata": {},
     "output_type": "display_data"
    }
   ],
   "source": [
    "stroke = test_set.random_sample()\n",
    "draw_strokes(stroke)\n",
    "z0 = encode(stroke)"
   ]
  },
  {
   "cell_type": "code",
   "execution_count": 168,
   "metadata": {},
   "outputs": [
    {
     "data": {
      "image/svg+xml": [
       "<svg baseProfile=\"full\" height=\"235.9122884273529\" version=\"1.1\" width=\"207.17655137181282\" xmlns=\"http://www.w3.org/2000/svg\" xmlns:ev=\"http://www.w3.org/2001/xml-events\" xmlns:xlink=\"http://www.w3.org/1999/xlink\"><defs/><rect fill=\"white\" height=\"235.9122884273529\" width=\"207.17655137181282\" x=\"0\" y=\"0\"/><path d=\"M64.75619226694107,153.2933385670185 m-1.164962500333786,-6.601454019546509 l0.38832083344459534,-7.378095984458923 3.49488765001297,-11.649625301361084 l6.213133335113525,-13.202908039093018 9.319700002670288,-14.367871284484863 l10.484662055969238,-12.037945985794067 10.484662055969238,-8.931379318237305 l19.804363250732422,-13.591228723526001 17.086117267608643,-8.931379318237305 l1.5532833337783813,3.8832083344459534 1.164962500333786,9.319700002670288 l-0.38832083344459534,17.474437952041626 -3.8832083344459534,17.86275863647461 l-7.378095984458923,14.756191968917847 -4.271529316902161,6.601454019546509 l-9.708020687103271,10.484662055969238 -10.872983932495117,6.98977530002594 l-17.086117267608643,5.436491966247559 -22.134287357330322,0.0 l-7.766416668891907,1.9416041672229767 -3.8832083344459534,20.19268274307251 l-6.213133335113525,12.814587354660034 8.543058633804321,1.5532833337783813 l11.649625301361084,-1.9416041672229767 1.5532833337783813,-1.164962500333786 l-0.38832083344459534,-11.2613046169281 0.7766416668891907,-8.931379318237305 l2.7182459831237793,-8.15473735332489 3.1065666675567627,-5.048170685768127 l2.7182459831237793,-2.329925000667572 2.329925000667572,0.0 m-14.367871284484863,11.2613046169281 l3.8832083344459534,-11.2613046169281 5.436491966247559,-10.096341371536255 l18.639400005340576,-24.8525333404541 24.8525333404541,-23.687570095062256 l23.299250602722168,-15.921154022216797 12.42626667022705,-6.601454019546509 l0.0,0.38832083344459534 m-78.82913112640381,47.37514019012451 l0.38832083344459534,4.659850001335144 6.213133335113525,17.474437952041626 l4.271529316902161,8.15473735332489 4.271529316902161,6.213133335113525 l1.164962500333786,0.38832083344459534 m3.49488765001297,-57.083163261413574 l4.271529316902161,15.532833337783813 14.756191968917847,35.33719539642334 l2.329925000667572,-4.659850001335144 -1.5532833337783813,-13.202908039093018 m-5.824812650680542,-47.37514019012451 l6.98977530002594,31.065666675567627 6.98977530002594,21.745967864990234 m2.7182459831237793,-63.68461608886719 l5.048170685768127,23.299250602722168 m-64.84958171844482,-20.19268274307251 l0.0,0.0 m25.62917470932007,-21.357645988464355 l0.0,0.0 \" fill=\"none\" stroke=\"black\" stroke-width=\"1\"/></svg>"
      ],
      "text/plain": [
       "<IPython.core.display.SVG object>"
      ]
     },
     "metadata": {},
     "output_type": "display_data"
    }
   ],
   "source": [
    "stroke = test_set.random_sample()\n",
    "draw_strokes(stroke)\n",
    "z1 = encode(stroke)"
   ]
  },
  {
   "cell_type": "code",
   "execution_count": 170,
   "metadata": {
    "id": "6ViGcUmRDoIC"
   },
   "outputs": [],
   "source": [
    "def interpolate_z(z_0, z_1, draw=True):\n",
    "    z_list = [] # interpolate spherically between z0 and z1\n",
    "    N = 10\n",
    "    for t in np.linspace(0, 1, N):\n",
    "        z_list.append(slerp(z_0, z_1, t))\n",
    "    # for every latent vector in z_list, sample a vector image\n",
    "    reconstructions = []\n",
    "    for i in range(N):\n",
    "        reconstructions.append([decode(np.expand_dims(z_list[i],axis=0), draw_mode=False), [0, i]])\n",
    "    stroke_grid = make_grid_svg(reconstructions)\n",
    "    if draw:\n",
    "        draw_strokes(stroke_grid)"
   ]
  },
  {
   "cell_type": "code",
   "execution_count": 171,
   "metadata": {
    "colab": {
     "base_uri": "https://localhost:8080/",
     "height": 387
    },
    "id": "gl2blUEFDoID",
    "outputId": "d42969c1-3ab9-4bc1-864b-7eeaa203de86",
    "scrolled": true
   },
   "outputs": [
    {
     "data": {
      "image/svg+xml": [
       "<svg baseProfile=\"full\" height=\"277.0883720740676\" version=\"1.1\" width=\"3192.6032659539487\" xmlns=\"http://www.w3.org/2000/svg\" xmlns:ev=\"http://www.w3.org/2001/xml-events\" xmlns:xlink=\"http://www.w3.org/1999/xlink\"><defs/><rect fill=\"white\" height=\"277.0883720740676\" width=\"3192.6032659539487\" x=\"0\" y=\"0\"/><path d=\"M50,50 m0.0,0.0 m132.16774616390467,129.53186985105276 l-0.09723248891532421,-0.00195817046915181 -1.5847186744213104,-5.538336634635925 l-0.4209018126130104,-10.78950047492981 1.8197989463806152,-6.484426856040955 l2.8137317299842834,-4.979991316795349 8.495296835899353,-8.508775234222412 l27.807135581970215,-22.06648588180542 13.925703763961792,-14.687048196792603 l9.899283051490784,-14.387662410736084 3.5354992747306824,19.08029794692993 l6.948964595794678,16.267439126968384 3.8621261715888977,13.271511793136597 l0.3072267770767212,10.694488286972046 -3.631449043750763,10.302149057388306 l-8.319199681282043,9.439360499382019 -21.09471559524536,11.265501976013184 l-23.04097890853882,4.894719421863556 -17.7038311958313,-0.6835361570119858 l-5.695504546165466,2.2135114669799805 -10.73738694190979,8.838664293289185 l-8.930718898773193,10.23660659790039 m32.25377321243286,-33.02248239517212 l27.032744884490967,-28.611040115356445 10.673861503601074,-11.975377798080444 l3.8530877232551575,-6.5528810024261475 2.035353183746338,-9.61395800113678 m261.1100731790066,62.324111135239946 l0.06377856247127056,0.4539914056658745 -1.684846580028534,-5.991580486297607 l-0.4409422352910042,-10.790071487426758 2.071710526943207,-7.737773060798645 l3.6422759294509888,-6.615169048309326 8.882696628570557,-9.492812156677246 l24.0014386177063,-19.85912561416626 20.05875825881958,-18.893970251083374 l10.20094633102417,-10.494410991668701 4.9706655740737915,8.38561236858368 l6.66421115398407,16.656339168548584 5.097490549087524,19.61831569671631 l0.053477948531508446,11.033480167388916 -3.4039515256881714,10.53210735321045 l-7.205327749252319,9.614890217781067 -10.960783958435059,8.39920163154602 l-16.848560571670532,7.400455474853516 -19.846078157424927,3.8994207978248596 l-21.58226251602173,2.130226790904999 -7.508440017700195,5.002346634864807 l-11.344499588012695,12.270684242248535 -2.905398905277252,3.8932040333747864 l33.37989330291748,-34.29102659225464 m-7.99937903881073,0.23575061932206154 l26.84541940689087,-27.905571460723877 12.102886438369751,-10.992574691772461 l8.644444346427917,-8.461593389511108 5.064073204994202,-6.183765530586243 m258.3746947068721,57.436390835791826 l0.19304051995277405,0.7866644859313965 -1.733442097902298,-6.364107728004456 l-0.40056146681308746,-10.735299587249756 2.210393399000168,-8.666236996650696 l4.428337514400482,-8.176212906837463 9.19942557811737,-10.455536842346191 l21.54961585998535,-18.579649925231934 19.68489170074463,-16.208195686340332 l17.670645713806152,-16.132205724716187 5.485521554946899,4.379758238792419 l4.899802207946777,14.69855785369873 5.547105073928833,19.058440923690796 l1.0706619918346405,15.463581085205078 -2.5991132855415344,10.611462593078613 l-5.788172483444214,10.029433965682983 -9.265477061271667,9.063926339149475 l-12.732322216033936,8.183438181877136 -17.270734310150146,6.236473321914673 l-19.86046075820923,2.811329960823059 -17.123453617095947,-1.5922783315181732 l-6.3570636510849,7.388054132461548 -11.455278396606445,14.422080516815186 l-4.131656885147095,5.347047448158264 -3.987380266189575,5.114097595214844 l24.96593713760376,-27.12728977203369 m7.59200394153595,-19.546245336532593 l29.68839168548584,-25.69190502166748 10.190058946609497,-8.787311911582947 l12.027487754821777,-13.224745988845825 3.8446927070617676,-4.143884181976318 l4.3641579151153564,-4.525486528873444 m245.8899648860097,70.26627704501152 l0.27635835111141205,1.0291717201471329 -1.7520271241664886,-6.653345227241516 l-0.3502378612756729,-10.57668924331665 2.3954370617866516,-9.396595358848572 l4.886374771595001,-9.52804148197174 9.612206220626831,-11.28521203994751 l19.340026378631592,-17.41636037826538 22.235381603240967,-18.267325162887573 l16.18855357170105,-13.338847160339355 10.179911851882935,-3.9422953128814697 l5.256141424179077,11.74502968788147 6.05223536491394,21.521196365356445 l0.4945720359683037,15.18375039100647 -2.490015923976898,11.680665016174316 l-4.8909518122673035,10.91015338897705 -7.461786866188049,9.6217280626297 l-10.088447332382202,8.554478883743286 -12.877626419067383,7.693442106246948 l-17.44861125946045,6.1617350578308105 -18.064788579940796,2.2894030809402466 l-17.007259130477905,-1.5966875851154327 -6.016938090324402,7.985776662826538 l-10.464721918106079,14.36098337173462 -5.068684220314026,5.990792512893677 l-2.4515289068222046,1.4794263243675232 -1.6861481964588165,-1.146233081817627 l39.67456102371216,-39.98241662979126 m-7.132662534713745,-0.7404829561710358 l28.00220489501953,-28.93129587173462 13.12543511390686,-11.462888717651367 l8.301693797111511,-6.514253616333008 6.245010495185852,-4.36167985200882 l11.921743154525757,-14.358000755310059 m-29.192509651184082,8.099401593208313 l8.833403587341309,29.909703731536865 m262.9952712729573,34.37821056693792 l0.3221685439348221,1.1563999950885773 -1.7193131148815155,-6.847606301307678 l-0.25423016399145126,-10.339512825012207 2.5491002202033997,-10.055093765258789 l5.339455604553223,-10.570456981658936 9.860191345214844,-11.96704387664795 l17.70877957344055,-16.924498081207275 20.1973557472229,-16.462788581848145 l20.931103229522705,-15.7498300075531 10.284332036972046,-4.507803022861481 l5.721113085746765,9.81680154800415 5.851147770881653,16.5868878364563 l1.1731939762830734,17.40965723991394 -2.2301945090293884,14.147089719772339 l-5.183886289596558,12.056137323379517 -7.351455092430115,10.374497175216675 l-9.384965896606445,9.107996821403503 -11.540806293487549,7.97771692276001 l-15.409395694732666,6.588321328163147 -10.616066455841064,2.79973566532135 l-16.38333559036255,1.1236517876386642 -16.14808678627014,-2.3951108753681183 l-6.45512580871582,7.82654881477356 -12.021229267120361,15.836347341537476 l-5.660245418548584,6.785593032836914 -3.433380424976349,3.0262500047683716 l-3.54979544878006,2.3607996106147766 20.520567893981934,-24.390435218811035 l21.160101890563965,-21.087791919708252 m-2.309049665927887,3.3839812874794006 l29.50181484222412,-30.203726291656494 14.214292764663696,-13.820831775665283 l10.052096843719482,-8.443913459777832 11.759340763092041,-7.929093837738037 l7.073357701301575,-4.390192627906799 m-64.49728488922119,46.91638946533203 l6.939763426780701,2.006228417158127 30.487613677978516,5.253863334655762 l7.333182096481323,-0.44590964913368225 m257.1152540203184,13.44190614297986 l0.3441823273897171,1.168714314699173 -1.6630363464355469,-6.972061991691589 l-0.13454976491630077,-9.984745383262634 2.6468199491500854,-10.484278202056885 l5.719627737998962,-11.646496057510376 10.040245056152344,-12.479674816131592 l15.663020610809326,-15.435307025909424 21.63118839263916,-18.40744137763977 l17.81578302383423,-12.596193552017212 13.585697412490845,-7.074636816978455 l7.029595971107483,7.149977684020996 5.513961315155029,14.19941782951355 l0.6035127863287926,18.353028297424316 -2.6820433139801025,15.205925703048706 l-5.181164741516113,12.874449491500854 -6.938704252243042,11.027165651321411 l-8.909037113189697,9.935960173606873 -10.205961465835571,8.103561401367188 l-14.38588261604309,7.383183836936951 -9.936121702194214,3.2440081238746643 l-15.549912452697754,1.8207159638404846 -10.462424755096436,-0.4977389797568321 l-8.304834365844727,-1.7172320187091827 -7.426339387893677,7.709519267082214 l-14.248193502426147,15.329148769378662 -7.269781231880188,7.339868545532227 l-7.498169541358948,7.4999237060546875 -1.8836326897144318,0.8781179785728455 l0.32091323286294937,-1.68269544839859 27.44412660598755,-30.25212049484253 m14.537683725357056,-18.33296775817871 l11.134122610092163,-11.0702383518219 25.02868413925171,-22.44849920272827 l11.945655345916748,-10.889501571655273 13.90202283859253,-10.843901634216309 l7.576199173927307,-5.761522650718689 9.8827463388443,-11.626896858215332 m-68.29339027404785,50.055742263793945 l7.4014681577682495,3.1595122814178467 19.914993047714233,6.561222672462463 l13.801190853118896,3.7469619512557983 m-20.29496669769287,-27.18019962310791 l25.486176013946533,4.365865886211395 m253.00348366610706,40.10356539860368 l0.3097478114068508,1.0745832324028015 -1.596011221408844,-7.0053887367248535 l0.010281512513756752,-9.529275894165039 2.7337148785591125,-10.730077028274536 l5.942991375923157,-12.761919498443604 10.07572054862976,-12.5889253616333 l14.5728600025177,-14.945762157440186 18.895606994628906,-16.576005220413208 l19.529097080230713,-14.873220920562744 13.752765655517578,-6.042209267616272 l7.657091021537781,4.8452359437942505 4.210871160030365,13.212058544158936 l0.8924926817417145,16.798540353775024 -2.2857582569122314,15.159180164337158 l-5.170187950134277,14.0996253490448 -7.409306764602661,12.656639814376831 l-8.768947124481201,10.458130836486816 -10.07053256034851,8.73632550239563 l-13.694136142730713,7.626247406005859 -9.318762421607971,3.3198824524879456 l-14.438968896865845,1.8703445792198181 -15.999743938446045,-1.8298642337322235 l-5.559621453285217,0.43202243745326996 -7.875083088874817,7.499653697013855 l-9.943518042564392,12.232595682144165 -5.679110288619995,5.9819334745407104 l-3.4303632378578186,3.516783118247986 -3.69655042886734,3.9037761092185974 l-3.9724037051200867,4.004153907299042 -1.4303481578826904,1.5972192585468292 l24.580256938934326,-28.39071035385132 m15.34712553024292,-20.984468460083008 l11.414508819580078,-12.212287187576294 16.52298331260681,-14.154428243637085 l22.910456657409668,-21.634111404418945 9.799635410308838,-8.396381139755249 l7.575434446334839,-6.905346512794495 9.216872453689575,-8.1135493516922 l1.7698197066783905,-1.6638129949569702 m-72.75837898254395,49.3641471862793 l10.746628046035767,6.323752999305725 14.315881729125977,6.883475184440613 l10.288543701171875,4.766584634780884 m-11.158733367919922,-34.1393256187439 l23.70271921157837,8.168433904647827 m-4.980281889438629,-25.46638011932373 l16.629185676574707,6.49799108505249 9.443720579147339,2.144424468278885 m238.85245034471154,51.04147858917713 l0.24408766999840736,0.8655859529972076 -1.4820259809494019,-6.966346502304077 l0.14955319464206696,-8.9816415309906 2.8909453749656677,-10.961053371429443 l6.039010286331177,-13.568418025970459 9.877862334251404,-12.662575244903564 l13.456156253814697,-14.113107919692993 17.17191219329834,-15.636500120162964 l18.916200399398804,-14.773207902908325 13.476786613464355,-5.824247598648071 l7.046843767166138,3.5836797952651978 5.641038417816162,12.421902418136597 l0.7453182339668274,15.650964975357056 -2.952028810977936,14.888314008712769 l-5.965322256088257,14.51576828956604 -8.160204291343689,13.175445795059204 l-9.438021183013916,11.174105405807495 -12.727744579315186,10.333338975906372 l-8.409385085105896,4.619339406490326 -12.933164834976196,3.942621350288391 l-9.146453142166138,0.9697634726762772 -13.022345304489136,-1.360900104045868 l-5.126238465309143,0.7148413360118866 -8.208202123641968,7.553023099899292 l-9.711304306983948,10.94417691230774 -5.127500295639038,5.5178481340408325 l-5.3833699226379395,6.4791154861450195 -5.411797761917114,6.913192272186279 l-4.686952829360962,7.231793999671936 -1.7629767954349518,3.1772372126579285 l23.047947883605957,-22.513670921325684 m15.888264179229736,-30.53626298904419 l2.6018863916397095,-3.873814344406128 14.424294233322144,-11.846760511398315 l13.368324041366577,-12.055026292800903 17.983278036117554,-13.924580812454224 l9.57330048084259,-8.619740605354309 11.99866533279419,-11.344279050827026 l6.792877912521362,-7.115883231163025 3.370000720024109,-5.341564416885376 m-75.2157974243164,51.04158878326416 l10.095683336257935,2.314057946205139 25.93740224838257,5.527670979499817 l16.04055643081665,3.466320037841797 m-28.579297065734863,-29.213006496429443 l26.023449897766113,2.751169502735138 22.689645290374756,2.673030197620392 m-28.874030113220215,-26.967790126800537 l22.80667781829834,2.791784703731537 11.601961851119995,0.04968391731381416 m-74.9174165725708,26.162109375 l-8.102138638496399,13.908576965332031 m316.51187718845904,25.54383377544582 l0.13893949799239635,0.5241101235151291 -1.3452760875225067,-6.821761131286621 l0.3138776496052742,-8.274238109588623 2.9722076654434204,-11.027225255966187 l6.404619216918945,-14.583927392959595 9.239833950996399,-12.360507249832153 l11.874301433563232,-13.024266958236694 15.684654712677002,-14.720873832702637 l18.003761768341064,-14.130157232284546 11.47939682006836,-4.333026707172394 l12.197794914245605,1.458657681941986 1.292293667793274,9.177988171577454 l-1.148991733789444,17.717832326889038 -4.22060489654541,16.814972162246704 l-5.548500418663025,13.47272276878357 -7.20653772354126,12.339468002319336 l-8.068815469741821,9.974875450134277 -12.382214069366455,10.426188707351685 l-8.370440602302551,4.757606387138367 -13.562028408050537,4.297628998756409 l-8.930043578147888,0.8876007050275803 -12.315139770507812,-1.9324935972690582 l-5.058745741844177,0.10888800956308842 -5.327622890472412,-0.07218937389552593 l-9.887363910675049,8.436967730522156 -10.923382043838501,13.069257736206055 l-3.295837640762329,5.149828791618347 -2.1484114229679108,6.010672450065613 l-0.29024137184023857,6.5238577127456665 19.41905379295349,-15.758508443832397 l7.337144613265991,-6.9511330127716064 m6.167227029800415,-20.465734004974365 l1.0389254242181778,-3.4272855520248413 10.332975387573242,-14.210939407348633 l12.81686544418335,-15.66945195198059 18.130594491958618,-18.206535577774048 l11.612776517868042,-10.824881792068481 14.941190481185913,-11.417200565338135 l7.978800535202026,-6.017441153526306 5.289978384971619,-3.3899199962615967 l0.42638763785362244,0.475691556930542 m-79.79721069335938,55.95144748687744 l9.351683259010315,6.437985301017761 13.72789740562439,7.835258841514587 l11.079230308532715,5.617441534996033 m-15.231378078460693,-33.30840349197388 l22.925045490264893,9.073017835617065 9.862500429153442,2.8944438695907593 m-11.444509029388428,-31.254267692565918 l19.772151708602905,6.510584354400635 8.581781387329102,1.6514533758163452 m-57.95577049255371,11.804232597351074 l-5.072572827339172,-9.699251651763916 -6.44083559513092,-14.04291033744812 l-0.7599198073148727,-5.817192792892456 m23.711884021759033,21.434743404388428 m293.0979537218809,55.472368970513344 l-0.018317425856366754,0.10476293973624706 -1.1896339803934097,-6.610997915267944 l0.4814019054174423,-7.376565337181091 3.11172217130661,-11.09648585319519 l6.596477627754211,-15.419450998306274 8.345593214035034,-11.747875213623047 l10.457401275634766,-12.057369947433472 14.60805892944336,-14.8177969455719 l13.598182201385498,-9.533693194389343 15.833743810653687,-7.2203826904296875 l9.082306623458862,1.2206529825925827 -2.2208546102046967,11.956954002380371 l-2.3829279839992523,16.887115240097046 -3.2346704602241516,15.58527946472168 l-4.504750967025757,11.43501877784729 -9.53686773777008,15.810894966125488 l-7.741499543190002,8.539472222328186 -11.701197624206543,8.33292007446289 l-14.727555513381958,5.785841345787048 -9.060401916503906,1.2980233132839203 l-11.709179878234863,-1.6209933161735535 -4.816716909408569,-0.5333701148629189 l-8.130930066108704,-1.7526896297931671 -2.451149821281433,-0.05890967324376106 l-2.4893751740455627,1.9005140662193298 -3.9229267835617065,6.898270845413208 l-5.807942152023315,15.79809308052063 -0.8042196184396744,5.21437406539917 m20.796170234680176,-29.90567684173584 l0.27273649349808693,-2.2867363691329956 7.2246164083480835,-10.43229341506958 l9.145267605781555,-13.319340944290161 8.697531819343567,-11.610150337219238 l9.943466186523438,-11.983203887939453 10.772969722747803,-11.956204175949097 l10.073282718658447,-10.634472370147705 9.461711049079895,-9.549181461334229 l7.310221791267395,-6.831303834915161 5.316841006278992,-4.0479737520217896 l0.7251196354627609,0.5098522827029228 m-84.13545608520508,82.83299446105957 l-6.978554129600525,11.363643407821655 -7.167171835899353,14.135503768920898 l-0.981840193271637,5.062513947486877 2.2857679426670074,5.5065613985061646 m27.18968391418457,-61.901307106018066 l-0.40207743644714355,15.326045751571655 1.494179219007492,21.001181602478027 l0.49842730164527893,4.273990094661713 m22.023348808288574,-66.18936061859131 l2.314230650663376,20.652871131896973 2.2207385301589966,13.393343687057495 m14.295216798782349,-48.787384033203125 l2.5627735257148743,20.286829471588135 1.3669058680534363,10.604369640350342 m11.359918117523193,-41.70785903930664 l0.5905453488230705,17.63252854347229 -0.3155538812279701,11.058350801467896 m12.203377485275269,-31.780107021331787 l0.1311327051371336,16.76178812980652 \" fill=\"none\" stroke=\"black\" stroke-width=\"1\"/></svg>"
      ],
      "text/plain": [
       "<IPython.core.display.SVG object>"
      ]
     },
     "metadata": {},
     "output_type": "display_data"
    }
   ],
   "source": [
    "z1 = np.squeeze(z1)\n",
    "z0 = np.squeeze(z0)\n",
    "\n",
    "interpolate_z(z0,z1)"
   ]
  },
  {
   "cell_type": "markdown",
   "metadata": {
    "id": "IPcIU4zEDoID"
   },
   "source": [
    "#### **Random Inputs**\n",
    "Since this is a Variational Autoencoder, we don't need to use an actual sketch in order to generate new sketches. We can sample randomly within the latent space and feed the result to the decoder."
   ]
  },
  {
   "cell_type": "code",
   "execution_count": 146,
   "metadata": {
    "colab": {
     "base_uri": "https://localhost:8080/",
     "height": 213
    },
    "id": "wx0gAGXNDoIE",
    "outputId": "bd0a2deb-c36f-46fa-f3ef-eebe824e9f5d",
    "scrolled": false
   },
   "outputs": [
    {
     "data": {
      "image/svg+xml": [
       "<svg baseProfile=\"full\" height=\"273.0368597060442\" version=\"1.1\" width=\"281.0300002619624\" xmlns=\"http://www.w3.org/2000/svg\" xmlns:ev=\"http://www.w3.org/2001/xml-events\" xmlns:xlink=\"http://www.w3.org/1999/xlink\"><defs/><rect fill=\"white\" height=\"273.0368597060442\" width=\"281.0300002619624\" x=\"0\" y=\"0\"/><path d=\"M67.99559354782104,213.94602067768574 m-4.4600677490234375,9.09083902835846 l-13.535525798797607,-26.421759128570557 m50.128469467163086,-20.657594203948975 l7.587981224060059,-0.4676053673028946 5.746170878410339,-6.853951811790466 l1.7230147123336792,-12.127166986465454 -0.8296088129281998,-18.1515634059906 l-3.565521538257599,-16.298096179962158 -0.6148989126086235,-13.40677261352539 l4.954012036323547,-12.182327508926392 7.906472682952881,-8.741312026977539 l40.601582527160645,-17.832578420639038 30.186026096343994,-10.186246633529663 l30.609681606292725,-7.014305591583252 6.596618294715881,-2.6955798268318176 m-0.9529323130846024,1.5770240128040314 l-13.672717809677124,12.030134201049805 -7.2684454917907715,7.82339870929718 l-3.752872347831726,12.040396928787231 -2.605193555355072,7.677822709083557 l-2.3873956501483917,6.081622242927551 -2.391016185283661,3.132002353668213 l-6.168110370635986,3.0941540002822876 -12.584580183029175,1.2260553985834122 l-20.852227210998535,-2.3606981337070465 m-11.81872010231018,-35.8024001121521 l11.78734302520752,5.413653254508972 m4.63360995054245,-11.400831937789917 l8.735815286636353,3.9757421612739563 m-7.051025629043579,-0.07143625523895025 l17.489839792251587,5.7843780517578125 \" fill=\"none\" stroke=\"black\" stroke-width=\"1\"/></svg>"
      ],
      "text/plain": [
       "<IPython.core.display.SVG object>"
      ]
     },
     "metadata": {},
     "output_type": "display_data"
    }
   ],
   "source": [
    "random_input = np.expand_dims(np.random.randn(model_params.z_size),0)\n",
    "_ = decode(random_input)"
   ]
  },
  {
   "cell_type": "code",
   "execution_count": null,
   "metadata": {
    "id": "Asg0OHtycdth"
   },
   "outputs": [],
   "source": []
  }
 ],
 "metadata": {
  "accelerator": "GPU",
  "colab": {
   "collapsed_sections": [],
   "name": "SketchGen.ipynb",
   "provenance": [],
   "toc_visible": true
  },
  "kernelspec": {
   "display_name": "Python 3",
   "language": "python",
   "name": "python3"
  },
  "language_info": {
   "codemirror_mode": {
    "name": "ipython",
    "version": 3
   },
   "file_extension": ".py",
   "mimetype": "text/x-python",
   "name": "python",
   "nbconvert_exporter": "python",
   "pygments_lexer": "ipython3",
   "version": "3.7.6"
  }
 },
 "nbformat": 4,
 "nbformat_minor": 1
}
