{
 "cells": [
  {
   "cell_type": "markdown",
   "metadata": {
    "id": "pd2Bj8kwDoHg"
   },
   "source": [
    "# **SketchGen**"
   ]
  },
  {
   "cell_type": "markdown",
   "metadata": {
    "id": "89KOMB5gmKOl"
   },
   "source": [
    "## **1.Load the folder contents**\n",
    "Use any of the below options to load the contents\n",
    "\n",
    "1. **Access through Google Drive** (preferred method to train and create weights. Weights are saved in your drive folder) \n",
    "2. **Access through GitHub** (preferred method to work on pre trained models)\n"
   ]
  },
  {
   "cell_type": "markdown",
   "metadata": {
    "id": "u-r9N7IQnauD"
   },
   "source": [
    "### **1.1 Load contents from Google Drive**\n",
    "\n"
   ]
  },
  {
   "cell_type": "markdown",
   "metadata": {
    "id": "hIjavwJFstDA"
   },
   "source": [
    "Place the SketchGen folder in your google drive and then run the below code."
   ]
  },
  {
   "cell_type": "code",
   "execution_count": null,
   "metadata": {
    "colab": {
     "base_uri": "https://localhost:8080/"
    },
    "id": "Zba1Huq8nZV4",
    "outputId": "1b5e8df7-afca-4344-b513-8f26685e1306"
   },
   "outputs": [
    {
     "name": "stdout",
     "output_type": "stream",
     "text": [
      "Mounted at /content/drive\n"
     ]
    }
   ],
   "source": [
    "from google.colab import drive\n",
    "drive.mount('/content/drive')"
   ]
  },
  {
   "cell_type": "code",
   "execution_count": null,
   "metadata": {
    "colab": {
     "base_uri": "https://localhost:8080/"
    },
    "id": "p_hOsPzQnxMW",
    "outputId": "4f58d431-91f9-4701-fae1-76adf23c5d5f"
   },
   "outputs": [
    {
     "name": "stdout",
     "output_type": "stream",
     "text": [
      "/content/drive/MyDrive/SketchGen\n"
     ]
    }
   ],
   "source": [
    "%cd drive/MyDrive/SketchGen/"
   ]
  },
  {
   "cell_type": "markdown",
   "metadata": {
    "id": "peEeoFdPowu5"
   },
   "source": [
    "### **1.2 Load contents from GitHub**"
   ]
  },
  {
   "cell_type": "markdown",
   "metadata": {
    "id": "9N6xKEA5s7Os"
   },
   "source": [
    "the folder will be uploaded from [SketchGen](https://github.com/sumanthreddy07/SketchGen)."
   ]
  },
  {
   "cell_type": "code",
   "execution_count": null,
   "metadata": {
    "id": "eUaPU9mFo9wn"
   },
   "outputs": [],
   "source": [
    "!git clone https://github.com/sumanthreddy07/SketchGen.git"
   ]
  },
  {
   "cell_type": "code",
   "execution_count": null,
   "metadata": {
    "id": "PYlJO5ilFvjW"
   },
   "outputs": [],
   "source": [
    "%cd SketchGen/"
   ]
  },
  {
   "cell_type": "markdown",
   "metadata": {
    "id": "RGWGy7PypY4F"
   },
   "source": [
    "## **2. Training the model on a dataset(s)**\n",
    "\n",
    "**NOTE: Skip this block if you are working on pre-trained models**\n",
    "\n",
    "default dataset = cat\n",
    "\n",
    "- training on a specific dataset can be made using the <code>--dataset</code> argument.\n",
    "- training multiple datasets on a single model is made by editing the hyperparameters in the seq2seqVAE.py file -> <code>'data_set': ['first_dataset','second_dataset']</code>"
   ]
  },
  {
   "cell_type": "code",
   "execution_count": 1,
   "metadata": {
    "id": "ce9xEb7LqCpo"
   },
   "outputs": [],
   "source": [
    "#Run this code block to avoid printing tensorflow logs\n",
    "import logging\n",
    "import os\n",
    "\n",
    "os.environ['TF_CPP_MIN_LOG_LEVEL'] = '3'  # FATAL\n",
    "logging.getLogger('tensorflow').setLevel(logging.FATAL)"
   ]
  },
  {
   "cell_type": "code",
   "execution_count": null,
   "metadata": {
    "colab": {
     "base_uri": "https://localhost:8080/"
    },
    "id": "3Bxw0QoqEU5X",
    "outputId": "3e9b3a80-4dcd-49b8-d02f-523dd8ddc6e6"
   },
   "outputs": [],
   "source": [
    "!python3 seq2seqVAE_train.py --data_set=cat"
   ]
  },
  {
   "cell_type": "markdown",
   "metadata": {
    "id": "QwpXkazyrdl8"
   },
   "source": [
    "## **3. Load the weights of the model and animate the results**"
   ]
  },
  {
   "cell_type": "markdown",
   "metadata": {
    "id": "8YeOONGvtJ2A"
   },
   "source": [
    "We look into the models trained using [SketchGen](https://github.com/sumanthreddy07/SketchGen). We load the models, draw random sketches presented by the model travel along the latent space and explore what our model has learned."
   ]
  },
  {
   "cell_type": "code",
   "execution_count": 1,
   "metadata": {
    "id": "XL35VyQ-DoHu"
   },
   "outputs": [],
   "source": [
    "#dataset used\n",
    "name = \"leaf\"\n",
    "#datasets directory \n",
    "data_dir  = 'datasets'\n",
    "# Path to the experiment directory that was created during training\n",
    "exp_dir = 'experiments/'+name+'/exp'\n",
    "# Checkpoint file name (assumed in checkpoints folder within exp_dir)\n",
    "weights_fname = name+\".hdf5\""
   ]
  },
  {
   "cell_type": "markdown",
   "metadata": {
    "id": "nT4VJOQOuGTS"
   },
   "source": [
    "#### **Imports**"
   ]
  },
  {
   "cell_type": "code",
   "execution_count": 2,
   "metadata": {
    "id": "4T1uv1IuDoHw"
   },
   "outputs": [],
   "source": [
    "import os\n",
    "import copy\n",
    "from utils import *\n",
    "from seq2seqVAE_train import *\n",
    "import seq2seqVAE as sketch_rnn_model\n",
    "from seq2seqVAE import sample"
   ]
  },
  {
   "cell_type": "code",
   "execution_count": 3,
   "metadata": {
    "id": "KE3QrxfWDoHx"
   },
   "outputs": [],
   "source": [
    "# libraries required for visualisation:\n",
    "from IPython.display import SVG, display\n",
    "import PIL\n",
    "from PIL import Image\n",
    "import matplotlib.pyplot as plt\n",
    "import svgwrite\n",
    "from svglib.svglib import svg2rlg\n",
    "from reportlab.graphics import renderPM\n",
    "import glob\n",
    "\n",
    "# set numpy output to something sensible\n",
    "np.set_printoptions(precision=8, edgeitems=6, linewidth=200, suppress=True)"
   ]
  },
  {
   "cell_type": "markdown",
   "metadata": {
    "id": "nT4VJOQOuGTS"
   },
   "source": [
    "- draw_strokes() function draws a SVG image from the stroke data\n",
    "- make_grid_svg() function is responsible for the 2d grid of the image\n",
    "\n",
    "- animate() function saves the list of SVG images in a folder, converts them into PNG format and creates a GIF animation. The gifs are stored in the animations folder."
   ]
  },
  {
   "cell_type": "code",
   "execution_count": 4,
   "metadata": {},
   "outputs": [],
   "source": [
    "# little function that displays vector images and saves them to .svg\n",
    "def draw_strokes(data, factor=0.05, svg_filename = 'SVG/sample.svg'):\n",
    "    \n",
    "    if not os.path.exists(os.path.dirname(svg_filename)):\n",
    "        os.makedirs(os.path.dirname(svg_filename))\n",
    "    \n",
    "    min_x, max_x, min_y, max_y = get_bounds(data, factor)\n",
    "    dims = (100 + max_x - min_x, 100 + max_y - min_y)\n",
    "    dwg = svgwrite.Drawing(svg_filename, size=dims)\n",
    "    dwg.add(dwg.rect(insert=(0, 0), size=dims,fill='white'))\n",
    "    lift_pen = 1\n",
    "    abs_x = 50 - min_x \n",
    "    abs_y = 50 - min_y\n",
    "    \n",
    "    p = \"M%s,%s \" % (abs_x, abs_y)\n",
    "    command = \"m\"\n",
    "    for i in range(len(data)):\n",
    "        if (lift_pen == 1):\n",
    "            command = \"m\"\n",
    "        elif (command != \"l\"):\n",
    "            command = \"l\"\n",
    "        else:\n",
    "            command = \"\"\n",
    "        x = float(data[i,0])/factor\n",
    "        y = float(data[i,1])/factor\n",
    "        lift_pen = data[i, 2]\n",
    "        p += command+str(x)+\",\"+str(y)+\" \"\n",
    "    the_color = \"black\"\n",
    "    stroke_width = 1\n",
    "    dwg.add(dwg.path(p).stroke(the_color,stroke_width).fill(\"none\"))\n",
    "    dwg.save()\n",
    "    display(SVG(dwg.tostring()))\n",
    "\n",
    "# generate a 2D grid of many vector drawings\n",
    "def make_grid_svg(s_list, grid_space=10.0, grid_space_x=16.0):\n",
    "    def get_start_and_end(x):\n",
    "        x = np.array(x)\n",
    "        x = x[:, 0:2]\n",
    "        x_start = x[0]\n",
    "        x_end = x.sum(axis=0)\n",
    "        x = x.cumsum(axis=0)\n",
    "        x_max = x.max(axis=0)\n",
    "        x_min = x.min(axis=0)\n",
    "        center_loc = (x_max+x_min)*0.5\n",
    "        return x_start-center_loc, x_end\n",
    "    x_pos = 0.0\n",
    "    y_pos = 0.0\n",
    "    result = [[x_pos, y_pos, 1]]\n",
    "    for sample in s_list:\n",
    "        s = sample[0]\n",
    "        grid_loc = sample[1]\n",
    "        grid_y = grid_loc[0]*grid_space+grid_space*0.5\n",
    "        grid_x = grid_loc[1]*grid_space_x+grid_space_x*0.5\n",
    "        start_loc, delta_pos = get_start_and_end(s)\n",
    "    \n",
    "        loc_x = start_loc[0]\n",
    "        loc_y = start_loc[1]\n",
    "        new_x_pos = grid_x+loc_x\n",
    "        new_y_pos = grid_y+loc_y\n",
    "        result.append([new_x_pos-x_pos, new_y_pos-y_pos, 0])\n",
    "    \n",
    "        result += s.tolist()\n",
    "        result[-1][2] = 1\n",
    "        x_pos = new_x_pos+delta_pos[0]\n",
    "        y_pos = new_y_pos+delta_pos[1]\n",
    "    return np.array(result)"
   ]
  },
  {
   "cell_type": "code",
   "execution_count": 5,
   "metadata": {},
   "outputs": [],
   "source": [
    "def animate(data,name,factor=0.05,svg_filename='SVG/animate',animation_folder = 'animations/animation'):\n",
    "    \n",
    "    if os.path.exists(os.path.dirname(svg_filename)):\n",
    "        files = glob.glob('SVG/*')\n",
    "        for f in files:\n",
    "            os.remove(f)\n",
    "    else:\n",
    "        os.makedirs(os.path.dirname(svg_filename))\n",
    "\n",
    "    if not os.path.exists(os.path.dirname(animation_folder)):\n",
    "        os.makedirs(os.path.dirname(animation_folder))\n",
    "\n",
    "    min_x, max_x, min_y, max_y = get_bounds(data, factor)\n",
    "    dims = (100 + max_x - min_x, 100 + max_y - min_y)\n",
    "    dwg = svgwrite.Drawing(svg_filename, size=dims)\n",
    "    dwg.add(dwg.rect(insert=(0, 0), size=dims,fill='white'))\n",
    "    lift_pen = 1\n",
    "    abs_x = 50 - min_x \n",
    "    abs_y = 50 - min_y\n",
    "    \n",
    "    the_color = \"black\"\n",
    "    stroke_width = 4\n",
    "    p = \"M%s,%s \" % (abs_x, abs_y)\n",
    "    command = \"m\"\n",
    "    \n",
    "    for i in range(len(data)):\n",
    "        if (lift_pen == 1):\n",
    "            command = \"m\"\n",
    "        elif (command != \"l\"):\n",
    "            command = \"l\"\n",
    "        else:\n",
    "            command = \"\"\n",
    "        x = float(data[i,0])/factor\n",
    "        y = float(data[i,1])/factor\n",
    "        lift_pen = data[i, 2]\n",
    "\n",
    "        p += command+str(x)+\",\"+str(y)+\" \"\n",
    "        dwg = svgwrite.Drawing(svg_filename+str(i)+'.svg', size=dims)\n",
    "        dwg.add(dwg.rect(insert=(0, 0), size=dims,fill='white'))\n",
    "        dwg.add(dwg.path(p).stroke(the_color,stroke_width).fill(\"none\"))\n",
    "        dwg.save()\n",
    "        drawing = svg2rlg(svg_filename+str(i)+'.svg')\n",
    "        renderPM.drawToFile(drawing,svg_filename+str(i)+'.png', fmt=\"PNG\")\n",
    "        os.remove(svg_filename+str(i)+'.svg')\n",
    "        \n",
    "    dwg = svgwrite.Drawing(svg_filename+str(len(data))+'.svg', size=dims)\n",
    "    dwg.add(dwg.rect(insert=(0, 0), size=dims,fill='white'))\n",
    "    dwg.add(dwg.path(p).stroke(the_color,stroke_width).fill(\"none\"))\n",
    "    #display(SVG(dwg.tostring()))\n",
    "    dwg.save()\n",
    "    drawing = svg2rlg(svg_filename+str(len(data))+'.svg')\n",
    "    renderPM.drawToFile(drawing,svg_filename+str(len(data))+'.png', fmt=\"PNG\")\n",
    "    os.remove(svg_filename+str(len(data))+'.svg')\n",
    "    \n",
    "    # Create the frames\n",
    "    frames = []\n",
    "    for i in range(len(data)+1):\n",
    "        new_frame = Image.open(svg_filename+str(i)+\".png\")\n",
    "        frames.append(new_frame)\n",
    "     \n",
    "    #Save into a GIF file that loops forever\n",
    "    count = 0\n",
    "    animation_path = animation_folder+'_'+name\n",
    "    while os.path.exists(animation_path+str(count)+\".gif\"):\n",
    "        count += 1\n",
    "    animation_path = animation_path+str(count)+\".gif\"\n",
    "\n",
    "    frames[0].save(animation_path, format='GIF',append_images=frames[1:],\n",
    "                save_all=True, duration=150, loop=0)"
   ]
  },
  {
   "cell_type": "markdown",
   "metadata": {
    "id": "ApWA5dbHDoH1"
   },
   "source": [
    "#### **Load Data**"
   ]
  },
  {
   "cell_type": "code",
   "execution_count": 6,
   "metadata": {
    "colab": {
     "base_uri": "https://localhost:8080/"
    },
    "id": "O1qoQ5BeDoH1",
    "outputId": "f2638be5-4b76-444a-8655-a9a51df2b19f"
   },
   "outputs": [
    {
     "name": "stdout",
     "output_type": "stream",
     "text": [
      "Loaded 108285/2500/2500 from leaf.npz\n",
      "Dataset combined: 113285 (108285/2500/2500), avg len 38\n",
      "model_params.max_seq_len: 74\n",
      "total images <= max_seq_len is 108285\n",
      "total images <= max_seq_len is 2500\n",
      "total images <= max_seq_len is 2500\n"
     ]
    }
   ],
   "source": [
    "with open(os.path.join(exp_dir,'logs', 'model_config.json'), 'r') as f:\n",
    "    model_params = json.load(f)\n",
    "model_params = DotDict(model_params)   \n",
    "[train_set, valid_set, test_set, hps_model] = load_dataset(data_dir, model_params)"
   ]
  },
  {
   "cell_type": "markdown",
   "metadata": {
    "id": "jrrAK-RHDoH4"
   },
   "source": [
    "#### **Building a Seq2seq Variational Autoencoder model**"
   ]
  },
  {
   "cell_type": "code",
   "execution_count": 7,
   "metadata": {
    "colab": {
     "base_uri": "https://localhost:8080/"
    },
    "id": "EU1avfq8DoH4",
    "outputId": "30e60ea7-f0e7-419f-d75e-13172c540e28"
   },
   "outputs": [
    {
     "name": "stdout",
     "output_type": "stream",
     "text": [
      "Model: \"model\"\n",
      "__________________________________________________________________________________________________\n",
      "Layer (type)                    Output Shape         Param #     Connected to                     \n",
      "==================================================================================================\n",
      "encoder_input (InputLayer)      [(None, 74, 5)]      0                                            \n",
      "__________________________________________________________________________________________________\n",
      "bidirectional (Bidirectional)   (None, 512)          536576      encoder_input[0][0]              \n",
      "__________________________________________________________________________________________________\n",
      "dense (Dense)                   (None, 128)          65664       bidirectional[0][0]              \n",
      "__________________________________________________________________________________________________\n",
      "dense_1 (Dense)                 (None, 128)          65664       bidirectional[0][0]              \n",
      "__________________________________________________________________________________________________\n",
      "lambda (Lambda)                 (None, 128)          0           dense[0][0]                      \n",
      "                                                                 dense_1[0][0]                    \n",
      "__________________________________________________________________________________________________\n",
      "decoder_input (InputLayer)      [(None, 74, 5)]      0                                            \n",
      "__________________________________________________________________________________________________\n",
      "repeat_vector (RepeatVector)    (None, 74, 128)      0           lambda[0][0]                     \n",
      "__________________________________________________________________________________________________\n",
      "dec_initial_state (Dense)       (None, 1024)         132096      lambda[0][0]                     \n",
      "__________________________________________________________________________________________________\n",
      "concatenate (Concatenate)       (None, 74, 133)      0           decoder_input[0][0]              \n",
      "                                                                 repeat_vector[0][0]              \n",
      "__________________________________________________________________________________________________\n",
      "tf_op_layer_strided_slice (Tens [(None, 512)]        0           dec_initial_state[0][0]          \n",
      "__________________________________________________________________________________________________\n",
      "tf_op_layer_strided_slice_1 (Te [(None, 512)]        0           dec_initial_state[0][0]          \n",
      "__________________________________________________________________________________________________\n",
      "lstm_1 (LSTM)                   [(None, 74, 512), (N 1323008     concatenate[0][0]                \n",
      "                                                                 tf_op_layer_strided_slice[0][0]  \n",
      "                                                                 tf_op_layer_strided_slice_1[0][0]\n",
      "__________________________________________________________________________________________________\n",
      "output (Dense)                  (None, 74, 123)      63099       lstm_1[0][0]                     \n",
      "==================================================================================================\n",
      "Total params: 2,186,107\n",
      "Trainable params: 2,186,107\n",
      "Non-trainable params: 0\n",
      "__________________________________________________________________________________________________\n",
      "Weights from experiments/leaf/exp/checkpoints/leaf.hdf5 loaded successfully\n",
      "Created Sub Models!\n"
     ]
    }
   ],
   "source": [
    "weights = os.path.join(exp_dir,'checkpoints',weights_fname) # checkpoint path\n",
    "seq2seq = Seq2seqModel(model_params)  # build model\n",
    "seq2seq.load_trained_weights(weights) # load checkpoint\n",
    "seq2seq.make_sampling_models()  # build sub models that are used to infuse inputs and probe values of intermediate layers"
   ]
  },
  {
   "cell_type": "code",
   "execution_count": 8,
   "metadata": {
    "id": "agCa0XRMDoH5"
   },
   "outputs": [],
   "source": [
    "# Function for encoding input and retrieving latent vector\n",
    "def encode(input_strokes, draw=False):\n",
    "    strokes = to_big_strokes(input_strokes, max_len=model_params['max_seq_len']-1).tolist()\n",
    "    strokes.insert(0, [0, 0, 1, 0, 0])\n",
    "    seq_len = [len(input_strokes)]\n",
    "    if draw:\n",
    "        draw_strokes(to_normal_strokes(np.array(strokes)))\n",
    "    strokes = np.expand_dims(strokes, axis=0)\n",
    "    return seq2seq.sample_models['encoder_model'].predict(strokes)\n"
   ]
  },
  {
   "cell_type": "code",
   "execution_count": 9,
   "metadata": {
    "id": "YD89hno3DoH6"
   },
   "outputs": [],
   "source": [
    "# Function for decoding a latent space factor into a sketch\n",
    "def decode(z_input=None, draw_mode=True, temperature=0.1, factor=0.05):\n",
    "    z = None\n",
    "    if z_input is not None:\n",
    "        z = z_input\n",
    "    sample_strokes, m = sample(seq2seq, seq_len=model_params.max_seq_len, temperature=temperature, z=z)\n",
    "    strokes = to_normal_strokes(sample_strokes)\n",
    "    if draw_mode:\n",
    "        draw_strokes(strokes, factor)\n",
    "    return strokes"
   ]
  },
  {
   "cell_type": "markdown",
   "metadata": {
    "id": "oM4hdFk2DoH7"
   },
   "source": [
    "#### **Load a random sketch from the test dataset**"
   ]
  },
  {
   "cell_type": "code",
   "execution_count": 103,
   "metadata": {
    "colab": {
     "base_uri": "https://localhost:8080/",
     "height": 403
    },
    "id": "V_bDCa2EDoH7",
    "outputId": "2663993a-6af9-4232-fd95-54ccf3e55250",
    "scrolled": false
   },
   "outputs": [
    {
     "data": {
      "image/svg+xml": [
       "<svg baseProfile=\"full\" height=\"228.53419661521912\" version=\"1.1\" width=\"147.7634620666504\" xmlns=\"http://www.w3.org/2000/svg\" xmlns:ev=\"http://www.w3.org/2001/xml-events\" xmlns:xlink=\"http://www.w3.org/1999/xlink\"><defs/><rect fill=\"white\" height=\"228.53419661521912\" width=\"147.7634620666504\" x=\"0\" y=\"0\"/><path d=\"M56.60145416855812,178.53419661521912 m0.0,-6.601454019546509 l5.824812650680542,-20.58100461959839 17.474437952041626,-50.09338855743408 l5.436491966247559,-22.5226092338562 m-26.017496585845947,66.40286445617676 l2.7182459831237793,2.7182459831237793 -6.213133335113525,-12.42626667022705 l-5.436491966247559,-21.357645988464355 -0.38832083344459534,-12.814587354660034 l1.9416041672229767,-8.543058633804321 2.329925000667572,-4.271529316902161 l7.766416668891907,-7.766416668891907 16.30947470664978,-8.543058633804321 l12.814587354660034,-9.319700002670288 6.213133335113525,-12.814587354660034 l0.38832083344459534,2.329925000667572 -4.271529316902161,33.00727128982544 l0.0,20.58100461959839 2.329925000667572,23.687570095062256 l-1.164962500333786,12.814587354660034 -4.659850001335144,10.872983932495117 l-3.1065666675567627,4.271529316902161 -6.213133335113525,4.659850001335144 l-7.766416668891907,1.5532833337783813 -7.378095984458923,-3.8832083344459534 m11.2613046169281,-41.16200923919678 l5.436491966247559,-6.98977530002594 13.591228723526001,-11.649625301361084 m-26.794137954711914,37.66712188720703 l20.19268274307251,-13.591228723526001 m-21.745967864990234,13.97955060005188 l-2.329925000667572,-17.086117267608643 -7.378095984458923,-22.91092872619629 m23.687570095062256,16.69779658317566 l-10.872983932495117,-40.7736873626709 \" fill=\"none\" stroke=\"black\" stroke-width=\"1\"/></svg>"
      ],
      "text/plain": [
       "<IPython.core.display.SVG object>"
      ]
     },
     "metadata": {},
     "output_type": "display_data"
    }
   ],
   "source": [
    "stroke = test_set.random_sample()\n",
    "draw_strokes(stroke)"
   ]
  },
  {
   "cell_type": "code",
   "execution_count": 104,
   "metadata": {
    "id": "LKZ6v3dPDoH-"
   },
   "outputs": [],
   "source": [
    "z = encode(stroke)"
   ]
  },
  {
   "cell_type": "code",
   "execution_count": 111,
   "metadata": {
    "colab": {
     "base_uri": "https://localhost:8080/",
     "height": 362
    },
    "id": "pVq-aWUaDoH_",
    "outputId": "b2ff46ca-fe87-42ae-c058-83b6463c768e"
   },
   "outputs": [
    {
     "data": {
      "image/svg+xml": [
       "<svg baseProfile=\"full\" height=\"217.27840648964047\" version=\"1.1\" width=\"154.31383406743407\" xmlns=\"http://www.w3.org/2000/svg\" xmlns:ev=\"http://www.w3.org/2001/xml-events\" xmlns:xlink=\"http://www.w3.org/1999/xlink\"><defs/><rect fill=\"white\" height=\"217.27840648964047\" width=\"154.31383406743407\" x=\"0\" y=\"0\"/><path d=\"M62.629150031134486,167.27840648964047 m0.08904085494577885,-0.09079622104763985 l-0.22924009710550308,-6.5498656034469604 5.147508382797241,-20.575761795043945 l14.504297971725464,-53.44552993774414 15.293811559677124,-21.44002676010132 m-31.660678386688232,82.82757759094238 l-8.478199243545532,-7.275900840759277 -4.800586402416229,-9.776715636253357 l-2.495104670524597,-13.449618816375732 1.0910949856042862,-13.114027976989746 l4.081823527812958,-10.051952600479126 4.842822551727295,-6.885107755661011 l11.540977954864502,-11.112293004989624 9.145949482917786,-7.4092793464660645 l7.174578309059143,-5.57310163974762 12.338875532150269,-13.356006145477295 l-0.21067636087536812,6.944236755371094 3.5831695795059204,38.128559589385986 l0.7252185046672821,17.732830047607422 -1.7538176476955414,17.51600742340088 l-3.475363254547119,10.217093229293823 -4.414328634738922,6.924731135368347 l-6.0998135805130005,5.600524544715881 -10.60099482536316,5.62812864780426 l-5.597735047340393,1.0279055684804916 -5.182391405105591,-2.605082094669342 m10.483421087265015,-45.285024642944336 l6.5233612060546875,-8.815657496452332 11.488344669342041,-10.22026538848877 m-17.223498821258545,23.263065814971924 l15.755175352096558,-9.011515974998474 m-16.469537019729614,17.055795192718506 l15.85557222366333,-4.023629128932953 6.448941230773926,-2.56374329328537 m-24.80241060256958,-11.256623268127441 l-3.786689043045044,-25.704386234283447 \" fill=\"none\" stroke=\"black\" stroke-width=\"1\"/></svg>"
      ],
      "text/plain": [
       "<IPython.core.display.SVG object>"
      ]
     },
     "metadata": {},
     "output_type": "display_data"
    }
   ],
   "source": [
    "x = decode(z, temperature=0.5)"
   ]
  },
  {
   "cell_type": "code",
   "execution_count": 112,
   "metadata": {
    "id": "2ecj-iA5OVH6"
   },
   "outputs": [],
   "source": [
    "animate(x,name)"
   ]
  },
  {
   "cell_type": "markdown",
   "metadata": {
    "id": "r5rysK8sDoIA"
   },
   "source": [
    "#### **Temperature of the outputs**\n",
    "The temperature variable controls the level of randomness we would like our samples to have during the sampling (equation 8 of the sketch-rnn [paper](https://arxiv.org/pdf/1704.03477.pdf)).\n",
    "\n",
    "Let's decode our model output using varying temperature values between 0.1 and 1 and see how 'creative' our model can get"
   ]
  },
  {
   "cell_type": "code",
   "execution_count": 113,
   "metadata": {
    "colab": {
     "base_uri": "https://localhost:8080/",
     "height": 447
    },
    "id": "WTgs0dhrDoIA",
    "outputId": "5a18a482-ec56-4f5d-8f34-09659a2d05d3",
    "scrolled": true
   },
   "outputs": [
    {
     "data": {
      "image/svg+xml": [
       "<svg baseProfile=\"full\" height=\"271.2432322651148\" version=\"1.1\" width=\"3169.3154350155964\" xmlns=\"http://www.w3.org/2000/svg\" xmlns:ev=\"http://www.w3.org/2001/xml-events\" xmlns:xlink=\"http://www.w3.org/1999/xlink\"><defs/><rect fill=\"white\" height=\"271.2432322651148\" width=\"3169.3154350155964\" x=\"0\" y=\"0\"/><path d=\"M50,50 m0.0,0.0 m143.6582969687879,161.55244424939156 l0.05569275002926588,-0.06660067476332188 -0.28303975239396095,-6.544055938720703 l5.288923382759094,-20.474791526794434 15.401942729949951,-54.928154945373535 l12.269222736358643,-19.012726545333862 m-27.657439708709717,75.89003562927246 l-5.960181355476379,-4.700250923633575 -5.500656366348267,-10.02318263053894 l-3.816792666912079,-16.179730892181396 0.6452218443155289,-12.250680923461914 l3.4446343779563904,-8.787581324577332 6.000682711601257,-8.30906629562378 l7.665650844573975,-7.232768535614014 8.767880201339722,-6.490157246589661 l16.221754550933838,-13.167937994003296 6.84276819229126,-10.89383840560913 l-2.42264986038208,12.276612520217896 1.5606868267059326,23.542516231536865 l4.472818374633789,29.661505222320557 -0.733969509601593,15.262724161148071 l-3.991062045097351,11.715062856674194 -6.06636643409729,8.813557028770447 l-8.647592663764954,6.975928544998169 -9.72369134426117,3.612014949321747 l-5.145323872566223,-0.04150388762354851 -2.1626536548137665,-2.272854447364807 m13.061500787734985,-42.79954433441162 l10.342025756835938,-8.792109489440918 10.377087593078613,-9.143293499946594 m-22.24940776824951,16.23550534248352 l-7.531827092170715,-18.108562231063843 m6.1202263832092285,27.894675731658936 l17.81848907470703,-5.662711262702942 m-25.59389591217041,19.623769521713257 l-5.957406163215637,-13.923014402389526 -2.733474373817444,-5.981393456459045 m318.9226392703131,53.00043231807649 l0.0428652111440897,-0.057051703333854675 -0.2822207286953926,-6.548115015029907 l5.321936011314392,-20.587177276611328 16.55815601348877,-56.8889856338501 l10.292633771896362,-16.18325114250183 m-26.583187580108643,75.97856998443604 l-6.59376323223114,-6.32679283618927 -7.2557079792022705,-14.99200701713562 l-1.4403146505355835,-9.957830309867859 0.877530500292778,-12.301037311553955 l3.4448403120040894,-9.324252009391785 3.560227155685425,-5.916288495063782 l6.712159514427185,-7.2905731201171875 17.64243721961975,-13.190838098526001 l7.497542500495911,-7.152620553970337 7.099398970603943,-9.859346151351929 l-1.2178685516119003,13.293380737304688 2.4692147970199585,23.20274829864502 l3.869163990020752,30.71291446685791 -1.1708685010671616,14.969727993011475 l-4.312266409397125,11.33482813835144 -7.126811146736145,8.873279690742493 l-8.907915949821472,5.644221305847168 -6.427600383758545,1.502130776643753 l-4.007388949394226,-0.9616578370332718 -1.8028657138347626,-3.104686439037323 m10.297086238861084,-41.51115417480469 l-1.5444594621658325,-14.081133604049683 -3.10990571975708,-15.579448938369751 m8.595104217529297,31.282742023468018 l22.006752490997314,-12.296502590179443 m-25.347628593444824,22.41309404373169 l-8.260825872421265,-16.72861337661743 -2.8280192613601685,-8.63509714603424 m11.174426078796387,40.17035961151123 l24.333343505859375,-8.421689867973328 m276.4479748066515,37.78608366847038 l0.03611833089962602,-0.0481945788487792 -0.28204092755913734,-6.48539125919342 l5.265733003616333,-20.32982349395752 17.298847436904907,-56.487460136413574 l10.102897882461548,-18.240435123443604 m-25.870931148529053,75.2018690109253 l-5.939499735832214,-5.2652907371521 -7.427361011505127,-13.387595415115356 l-1.8583808839321136,-11.297314167022705 0.6130721420049667,-13.170360326766968 l2.1143710613250732,-6.914806365966797 6.149340867996216,-10.14782428741455 l8.459770679473877,-8.553394079208374 8.514084815979004,-6.005565524101257 l15.834336280822754,-13.714234828948975 4.583600163459778,-4.278778433799744 l1.0001377761363983,4.235645234584808 0.612565316259861,37.15661287307739 l2.2977301478385925,23.692290782928467 0.45370716601610184,15.115052461624146 l-3.543301224708557,9.956496953964233 -5.781800746917725,7.478314638137817 l-7.0272767543792725,5.184355974197388 -10.645561218261719,3.238663673400879 l-3.248337507247925,-0.6691333651542664 -2.6138481497764587,-5.3926825523376465 m6.035561561584473,-14.067448377609253 l8.036978244781494,-41.466126441955566 1.6239157319068909,-11.07047438621521 m-0.34204844385385513,23.63921880722046 l14.773372411727905,-5.646949410438538 m-20.105056762695312,18.824710845947266 l19.7041916847229,0.10438468307256699 4.354186654090881,0.265514999628067 m-24.952354431152344,-11.721774339675903 l-8.888563513755798,-15.857150554656982 m313.331462868955,75.66324168350548 l0.081724738702178,-0.018578640883788466 -0.23596230894327164,-6.60676896572113 l5.411338806152344,-20.257160663604736 13.556478023529053,-55.10500431060791 l16.26401424407959,-20.537471771240234 m-33.00762176513672,75.8522367477417 l-5.804345607757568,-2.6759111881256104 -6.167636513710022,-9.633686542510986 l-3.2906731963157654,-16.131699085235596 1.3568852841854095,-13.09557318687439 l3.2280781865119934,-7.779049277305603 7.019298076629639,-9.7554349899292 l7.552684545516968,-7.062884569168091 8.717346787452698,-6.151025295257568 l12.074414491653442,-6.996332406997681 10.411171913146973,-12.216968536376953 l-2.6527923345565796,9.578929543495178 4.35373842716217,21.07818603515625 l1.7070084810256958,39.2731499671936 -1.9759242236614227,13.571053743362427 l-3.7582772970199585,10.832154750823975 -4.042068123817444,7.126626372337341 l-3.261067271232605,2.9016494750976562 -11.375377178192139,1.9523653388023376 l-4.093429446220398,-1.7603394389152527 -4.807677865028381,-6.50932252407074 m15.310429334640503,-34.26752328872681 l1.7721472680568695,-15.31517744064331 -0.2861550450325012,-22.704663276672363 m-3.3595818281173706,38.26629161834717 l21.750946044921875,-12.240979671478271 m-23.99984121322632,23.733539581298828 l-3.921138644218445,-16.98475956916809 -1.9348232448101044,-9.339077472686768 m1.9472914934158325,33.996288776397705 l18.49328875541687,-7.465503811836243 m283.52833478711545,44.00733935064636 l0.04108528606593609,0.02528479089960456 -0.2033376693725586,-6.682549715042114 l5.356377959251404,-20.365431308746338 16.486525535583496,-60.95540523529053 l11.03767991065979,-12.650395631790161 m-24.9638032913208,77.6136827468872 l-7.063931822776794,-7.795055508613586 -9.33711290359497,-17.470911741256714 l-0.8303418755531311,-9.991927146911621 0.4078853130340576,-9.800070524215698 l3.9097556471824646,-9.493334889411926 5.4550206661224365,-8.27758252620697 l7.775982618331909,-7.731543183326721 11.534903049468994,-9.050812721252441 l11.058311462402344,-8.84347140789032 7.405608892440796,-9.775756001472473 l-0.6053197756409645,13.797202110290527 0.5077692121267319,11.822596788406372 l4.935885667800903,45.399088859558105 -1.3020582497119904,17.236286401748657 l-3.3289238810539246,9.464519023895264 -3.4696313738822937,4.579672813415527 l-8.856710195541382,4.393414556980133 -6.764817833900452,0.6349301338195801 l-5.6862872838974,-1.8179795145988464 -4.563106000423431,-4.347704648971558 m5.252066254615784,-4.9447062611579895 l11.651501655578613,-44.447784423828125 10.501488447189331,-32.65953779220581 m-10.592477321624756,43.17373752593994 l13.905116319656372,-6.370518207550049 5.872453451156616,-1.253117024898529 m-29.541025161743164,28.415977954864502 l28.956327438354492,0.03602917538955808 m-32.46324300765991,19.04017686843872 l18.823623657226562,-0.7070931047201157 m289.6246338542551,19.038653140887618 l0.10704255662858486,-0.13905223459005356 -0.2664458192884922,-6.3718390464782715 l5.342856049537659,-20.74761152267456 16.884241104125977,-58.28373432159424 l9.271418452262878,-11.36231541633606 m-24.611644744873047,77.67884731292725 l-3.9997392892837524,-8.561568260192871 -9.491933584213257,-17.430012226104736 l-2.291537821292877,-8.820456862449646 0.34247253090143204,-11.538547277450562 l4.325321614742279,-9.494403600692749 4.31407243013382,-7.867429852485657 l4.430750906467438,-5.687206387519836 10.89017391204834,-9.644871354103088 l18.380812406539917,-13.991190195083618 6.021663546562195,-7.625354528427124 l-1.0354211926460266,15.821797847747803 -0.4926364868879318,20.706045627593994 l2.9141902923583984,25.47706127166748 -1.3004158437252045,25.568692684173584 l-2.312593162059784,7.09685742855072 -4.644973278045654,5.791455507278442 l-7.90640652179718,6.7442649602890015 -8.797816634178162,3.3728471398353577 l-9.12151575088501,-0.15568891540169716 -2.0575346052646637,-5.89042603969574 m21.088051795959473,-48.06957244873047 l-2.3582082986831665,-2.6420482993125916 -4.845713376998901,-13.720240592956543 m9.73339319229126,26.34026050567627 l14.870682954788208,-8.286373615264893 m-22.01179265975952,29.41121816635132 l-6.566141843795776,-17.47198462486267 -2.5456801056861877,-8.53476881980896 m1.1383920907974243,46.74604892730713 l18.37194323539734,-15.959863662719727 m283.35818056948483,38.910548221319914 l0.03973908256739378,-0.06553543731570244 -0.28085242956876755,-6.56366229057312 l5.5294716358184814,-21.01846218109131 18.958017826080322,-60.65868854522705 l0.3229581192135811,2.5930893421173096 m-17.700520753860474,62.472758293151855 l0.1952187530696392,-46.58813953399658 -5.304986834526062,-7.137556076049805 l-3.2094746828079224,-1.9418363273143768 -2.515120506286621,-1.1491581797599792 l-0.8864407241344452,-4.1584667563438416 0.45548640191555023,-4.284174144268036 l13.491061925888062,-12.788755893707275 13.047915697097778,-13.859912157058716 l9.594564437866211,-10.787438154220581 7.380799651145935,-16.61606192588806 l0.3357548266649246,18.601213693618774 3.4684866666793823,28.223180770874023 l4.289699196815491,20.486810207366943 -1.3750295341014862,16.996445655822754 l-5.784355998039246,14.657635688781738 -6.7112308740615845,9.045008420944214 l-6.98908269405365,5.876854062080383 -6.770985722541809,2.346455752849579 l-7.367561459541321,-0.33811159431934357 -2.681492567062378,-2.2489845752716064 m-2.895234227180481,-8.918787240982056 l17.39275574684143,-45.00431537628174 2.7290573716163635,-13.036266565322876 m-8.265390396118164,14.056777954101562 l17.87038803100586,-2.763100564479828 m-25.14441967010498,18.222230672836304 l25.727555751800537,-2.6018980145454407 11.842478513717651,-2.7323192358016968 m-36.76494598388672,21.74703359603882 l35.59389352798462,0.8535418659448624 m278.4047599323094,33.271772768348455 l0.020259672310203314,-0.1943393424153328 -0.34412931650877,-6.619539260864258 l5.389491319656372,-20.783140659332275 15.38852572441101,-53.4184455871582 l12.788083553314209,-23.75159740447998 m-28.88056755065918,87.1986198425293 l-10.670245885848999,-7.937536239624023 -4.422498345375061,-8.902655839920044 l-2.087211310863495,-12.490066289901733 0.448843315243721,-10.836386680603027 l3.9574694633483887,-14.58228349685669 3.6462873220443726,-7.415922284126282 l7.496209740638733,-9.466318488121033 6.862303614616394,-5.514938831329346 l11.342517137527466,-6.624520421028137 16.084463596343994,-9.720088839530945 l1.1671513319015503,2.246668189764023 -1.486818790435791,19.32282328605652 l0.14249620027840137,38.390772342681885 -1.1110132932662964,9.802501201629639 l-2.9970309138298035,21.330559253692627 -0.9509796649217606,5.199081897735596 l-4.012802243232727,8.66705596446991 -15.826833248138428,0.7298321276903152 l-2.5938954949378967,-3.0077895522117615 1.5461143851280212,-4.12845253944397 m1.3625435531139374,-12.710024118423462 l-3.735406994819641,-31.092092990875244 0.38103871047496796,-12.108616828918457 m12.37667441368103,21.436753273010254 l-6.220390796661377,-19.24418330192566 m12.17824101448059,-3.941221237182617 l-1.7163477838039398,-25.403165817260742 m12.961558103561401,13.457130193710327 l0.9616047143936157,-5.041094422340393 5.224992036819458,-10.126473903656006 m280.3010928421281,90.93759158626199 l-0.03598631825298071,-0.0813039019703865 -0.342148095369339,-6.659497022628784 l5.099530816078186,-20.17728567123413 11.450728178024292,-47.5090217590332 l17.051777839660645,-22.780842781066895 m-33.71441125869751,68.56048107147217 l-7.359406352043152,-4.226103127002716 -3.488413095474243,-6.7229074239730835 l-2.0622946321964264,-11.114856004714966 -0.8251548558473587,-16.605589389801025 l4.3583521246910095,-11.047276258468628 1.6700856387615204,-4.5920029282569885 l5.713716149330139,-5.988978147506714 26.592724323272705,-14.058593511581421 l7.910882830619812,-9.369481801986694 0.6037269532680511,3.2089555263519287 l0.6038676202297211,6.1143070459365845 0.35301152616739273,13.170160055160522 l2.4415212869644165,35.03981828689575 -0.1096794568002224,29.564847946166992 l-1.6662181913852692,10.110993385314941 -2.446313798427582,4.761621952056885 l-8.810200095176697,7.1566832065582275 -15.633642673492432,4.250846803188324 l-5.785413980484009,-0.31494464725255966 -0.1505657099187374,-2.3512975871562958 m14.720408916473389,-27.809569835662842 l5.808045864105225,-13.561913967132568 11.400058269500732,-18.981930017471313 m-7.840544581413269,7.845205068588257 l-4.356716275215149,-7.031605839729309 m0.07854067720472813,14.647895097732544 l11.862732172012329,-3.6000090837478638 m-28.774101734161377,-1.4152704179286957 l-3.118564486503601,-7.819246053695679 m-4.834500849246979,73.41655254364014 m316.2931449757889,-10.305960203986615 l0.0613010348752141,0.08391626179218292 -0.27214664965867996,-6.279028654098511 l5.319278240203857,-20.75124979019165 13.781085014343262,-53.20096015930176 l15.589494705200195,-24.995920658111572 m-30.99531650543213,85.85347175598145 l-6.1775147914886475,0.05049088504165411 -2.653416097164154,-3.996809720993042 l-5.570024847984314,-18.18181037902832 0.04671374335885048,-17.71443486213684 l4.833846092224121,-12.281705141067505 6.594833731651306,-10.20792841911316 l5.004290342330933,-5.225077271461487 8.776488304138184,-4.285323917865753 l17.446563243865967,-4.277676045894623 8.520619869232178,-3.319365084171295 l1.814492791891098,-6.814243793487549 -0.7651420682668686,5.143900513648987 l-0.7118871062994003,45.91847896575928 0.8200247585773468,27.894728183746338 l-0.1923447661101818,13.715050220489502 -2.0862096548080444,4.332829415798187 l-7.541738152503967,4.836607873439789 -7.692381739616394,0.14676117338240147 l-8.173627853393555,-5.404766798019409 -5.9962040185928345,-2.3390647768974304 l-4.330185353755951,-4.729249179363251 m4.634174406528473,-5.923656225204468 l19.198589324951172,-44.71640586853027 m-4.180663824081421,2.75421142578125 l-0.7712644338607788,-13.266092538833618 m8.522093892097473,54.2848014831543 l9.698386788368225,-3.633209466934204 5.0387996435165405,-9.43534255027771 m-16.727111339569092,25.412323474884033 l-0.46834345906972885,0.7718059420585632 \" fill=\"none\" stroke=\"black\" stroke-width=\"1\"/></svg>"
      ],
      "text/plain": [
       "<IPython.core.display.SVG object>"
      ]
     },
     "metadata": {},
     "output_type": "display_data"
    }
   ],
   "source": [
    "stroke_list = []\n",
    "for i in range(10):\n",
    "  stroke_list.append([decode(z, draw_mode=False, temperature=0.1*i+0.1), [0, i]])\n",
    "stroke_grid = make_grid_svg(stroke_list)\n",
    "draw_strokes(stroke_grid)"
   ]
  },
  {
   "cell_type": "markdown",
   "metadata": {
    "id": "oXYXn97rDoIB"
   },
   "source": [
    "#### **Interpolating between two samples**\n",
    "Now let's see what happens when we interpolate between two different cats!"
   ]
  },
  {
   "cell_type": "code",
   "execution_count": 114,
   "metadata": {
    "colab": {
     "base_uri": "https://localhost:8080/",
     "height": 427
    },
    "id": "OlwyTspJDoIB",
    "outputId": "ded7d1b2-83a7-4ca8-961e-af5b6018212e",
    "scrolled": false
   },
   "outputs": [
    {
     "data": {
      "image/svg+xml": [
       "<svg baseProfile=\"full\" height=\"253.77505272626877\" version=\"1.1\" width=\"200.96341490745544\" xmlns=\"http://www.w3.org/2000/svg\" xmlns:ev=\"http://www.w3.org/2001/xml-events\" xmlns:xlink=\"http://www.w3.org/1999/xlink\"><defs/><rect fill=\"white\" height=\"253.77505272626877\" width=\"200.96341490745544\" x=\"0\" y=\"0\"/><path d=\"M50,203.77505272626877 m3.1065666675567627,-0.7766416668891907 l12.814587354660034,-12.814587354660034 23.299250602722168,-27.182457447052002 l34.56055402755737,-46.986823081970215 10.096341371536255,-18.639400005340576 m-55.52988052368164,69.12110805511475 l-5.048170685768127,-13.97955060005188 0.0,-12.037945985794067 l5.048170685768127,-13.202908039093018 8.15473735332489,-12.42626667022705 l9.319700002670288,-10.484662055969238 12.814587354660034,-10.096341371536255 l6.98977530002594,-7.378095984458923 9.708020687103271,-6.98977530002594 l8.15473735332489,-8.543058633804321 5.048170685768127,-7.378095984458923 l4.271529316902161,-13.97955060005188 6.601454019546509,25.24085521697998 l1.5532833337783813,11.649625301361084 0.0,41.93864822387695 l-4.271529316902161,13.202908039093018 -6.213133335113525,12.814587354660034 l-7.766416668891907,10.096341371536255 -11.649625301361084,8.931379318237305 l-11.2613046169281,3.1065666675567627 -22.5226092338562,0.0 \" fill=\"none\" stroke=\"black\" stroke-width=\"1\"/></svg>"
      ],
      "text/plain": [
       "<IPython.core.display.SVG object>"
      ]
     },
     "metadata": {},
     "output_type": "display_data"
    },
    {
     "data": {
      "image/svg+xml": [
       "<svg baseProfile=\"full\" height=\"245.5692184716463\" version=\"1.1\" width=\"200.3355011343956\" xmlns=\"http://www.w3.org/2000/svg\" xmlns:ev=\"http://www.w3.org/2001/xml-events\" xmlns:xlink=\"http://www.w3.org/1999/xlink\"><defs/><rect fill=\"white\" height=\"245.5692184716463\" width=\"200.3355011343956\" x=\"0\" y=\"0\"/><path d=\"M50.036392759066075,195.4861681908369 m-0.03639275906607509,0.08305028080940247 l2.967269718647003,-0.8378464728593826 12.502533197402954,-12.817994356155396 l27.63873815536499,-32.2043776512146 26.95859432220459,-37.638704776763916 l10.216776132583618,-21.124634742736816 m-53.72471332550049,72.23916053771973 l-0.6805554032325745,-12.000354528427124 1.9380705058574677,-23.292975425720215 l3.632526695728302,-10.517650842666626 4.773160219192505,-7.987300753593445 l6.947727799415588,-8.450693488121033 9.489721655845642,-8.629593849182129 l11.57707691192627,-9.127867221832275 11.38148546218872,-9.319855570793152 l9.652146100997925,-9.487648010253906 9.663379192352295,-14.37088131904602 l1.3680778443813324,0.8079396933317184 0.5350556969642639,13.682907819747925 l3.4984302520751953,27.880938053131104 -0.015840308042243123,19.172992706298828 l-6.069674491882324,25.408246517181396 -6.041925549507141,11.760725975036621 l-8.17791998386383,8.260164260864258 -14.06692385673523,6.524426341056824 l-18.366901874542236,1.6900613903999329 -14.808059930801392,-5.8677250146865845 \" fill=\"none\" stroke=\"black\" stroke-width=\"1\"/></svg>"
      ],
      "text/plain": [
       "<IPython.core.display.SVG object>"
      ]
     },
     "metadata": {},
     "output_type": "display_data"
    }
   ],
   "source": [
    "z0 = z\n",
    "\n",
    "# Get a sample drawing from the test set, and render it to .svg\n",
    "stroke = test_set.random_sample()\n",
    "draw_strokes(stroke)\n",
    "z1 = encode(stroke)\n",
    "_ = decode(z1) # convert z back to drawing at temperature of 0.5\n",
    "\n",
    "z1 = np.squeeze(z1)\n",
    "z0 = np.squeeze(z0)"
   ]
  },
  {
   "cell_type": "code",
   "execution_count": 115,
   "metadata": {
    "id": "6ViGcUmRDoIC"
   },
   "outputs": [],
   "source": [
    "def interpolate_z(z_0, z_1, draw=True):\n",
    "    z_list = [] # interpolate spherically between z0 and z1\n",
    "    N = 10\n",
    "    for t in np.linspace(0, 1, N):\n",
    "        z_list.append(slerp(z_0, z_1, t))\n",
    "    # for every latent vector in z_list, sample a vector image\n",
    "    reconstructions = []\n",
    "    for i in range(N):\n",
    "        reconstructions.append([decode(np.expand_dims(z_list[i],axis=0), draw_mode=False), [0, i]])\n",
    "    stroke_grid = make_grid_svg(reconstructions)\n",
    "    if draw:\n",
    "        draw_strokes(stroke_grid)"
   ]
  },
  {
   "cell_type": "code",
   "execution_count": 116,
   "metadata": {
    "colab": {
     "base_uri": "https://localhost:8080/",
     "height": 387
    },
    "id": "gl2blUEFDoID",
    "outputId": "d42969c1-3ab9-4bc1-864b-7eeaa203de86",
    "scrolled": true
   },
   "outputs": [
    {
     "data": {
      "image/svg+xml": [
       "<svg baseProfile=\"full\" height=\"287.34347246587276\" version=\"1.1\" width=\"3189.5946612372063\" xmlns=\"http://www.w3.org/2000/svg\" xmlns:ev=\"http://www.w3.org/2001/xml-events\" xmlns:xlink=\"http://www.w3.org/1999/xlink\"><defs/><rect fill=\"white\" height=\"287.34347246587276\" width=\"3189.5946612372063\" x=\"0\" y=\"0\"/><path d=\"M50,50 m0.0,0.0 m137.64114998281002,160.83176255226135 l0.053469124250113964,-0.0616014888510108 -0.28505435213446617,-6.549246907234192 l5.283250212669373,-20.560953617095947 15.781859159469604,-56.094489097595215 l12.182395458221436,-17.622029781341553 m-27.607533931732178,77.8717565536499 l-6.6343605518341064,-5.9117209911346436 -7.600996494293213,-14.483084678649902 l-1.6493703424930573,-10.60012698173523 0.8032818138599396,-12.22097635269165 l3.655191659927368,-9.867884516716003 6.140362024307251,-8.91003668308258 l7.3064881563186646,-7.280426621437073 11.350035667419434,-8.403595089912415 l12.461738586425781,-11.092839241027832 6.380944848060608,-9.937871098518372 l-1.0538604110479355,13.988927602767944 2.410772293806076,25.08152484893799 l3.6971020698547363,29.293804168701172 -1.121140569448471,13.415417671203613 l-4.234651327133179,10.86013913154602 -6.3542526960372925,7.970758676528931 l-13.411959409713745,7.851844429969788 -6.388866901397705,1.1678389459848404 l-3.5196909308433533,-1.0828741639852524 -0.9101784229278564,-3.024241030216217 m9.323859810829163,-13.905116319656372 l7.864104509353638,-40.32740592956543 0.3748871013522148,-21.339704990386963 m1.0636835545301437,33.98394584655762 l14.32354211807251,-6.600992679595947 15.615928173065186,-6.875402331352234 m-36.93673133850098,27.90823221206665 l29.492003917694092,-3.275962471961975 m-33.74494552612305,18.089933395385742 l26.11835241317749,-1.2205820530653 m278.9267264539376,37.32915238942951 l0.18184199929237366,0.3416067361831665 0.2684221789240837,-5.780013203620911 l6.933889985084534,-20.702733993530273 19.502601623535156,-57.48983383178711 l15.858769416809082,-26.21499538421631 m-33.748958110809326,83.88750076293945 l-4.313922822475433,-6.495727896690369 -6.965299844741821,-15.63789963722229 l-2.1477900445461273,-10.203818082809448 -0.5008313804864883,-12.531445026397705 l1.9338928163051605,-9.8533695936203 4.702832996845245,-10.067689418792725 l6.594509482383728,-9.053153395652771 8.640779852867126,-8.049730062484741 l19.639447927474976,-13.095203638076782 6.244409680366516,-6.664524078369141 l4.554233253002167,-8.839110136032104 -1.5163183212280273,16.565687656402588 l2.5483712553977966,26.752638816833496 3.289007246494293,25.92686653137207 l-0.8823520690202713,14.401218891143799 -4.244487285614014,12.985306978225708 l-6.247605085372925,10.297809839248657 -8.093292713165283,7.19572126865387 l-10.02162218093872,4.697074294090271 -5.630761981010437,0.5990803614258766 l-2.777288258075714,-1.7204639315605164 m13.147827386856079,-43.98051738739014 l10.055756568908691,-8.140511512756348 5.501987934112549,-4.106135070323944 m-17.67411231994629,11.762995719909668 l-9.786775708198547,-22.33468532562256 m8.27602505683899,31.511940956115723 l19.01728630065918,-8.169368505477905 m-25.47868013381958,21.302943229675293 m296.4469374343753,47.34872277826071 l0.2514588460326195,0.6543370336294174 0.7899265736341476,-5.053620934486389 l8.33238661289215,-20.551846027374268 23.461225032806396,-58.9402961730957 l19.261727333068848,-30.926620960235596 m-40.47218322753906,86.37011528015137 l-2.5677332282066345,-8.758650422096252 -5.718350410461426,-17.268168926239014 l-2.0322589576244354,-10.59962511062622 -1.0163891315460205,-11.89851999282837 l1.1140374094247818,-9.672572612762451 3.5069245100021362,-9.838292002677917 l5.495322346687317,-9.305246472358704 8.057945966720581,-9.049113392829895 l21.787679195404053,-14.861626625061035 8.326157331466675,-8.384817242622375 l6.023645401000977,-10.945216417312622 -1.7601187527179718,9.918140769004822 l1.235896646976471,19.040788412094116 5.263535380363464,25.488524436950684 l0.6980878859758377,18.446152210235596 -4.291936159133911,23.606903553009033 l-4.542893767356873,11.203058958053589 -5.977517366409302,8.614311814308167 l-8.13282310962677,7.3247116804122925 -9.570981860160828,4.389907717704773 l-8.866746425628662,0.6007837876677513 -4.477901756763458,-2.141621559858322 m20.452070236206055,-43.421921730041504 l11.629257202148438,-6.68067991733551 m-11.78865671157837,4.853644073009491 l-6.0225313901901245,-15.478557348251343 m5.148987174034119,15.995450019836426 l11.580511331558228,-3.12846839427948 m269.5513568073511,72.06658836454153 l0.31641773879528046,0.8499681949615479 1.2642239034175873,-4.261751770973206 l9.717522859573364,-20.147390365600586 26.29835844039917,-57.73577690124512 l22.350969314575195,-35.554890632629395 4.25131767988205,-10.997337102890015 m-45.273098945617676,93.46657752990723 l-9.40625548362732,-6.495687961578369 -6.4109450578689575,-11.552356481552124 l-2.4952037632465363,-17.618237733840942 1.4878636598587036,-14.018926620483398 l4.193759262561798,-12.01187252998352 6.383393406867981,-10.468432903289795 l8.859331607818604,-9.853416681289673 11.149885654449463,-8.967610001564026 l11.971831321716309,-8.72580349445343 10.203347206115723,-7.938831448554993 l8.11994731426239,-10.13824462890625 1.255941241979599,1.1591674387454987 l2.797039747238159,15.13851284980774 3.6100006103515625,30.14305591583252 l-0.7505280524492264,28.109798431396484 -3.6053407192230225,15.434355735778809 l-5.015227198600769,12.89932370185852 -5.608381628990173,9.500463604927063 l-4.889518320560455,5.134168267250061 -7.841723561286926,4.718653559684753 l-8.700529932975769,2.269475758075714 -4.31724339723587,-1.037348359823227 m12.652720212936401,-53.0763053894043 l12.039098739624023,-4.876541197299957 m-15.71235179901123,14.199681282043457 l14.641377925872803,0.2996817044913769 m261.1221662722528,79.77455513551831 l0.3351793810725212,0.9967765957117081 1.7354083061218262,-3.594454824924469 l10.734926462173462,-19.330413341522217 28.59083652496338,-55.62519073486328 l24.61721897125244,-38.390374183654785 6.6097986698150635,-15.008682012557983 m-48.724050521850586,93.3165454864502 l-8.184874057769775,-7.418726086616516 -5.756903290748596,-11.804618835449219 l-2.419148236513138,-17.357348203659058 1.4029014110565186,-13.49293828010559 l3.6846619844436646,-11.364898681640625 6.397541165351868,-11.036708354949951 l9.1372150182724,-10.569475889205933 11.645433902740479,-9.872759580612183 l11.791635751724243,-8.630484938621521 10.807198286056519,-8.74039113521576 l8.656730055809021,-10.98762035369873 4.836515784263611,-8.352803587913513 l0.4600300267338753,15.632878541946411 3.126007914543152,23.811945915222168 l1.8598133325576782,27.79341459274292 -1.8607378005981445,17.470890283584595 l-6.087251901626587,21.3859224319458 -4.472293853759766,9.969471096992493 l-3.9212679862976074,5.733548998832703 -8.347737789154053,7.388889193534851 l-10.036951303482056,5.406031608581543 -10.307207107543945,2.8323855996131897 m9.85450565814972,-48.724398612976074 l11.136831045150757,-8.813576698303223 m-10.39713978767395,13.104658126831055 m268.97598061710596,76.49004466831684 l0.3349433094263077,0.9952618926763535 2.1035705506801605,-2.8927183151245117 l11.634471416473389,-18.466428518295288 29.690587520599365,-52.44508743286133 l26.67506456375122,-39.352593421936035 8.049288988113403,-18.74089479446411 m-49.98556613922119,91.45829200744629 l-6.96702241897583,-7.765549421310425 -7.0178210735321045,-17.533971071243286 l-0.7543983310461044,-10.54839015007019 1.4072567224502563,-14.030243158340454 l4.20453667640686,-12.669872045516968 6.42889142036438,-11.361792087554932 l9.208829402923584,-10.622254610061646 11.247925758361816,-9.781186580657959 l12.32930064201355,-9.370237588882446 10.922307968139648,-8.43609631061554 l9.728726744651794,-11.06633186340332 4.839840233325958,-9.071065783500671 l-0.5898710712790489,13.551706075668335 2.8802645206451416,22.832629680633545 l3.2111001014709473,27.42734432220459 -1.2341456860303879,18.54192614555359 l-4.9094584584236145,17.74709701538086 -6.224550008773804,13.912690877914429 l-7.264816761016846,10.549712181091309 -8.313825130462646,7.35302209854126 l-10.43819546699524,5.2826350927352905 -10.557199716567993,2.222665846347809 m9.685842990875244,-44.871535301208496 m267.72683842107654,73.71921680867672 l0.2976536937057972,0.9199176728725433 2.4190908670425415,-2.3063400387763977 l12.241343259811401,-17.275267839431763 30.69472074508667,-48.31284999847412 l27.59521245956421,-40.98951816558838 9.88323450088501,-20.08549213409424 m-52.365784645080566,88.28109741210938 l-6.384730935096741,-9.072608351707458 -5.531889796257019,-18.106889724731445 l-0.2377115935087204,-11.211720705032349 2.291620820760727,-13.359023332595825 l4.848335385322571,-11.965830326080322 7.032819390296936,-11.085058450698853 l9.30759072303772,-10.060486793518066 11.506751775741577,-9.894392490386963 l12.267839908599854,-9.482264518737793 10.542587041854858,-8.623761534690857 l9.919096827507019,-12.281917333602905 1.3235445320606232,0.6649075448513031 l2.1774621307849884,11.076900959014893 1.9913452863693237,21.04604721069336 l1.6193701326847076,30.27954339981079 -3.291580080986023,25.058176517486572 l-4.402204751968384,13.273899555206299 -5.712538957595825,10.913989543914795 l-7.536674737930298,8.720831871032715 -9.898989200592041,6.922982931137085 l-11.47204041481018,3.6895424127578735 -6.126613020896912,-0.6631731241941452 m12.759640216827393,-47.84696102142334 m260.0318239815533,79.61140014231205 l0.2331058867275715,0.7305260002613068 2.696216106414795,-1.7298144102096558 l12.558504343032837,-15.975568294525146 30.932705402374268,-44.126763343811035 l27.26921319961548,-39.42045450210571 10.546029806137085,-21.827032566070557 m-54.579315185546875,86.45545959472656 l-4.473295509815216,-10.469543933868408 -3.5921168327331543,-19.092777967453003 l0.4127161204814911,-10.416944026947021 3.0515503883361816,-12.913675308227539 l5.568268895149231,-11.389760971069336 7.907581925392151,-10.794917345046997 l9.909111261367798,-9.914625883102417 11.900709867477417,-9.453161358833313 l11.687477827072144,-9.028204083442688 9.921786189079285,-8.836321234703064 l9.799681305885315,-12.569581270217896 1.3100096583366394,1.1667483299970627 l1.5769067406654358,14.10175085067749 3.1574562191963196,26.526942253112793 l-0.10112245567142963,26.783695220947266 -3.3233752846717834,17.253711223602295 l-5.824862122535706,15.526525974273682 -7.100160121917725,11.77032470703125 l-9.13397490978241,8.68720829486847 -11.641125679016113,5.730834007263184 l-13.615096807479858,1.7567083239555359 m270.79858939163387,30.753533467650414 l0.09824737906455994,0.44629551470279694 2.863359749317169,-1.2774235010147095 l12.767361402511597,-14.556243419647217 29.34286117553711,-38.27098846435547 l27.53753900527954,-38.611745834350586 12.047734260559082,-23.046414852142334 m-54.341673851013184,79.79689598083496 l-3.4508058428764343,-10.771678686141968 -1.827009916305542,-18.53602409362793 l2.0143812894821167,-14.301342964172363 4.139774143695831,-10.513399839401245 l6.2958890199661255,-9.825066924095154 8.903163075447083,-9.471237063407898 l10.747556686401367,-8.671250343322754 12.466990947723389,-9.9082350730896 l10.936787128448486,-9.565940499305725 8.303422331809998,-9.062718152999878 l8.093138933181763,-13.4805166721344 -0.26378333568573,8.524919152259827 l1.782371699810028,18.143008947372437 3.49578857421875,28.371059894561768 l-0.6466522067785263,19.017679691314697 -5.024400949478149,18.399181365966797 l-7.357949614524841,14.600330591201782 -13.124040365219116,14.725865125656128 l-9.277088046073914,4.076308906078339 -13.353186845779419,0.2575758472084999 l-7.8569042682647705,-3.0254989862442017 m275.98263658583164,26.60665214061737 l-0.037253855261951685,0.07732034660875797 2.945156991481781,-0.8494003862142563 l12.544043064117432,-12.767512798309326 27.414979934692383,-32.12841510772705 l27.697949409484863,-38.23602914810181 9.926873445510864,-21.1124587059021 m-53.311214447021484,72.83664226531982 l-0.9194635599851608,-12.600101232528687 1.1539164185523987,-17.85473942756653 l3.5278362035751343,-12.799633741378784 5.4708439111709595,-9.649776816368103 l7.5651615858078,-9.367300868034363 9.803890585899353,-9.065447449684143 l10.95781922340393,-8.737667202949524 10.68158507347107,-8.506920337677002 l13.3128821849823,-13.736876249313354 4.775454103946686,-5.637788772583008 l1.5487180650234222,0.7857659459114075 1.1734054237604141,12.319586277008057 l2.993992567062378,28.051652908325195 -0.29835158959031105,25.447204113006592 l-3.963175415992737,16.218199729919434 -11.225255727767944,19.60806369781494 l-8.099089860916138,6.09281063079834 -14.094254970550537,3.6101919412612915 l-17.788325548171997,-1.3358570635318756 -11.167758703231812,-6.564291715621948 \" fill=\"none\" stroke=\"black\" stroke-width=\"1\"/></svg>"
      ],
      "text/plain": [
       "<IPython.core.display.SVG object>"
      ]
     },
     "metadata": {},
     "output_type": "display_data"
    }
   ],
   "source": [
    "interpolate_z(z0,z1)"
   ]
  },
  {
   "cell_type": "markdown",
   "metadata": {
    "id": "IPcIU4zEDoID"
   },
   "source": [
    "#### **Random Inputs**\n",
    "Since this is a Variational Autoencoder, we don't need to use an actual sketch in order to generate new sketches. We can sample randomly within the latent space and feed the result to the decoder."
   ]
  },
  {
   "cell_type": "code",
   "execution_count": null,
   "metadata": {
    "colab": {
     "base_uri": "https://localhost:8080/",
     "height": 213
    },
    "id": "wx0gAGXNDoIE",
    "outputId": "bd0a2deb-c36f-46fa-f3ef-eebe824e9f5d",
    "scrolled": false
   },
   "outputs": [],
   "source": [
    "random_input = np.expand_dims(np.random.randn(model_params.z_size),0)\n",
    "_ = decode(random_input)"
   ]
  },
  {
   "cell_type": "code",
   "execution_count": null,
   "metadata": {
    "id": "Asg0OHtycdth"
   },
   "outputs": [],
   "source": []
  }
 ],
 "metadata": {
  "accelerator": "GPU",
  "colab": {
   "collapsed_sections": [],
   "name": "SketchGen.ipynb",
   "provenance": [],
   "toc_visible": true
  },
  "kernelspec": {
   "display_name": "Python 3",
   "language": "python",
   "name": "python3"
  },
  "language_info": {
   "codemirror_mode": {
    "name": "ipython",
    "version": 3
   },
   "file_extension": ".py",
   "mimetype": "text/x-python",
   "name": "python",
   "nbconvert_exporter": "python",
   "pygments_lexer": "ipython3",
   "version": "3.7.6"
  }
 },
 "nbformat": 4,
 "nbformat_minor": 1
}
